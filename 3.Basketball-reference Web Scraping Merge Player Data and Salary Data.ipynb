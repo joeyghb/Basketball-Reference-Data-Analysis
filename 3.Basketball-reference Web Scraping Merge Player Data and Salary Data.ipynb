{
 "cells": [
  {
   "cell_type": "markdown",
   "metadata": {},
   "source": [
    "# Basketball-reference Web Scraping Merge Player Data and Salary Data"
   ]
  },
  {
   "cell_type": "code",
   "execution_count": 1,
   "metadata": {
    "collapsed": false
   },
   "outputs": [
    {
     "name": "stdout",
     "output_type": "stream",
     "text": [
      "IPython version: 3.1.0\n",
      "pandas version: 0.15.2\n",
      "requests version: 2.7.0\n",
      "re version: 2.2.1\n"
     ]
    }
   ],
   "source": [
    "# special IPython command to prepare the notebook for matplotlib\n",
    "from collections import defaultdict\n",
    "\n",
    "import IPython\n",
    "import os\n",
    "import pandas as pd\n",
    "import matplotlib.pyplot as plt\n",
    "import requests\n",
    "import re\n",
    "import string\n",
    "from pattern import web\n",
    "\n",
    "print 'IPython version:', IPython.__version__\n",
    "print 'pandas version:', pd.__version__\n",
    "print 'requests version:', requests.__version__\n",
    "print 're version:', re.__version__\n",
    "#print 'current path:',os.getcwd()"
   ]
  },
  {
   "cell_type": "markdown",
   "metadata": {},
   "source": [
    "###Team Mapping"
   ]
  },
  {
   "cell_type": "code",
   "execution_count": 2,
   "metadata": {
    "collapsed": false
   },
   "outputs": [],
   "source": [
    "team_list = [\"Atlanta Hawks\",\"Boston Celtics\",\"Brooklyn Nets\",\"Charlotte Bobcats\",\"Chicago Bulls\",\"Charlotte Hornets\",\"Cleveland Cavaliers\",\"Dallas Mavericks\",\"Denver Nuggets\",\"Detroit Pistons\"\n",
    "             ,\"Golden State Warriors\",\"Houston Rockets\",\"Indiana Pacers\",\"Los Angeles Clippers\",\"Los Angeles Lakers\",\"Memphis Grizzlies\",\"Miami Heat\",\"Milwaukee Bucks\",\"Minnesota Timberwolves\",\"New Jersey Nets\"\n",
    "             ,\"New Orleans Hornets\",\"New Orleans/Oklahoma City Hornets\",\"New Orleans Pelicans\",\"New York Knicks\",\"Oklahoma City Thunder\",\"Orlando Magic\",\"Philadelphia 76ers\",\"Phoenix Suns\",\"Portland Trail Blazers\",\"Sacramento Kings\"\n",
    "             ,\"San Antonio Spurs\",\"Seattle SuperSonics\",\"Toronto Raptors\",\"Utah Jazz\",\"Washington Wizards\"]\n",
    "\n",
    "alias_list = [\"ATL\",\"BOS\",\"BRK\",\"CHA\",\"CHI\",\"CHO\",\"CLE\",\"DAL\",\"DEN\",\"DET\"\n",
    "              ,\"GSW\",\"HOU\",\"IND\",\"LAC\",\"LAL\",\"MEM\",\"MIA\",\"MIL\",\"MIN\",\"NJN\"\n",
    "              ,\"NOH\",\"NOK\",\"NOP\",\"NYK\",\"OKC\",\"ORL\",\"PHI\",\"PHO\",\"POR\",\"SAC\"\n",
    "              ,\"SAS\",\"SEA\",\"TOR\",\"UTA\",\"WAS\"]"
   ]
  },
  {
   "cell_type": "markdown",
   "metadata": {},
   "source": [
    "## Read Player list"
   ]
  },
  {
   "cell_type": "code",
   "execution_count": 3,
   "metadata": {
    "collapsed": false
   },
   "outputs": [
    {
     "name": "stdout",
     "output_type": "stream",
     "text": [
      "<class 'pandas.core.frame.DataFrame'>\n",
      "Int64Index: 562 entries, 0 to 561\n",
      "Data columns (total 9 columns):\n",
      "Player        562 non-null object\n",
      "From          562 non-null int64\n",
      "To            562 non-null int64\n",
      "Pos           562 non-null object\n",
      "Ht            562 non-null object\n",
      "Wt            562 non-null int64\n",
      "Birth Date    562 non-null object\n",
      "College       461 non-null object\n",
      "link          562 non-null object\n",
      "dtypes: int64(3), object(6)\n",
      "memory usage: 43.9+ KB\n"
     ]
    }
   ],
   "source": [
    "df_player = pd.read_csv('2014-15 NBA player_list.csv', header=0)\n",
    "\n",
    "df_player.info()\n",
    "#df_player.describe()\n"
   ]
  },
  {
   "cell_type": "markdown",
   "metadata": {},
   "source": [
    "#Fetch player information page"
   ]
  },
  {
   "cell_type": "code",
   "execution_count": 4,
   "metadata": {
    "collapsed": false
   },
   "outputs": [
    {
     "name": "stdout",
     "output_type": "stream",
     "text": [
      "Amar'e Stoudemire\n",
      "http://www.basketball-reference.com/players/s/stoudam01.html\n"
     ]
    }
   ],
   "source": [
    "player_name = df_player['Player'][475]\n",
    "player_information_url = df_player['link'][475]\n",
    "\n",
    "print player_name\n",
    "print player_information_url\n",
    "\n",
    "#player_website_html = requests.get(player_information_url.values[0]).text\n",
    "#print player_website_html.decode"
   ]
  },
  {
   "cell_type": "markdown",
   "metadata": {},
   "source": [
    "### Player page table"
   ]
  },
  {
   "cell_type": "code",
   "execution_count": 5,
   "metadata": {
    "collapsed": false
   },
   "outputs": [
    {
     "name": "stdout",
     "output_type": "stream",
     "text": [
      "table length: 18\n",
      "{u'class': u'sortable  row_summable stats_table', u'id': u'totals'}\n",
      "{u'class': u'sortable  row_summable stats_table', u'id': u'per_game'}\n",
      "{u'class': u'sortable  row_summable stats_table', u'id': u'per_minute'}\n",
      "{u'class': u'sortable  row_summable stats_table', u'id': u'per_poss'}\n",
      "{u'class': u'sortable  row_summable stats_table', u'id': u'advanced'}\n",
      "{u'class': u'sortable  row_summable stats_table', u'id': u'shooting'}\n",
      "{u'class': u'sortable  row_summable stats_table', u'id': u'advanced_pbp'}\n",
      "{u'class': u'sortable  row_summable stats_table', u'id': u'playoffs_totals'}\n",
      "{u'class': u'sortable  row_summable stats_table', u'id': u'playoffs_per_game'}\n",
      "{u'class': u'sortable  row_summable stats_table', u'id': u'playoffs_per_minute'}\n",
      "{u'class': u'sortable  row_summable stats_table', u'id': u'playoffs_per_poss'}\n",
      "{u'class': u'sortable  row_summable stats_table', u'id': u'playoffs_advanced'}\n",
      "{u'class': u'sortable  row_summable stats_table', u'id': u'playoffs_shooting'}\n",
      "{u'class': u'sortable  row_summable stats_table', u'id': u'playoffs_advanced_pbp'}\n",
      "{u'class': u'sortable  row_summable stats_table', u'id': u'all_star'}\n",
      "{u'class': u'sortable  stats_table suppress_all', u'id': u'sim_thru'}\n",
      "{u'class': u'sortable  stats_table suppress_all', u'id': u'sim_career'}\n",
      "{u'class': u'sortable  stats_table', u'id': u'salaries'}\n",
      "================================================================================\n",
      "defaultdict(<type 'list'>, {u'playoffs_advanced': [Element(tag=u'table')], u'playoffs_per_poss': [Element(tag=u'table')], u'playoffs_shooting': [Element(tag=u'table')], u'per_poss': [Element(tag=u'table')], u'per_minute': [Element(tag=u'table')], u'playoffs_totals': [Element(tag=u'table')], u'salaries': [Element(tag=u'table')], u'totals': [Element(tag=u'table')], u'playoffs_advanced_pbp': [Element(tag=u'table')], u'playoffs_per_game': [Element(tag=u'table')], u'per_game': [Element(tag=u'table')], u'sim_career': [Element(tag=u'table')], u'playoffs_per_minute': [Element(tag=u'table')], u'advanced_pbp': [Element(tag=u'table')], u'shooting': [Element(tag=u'table')], u'all_star': [Element(tag=u'table')], u'advanced': [Element(tag=u'table')], u'sim_thru': [Element(tag=u'table')]})\n"
     ]
    }
   ],
   "source": [
    "def get_player_html_tables(html):\n",
    "    \"\"\"Parse html and return html tables of basketball-reference player data.\"\"\"\n",
    "\n",
    "    dom = web.Element(html)\n",
    "    \n",
    "    #### 1. step: get all tables\n",
    "    #tbls = dom('table')\n",
    "    #### 2. step: get all tables we care about\n",
    "    tbls = dom.by_class('sortable')\n",
    "    return tbls\n",
    "\n",
    "def player_table_type(tbl):\n",
    "    ### Extract the player_table type\n",
    "    return tbl.id\n",
    "\n",
    "def player_information(player_information_url):\n",
    "    player_website_html = requests.get(player_information_url).text\n",
    "    #print player_website_html.decode\n",
    "    player_information_tables = get_player_html_tables(player_website_html)\n",
    "    \n",
    "    ### player_table to dict ####\n",
    "    player_table_by_type = {}\n",
    "    \n",
    "    for tbl in player_information_tables:\n",
    "        typ = player_table_type(tbl)\n",
    "        if typ not in player_table_by_type:\n",
    "            player_table_by_type[typ] = list()  # equivalent to []\n",
    "        player_table_by_type[typ].append(tbl)\n",
    "\n",
    "    # group the player_tables by type\n",
    "    player_tables_by_type = defaultdict(list)\n",
    "    \n",
    "    # defaultdicts have a default value that is inserted when a new key is accessed\n",
    "    for tbl in player_information_tables:\n",
    "        player_tables_by_type[player_table_type(tbl)].append(tbl)\n",
    "    #print player_tables_by_type\n",
    "    \n",
    "    # return player_information_tables,player_tables_by_type\n",
    "    return (player_information_tables,player_tables_by_type)\n",
    "\n",
    "### Function call ###\n",
    "(player_information_tables,player_tables_by_type) = player_information(player_information_url)\n",
    "\n",
    "print \"table length: %d\" %len(player_information_tables)\n",
    "for t in player_information_tables:\n",
    "    print t.attributes\n",
    "\n",
    "print \"=\" *80\n",
    "    \n",
    "print player_tables_by_type"
   ]
  },
  {
   "cell_type": "markdown",
   "metadata": {},
   "source": [
    "### Salary"
   ]
  },
  {
   "cell_type": "code",
   "execution_count": 6,
   "metadata": {
    "collapsed": false
   },
   "outputs": [
    {
     "name": "stdout",
     "output_type": "stream",
     "text": [
      "     Season              Team   Tm   Lg       Salary               Name\n",
      "7   2002-03      Phoenix Suns  PHO  NBA   $1,767,120  Amar'e Stoudemire\n",
      "9   2003-04      Phoenix Suns  PHO  NBA   $1,899,720  Amar'e Stoudemire\n",
      "13  2004-05      Phoenix Suns  PHO  NBA   $2,032,200  Amar'e Stoudemire\n",
      "4   2005-06      Phoenix Suns  PHO  NBA   $2,589,023  Amar'e Stoudemire\n",
      "11  2006-07      Phoenix Suns  PHO  NBA  $12,455,000  Amar'e Stoudemire\n",
      "5   2007-08      Phoenix Suns  PHO  NBA  $13,762,775  Amar'e Stoudemire\n",
      "10  2008-09      Phoenix Suns  PHO  NBA  $15,070,550  Amar'e Stoudemire\n",
      "12  2009-10      Phoenix Suns  PHO  NBA  $16,378,325  Amar'e Stoudemire\n",
      "0   2010-11   New York Knicks  NYK  NBA  $16,486,611  Amar'e Stoudemire\n",
      "6   2011-12   New York Knicks  NYK  NBA  $18,217,705  Amar'e Stoudemire\n",
      "2   2012-13   New York Knicks  NYK  NBA  $19,948,799  Amar'e Stoudemire\n",
      "3   2013-14   New York Knicks  NYK  NBA  $21,679,893  Amar'e Stoudemire\n",
      "8   2014-15  Dallas Mavericks  DAL  NBA     $485,670  Amar'e Stoudemire\n",
      "1   2014-15   New York Knicks  NYK  NBA  $23,410,988  Amar'e Stoudemire\n"
     ]
    }
   ],
   "source": [
    "def get_players_salaries(tables):\n",
    "    \"\"\"Extract Active players data for players from all tables and store it in dictionary.\"\"\"\n",
    "    salaries_dict={}\n",
    "    salaries_list=[] ### (Season,Team,Lg,Salary)\n",
    "    \n",
    "    # 1. step: try to extract data for a single table\n",
    "    for tbl in tables:\n",
    "        headers = tbl('tr')\n",
    "        #print headers\n",
    "        first_header = headers[0]\n",
    "        #print first_header\n",
    "        th_s = first_header('th')\n",
    "        #print th_s    \n",
    "        title = [val.content for val in th_s ]\n",
    "        #print title\n",
    "                \n",
    "        # 2. step: iterate over all tables, extract headings and actual data and combine data into single dict\n",
    "        rows = tbl('tr')[1:-1]\n",
    "        for row in rows:\n",
    "            \n",
    "            tds = row('td')\n",
    "            \n",
    "            ### if row content is null , set default string ###\n",
    "            f_content = (lambda x: \"\" if len(x) == 0 else x.content)\n",
    "            ### if row a_herf is null , set default string ###\n",
    "            f_ahref = (lambda x: \"\" if len(x) == 0 else x('a')[0].content)\n",
    "            \n",
    "            Season    = f_content(tds[0]) ; #print Season\n",
    "            Team      = f_ahref(tds[1])   ; #print Team\n",
    "            Tm        = alias_list[team_list.index(Team)] #print Tm\n",
    "            Lg        = f_ahref(tds[2]) ; #print Lg\n",
    "            Salary    = f_content(tds[3]) ; #print Salary\n",
    "\n",
    "            salaries_list=[Season,Team,Tm,Lg,Salary]\n",
    "            salaries_dict[Season+Tm]=salaries_list\n",
    "\n",
    "    return salaries_dict\n",
    "\n",
    "\n",
    "### Fucnction call ###\n",
    "salaries_dict=get_players_salaries(player_tables_by_type[u'salaries'])\n",
    "\n",
    "if len(salaries_dict) > 0:\n",
    "    #print salaries_dict\n",
    "    df_salaries = pd.DataFrame(salaries_dict.values())\n",
    "    df_salaries['name'] = player_name\n",
    "    df_salaries.columns=['Season','Team','Tm','Lg','Salary','Name']    \n",
    "    print df_salaries.sort_index(by='Season')"
   ]
  },
  {
   "cell_type": "markdown",
   "metadata": {},
   "source": [
    "### Season Totals"
   ]
  },
  {
   "cell_type": "code",
   "execution_count": 7,
   "metadata": {
    "collapsed": false
   },
   "outputs": [
    {
     "name": "stdout",
     "output_type": "stream",
     "text": [
      "     Season Age   Tm   Lg Pos   G  GS    MP   FG   FGA        ...          \\\n",
      "7   2002-03  20  PHO  NBA  PF  82  71  2570  392   830        ...           \n",
      "10  2003-04  21  PHO  NBA  PF  55  53  2025  411   865        ...           \n",
      "14  2004-05  22  PHO  NBA   C  80  80  2889  747  1336        ...           \n",
      "4   2005-06  23  PHO  NBA   C   3   3    50    9    27        ...           \n",
      "12  2006-07  24  PHO  NBA   C  82  78  2689  607  1055        ...           \n",
      "5   2007-08  25  PHO  NBA   C  79  79  2677  714  1211        ...           \n",
      "11  2008-09  26  PHO  NBA  PF  53  53  1948  404   749        ...           \n",
      "13  2009-10  27  PHO  NBA  PF  82  82  2838  704  1264        ...           \n",
      "0   2010-11  28  NYK  NBA   C  78  78  2870  744  1482        ...           \n",
      "6   2011-12  29  NYK  NBA  PF  47  47  1543  316   654        ...           \n",
      "2   2012-13  30  NYK  NBA  PF  29   0   682  154   267        ...           \n",
      "3   2013-14  31  NYK  NBA   C  65  21  1466  311   558        ...           \n",
      "8   2014-15  32  TOT  NBA  PF  59  15  1245  273   490        ...           \n",
      "9   2014-15  32  DAL  NBA  PF  23   1   380  104   179        ...           \n",
      "1   2014-15  32  NYK  NBA  PF  36  14   865  169   311        ...           \n",
      "\n",
      "    DRB  TRB  AST STL  BLK  TOV   PF   PTS TranFlag               Name  \n",
      "7   471  721   78  62   87  189  269  1106        N  Amar'e Stoudemire  \n",
      "10  339  496   78  64   89  177  188  1133        N  Amar'e Stoudemire  \n",
      "14  494  713  131  77  130  189  278  2080        N  Amar'e Stoudemire  \n",
      "4    10   16    2   1    3    1    4    26        N  Amar'e Stoudemire  \n",
      "12  564  786   84  78  110  232  295  1671        N  Amar'e Stoudemire  \n",
      "5   541  719  118  64  163  174  294  1989        N  Amar'e Stoudemire  \n",
      "11  314  430  104  49   57  150  163  1134        N  Amar'e Stoudemire  \n",
      "13  502  732   82  52   83  213  281  1896        N  Amar'e Stoudemire  \n",
      "0   438  636  202  71  150  250  274  1971        N  Amar'e Stoudemire  \n",
      "6   261  367   52  38   45  112  138   823        N  Amar'e Stoudemire  \n",
      "2    85  145   13  10   21   50   89   413        N  Amar'e Stoudemire  \n",
      "3   208  320   34  23   37   91  159   772        N  Amar'e Stoudemire  \n",
      "8   219  329   45  29   38   78  161   680        Y  Amar'e Stoudemire  \n",
      "9    57   84    8   9    4   15   50   248        N  Amar'e Stoudemire  \n",
      "1   162  245   37  20   34   63  111   432        N  Amar'e Stoudemire  \n",
      "\n",
      "[15 rows x 32 columns]\n"
     ]
    }
   ],
   "source": [
    "def get_players_totals(tables):\n",
    "    \"\"\"Extract Active players Season data for players from all tables and store it in dictionary.\"\"\"\n",
    "    \n",
    "    totals_dict={}\n",
    "    totals_list=[] \n",
    "    ### (Season,Age,Tm,Lg,Pos,G,GS,MP,FG,FGA,FG%,3P,\n",
    "    ###         3PA,3P%,2P,2PA,2P%,eFG%,FT,FTA,FT%,ORB,TRB,AST,STL,BLK,TOV,PF,PTS)\n",
    "    \n",
    "    # 1. step: try to extract data for a single table\n",
    "    for tbl in tables:\n",
    "        headers = tbl('tr')\n",
    "        #print headers\n",
    "        first_header = headers[0]\n",
    "        #print first_header\n",
    "        th_s = first_header('th')\n",
    "        #print th_s    \n",
    "        title = [val.content for val in th_s ]\n",
    "        #print title\n",
    "                \n",
    "        # 2. step: iterate over all tables, extract headings and actual data and combine data into single dict\n",
    "        rows = tbl('tr')[1:]\n",
    "        for row in rows:\n",
    "            \n",
    "            tds = row('td')\n",
    "            \n",
    "            if len(tds[0]('a')) > 0:\n",
    "                ### if row content is null , set default string ###\n",
    "                f_content = (lambda x: \"\" if len(x) == 0 else x.content)\n",
    "                ### if row a_herf is null , set default string ###\n",
    "                f_ahref = (lambda x: x.content if len(x('a')) == 0 else x('a')[0].content)\n",
    "            \n",
    "                Season       = f_ahref(tds[0])\n",
    "                Age          = f_content(tds[1])\n",
    "                Tm           = f_ahref(tds[2])\n",
    "                Lg           = f_ahref(tds[3])\n",
    "                Pos          = f_content(tds[4])\n",
    "                G            = f_content(tds[5])\n",
    "                GS           = f_content(tds[6])\n",
    "                MP           = f_content(tds[7])\n",
    "                FG           = f_content(tds[8])\n",
    "                FGA          = f_content(tds[9])\n",
    "                FG_Per       = f_content(tds[10])\n",
    "                three_P      = f_content(tds[11])\n",
    "                three_PA     = f_content(tds[12])\n",
    "                three_P_Per  = f_content(tds[13])\n",
    "                two_P        = f_content(tds[14])\n",
    "                two_PA       = f_content(tds[15])\n",
    "                two_P_Per    = f_content(tds[16])\n",
    "                eFG_Per      = f_content(tds[17])\n",
    "                FT           = f_content(tds[18])\n",
    "                FTA          = f_content(tds[19])\n",
    "                FT_Per       = f_content(tds[20])\n",
    "                ORB          = f_content(tds[21])\n",
    "                DRB          = f_content(tds[22])\n",
    "                TRB          = f_content(tds[23])\n",
    "                AST          = f_content(tds[24])\n",
    "                STL          = f_content(tds[25])\n",
    "                BLK          = f_content(tds[26])\n",
    "                TOV          = f_content(tds[27])\n",
    "                PF           = f_content(tds[28])\n",
    "                PTS          = f_content(tds[29])\n",
    "                Tran         = \"\"\n",
    "\n",
    "                totals_list=[Season,Age,Tm,Lg,Pos,G,GS,MP,FG,FGA,FG_Per,three_P,three_PA,\n",
    "                             three_P_Per,two_P,two_PA,two_P_Per,eFG_Per,FT,FTA,FT_Per,ORB,DRB,TRB,AST,STL,BLK,TOV,PF,PTS]\n",
    "\n",
    "                ### if Tm == TOT , current yeat had transactions ###\n",
    "                if Tm == \"TOT\":\n",
    "                    TranFlag = \"Y\"\n",
    "                else:\n",
    "                    TranFlag = \"N\"\n",
    "                \n",
    "                ### append TranFlag to totals_list ###\n",
    "                totals_list.append(TranFlag)\n",
    "                \n",
    "                ### set totals_dict key = Season , value = totals_list ###\n",
    "                if Season not in totals_dict:\n",
    "                    totals_dict[Season+Tm]=totals_list\n",
    "\n",
    "    return totals_dict\n",
    "\n",
    "### Season Game ###\n",
    "seasons_totals_dict = get_players_totals(player_tables_by_type[u'totals'])\n",
    "\n",
    "if len(seasons_totals_dict) > 0 :\n",
    "    #print seasons_totals_dict\n",
    "    df_seasons = pd.DataFrame(seasons_totals_dict.values())\n",
    "    df_seasons['name'] = player_name   \n",
    "    df_seasons.columns=['Season','Age','Tm','Lg','Pos','G','GS','MP','FG','FGA','FG_Per','three_P','three_PA',\n",
    "                        'three_P_Per','two_P','two_PA','two_P_Per','eFG_Per','FT','FTA','FT_Per','ORB','DRB',\n",
    "                        'TRB','AST','STL','BLK','TOV','PF','PTS','TranFlag','Name']\n",
    "    print df_seasons.sort_index(by='Season')"
   ]
  },
  {
   "cell_type": "markdown",
   "metadata": {},
   "source": [
    "### Season Per 100 Poss"
   ]
  },
  {
   "cell_type": "code",
   "execution_count": 8,
   "metadata": {
    "collapsed": false
   },
   "outputs": [
    {
     "name": "stdout",
     "output_type": "stream",
     "text": [
      "     Season Age   Tm   Lg Pos   G  GS    MP    FG   FGA        ...          \\\n",
      "7   2002-03  20  PHO  NBA  PF  82  71  2570   8.0  16.9        ...           \n",
      "10  2003-04  21  PHO  NBA  PF  55  53  2025  10.5  22.1        ...           \n",
      "14  2004-05  22  PHO  NBA   C  80  80  2889  12.9  23.1        ...           \n",
      "4   2005-06  23  PHO  NBA   C   3   3    50   9.0  27.0        ...           \n",
      "12  2006-07  24  PHO  NBA   C  82  78  2689  11.3  19.7        ...           \n",
      "5   2007-08  25  PHO  NBA   C  79  79  2677  13.2  22.5        ...           \n",
      "11  2008-09  26  PHO  NBA  PF  53  53  1948  10.4  19.2        ...           \n",
      "13  2009-10  27  PHO  NBA  PF  82  82  2838  12.5  22.4        ...           \n",
      "0   2010-11  28  NYK  NBA   C  78  78  2870  13.0  25.9        ...           \n",
      "6   2011-12  29  NYK  NBA  PF  47  47  1543  10.6  21.8        ...           \n",
      "2   2012-13  30  NYK  NBA  PF  29   0   682  12.1  20.9        ...           \n",
      "3   2013-14  31  NYK  NBA   C  65  21  1466  11.3  20.2        ...           \n",
      "8   2014-15  32  TOT  NBA  PF  59  15  1245  11.4  20.4        ...           \n",
      "9   2014-15  32  DAL  NBA  PF  23   1   380  13.8  23.8        ...           \n",
      "1   2014-15  32  NYK  NBA  PF  36  14   865  10.3  18.9        ...           \n",
      "\n",
      "     TRB  AST  STL  BLK  TOV   PF   PTS ORtg DRtg               Name  \n",
      "7   14.7  1.6  1.3  1.8  3.9  5.5  22.6  103  101  Amar'e Stoudemire  \n",
      "10  12.7  2.0  1.6  2.3  4.5  4.8  29.0  102  103  Amar'e Stoudemire  \n",
      "14  12.4  2.3  1.3  2.3  3.3  4.8  36.0  121  105  Amar'e Stoudemire  \n",
      "4   16.0  2.0  1.0  3.0  1.0  4.0  26.0   99  102  Amar'e Stoudemire  \n",
      "12  14.7  1.6  1.5  2.1  4.3  5.5  31.2  116  103  Amar'e Stoudemire  \n",
      "5   13.3  2.2  1.2  3.0  3.2  5.5  36.9  124  104  Amar'e Stoudemire  \n",
      "11  11.0  2.7  1.3  1.5  3.9  4.2  29.1  117  111  Amar'e Stoudemire  \n",
      "13  13.0  1.5  0.9  1.5  3.8  5.0  33.6  117  109  Amar'e Stoudemire  \n",
      "0   11.1  3.5  1.2  2.6  4.4  4.8  34.5  109  108  Amar'e Stoudemire  \n",
      "6   12.3  1.7  1.3  1.5  3.7  4.6  27.5  104  101  Amar'e Stoudemire  \n",
      "2   11.4  1.0  0.8  1.6  3.9  7.0  32.4  118  108  Amar'e Stoudemire  \n",
      "3   11.6  1.2  0.8  1.3  3.3  5.8  28.0  112  110  Amar'e Stoudemire  \n",
      "8   13.7  1.9  1.2  1.6  3.3  6.7  28.4  112  107  Amar'e Stoudemire  \n",
      "9   11.1  1.1  1.2  0.5  2.0  6.6  32.9  117  107  Amar'e Stoudemire  \n",
      "1   14.9  2.3  1.2  2.1  3.8  6.8  26.3  109  107  Amar'e Stoudemire  \n",
      "\n",
      "[15 rows x 32 columns]\n"
     ]
    }
   ],
   "source": [
    "def get_players_Per_Poss(tables):\n",
    "    \"\"\"Extract Active players Per 100 Poss data for players from all tables and store it in dictionary.\"\"\"\n",
    "    \n",
    "    per_poss_dict={}\n",
    "    per_poss_list=[] \n",
    "\n",
    "    # 1. step: try to extract data for a single table\n",
    "    for tbl in tables:\n",
    "        headers = tbl('tr')\n",
    "        #print headers\n",
    "        first_header = headers[0]\n",
    "        #print first_header\n",
    "        th_s = first_header('th')\n",
    "        #print th_s    \n",
    "        title = [val.content for val in th_s ]\n",
    "        #print title\n",
    "                \n",
    "        # 2. step: iterate over all tables, extract headings and actual data and combine data into single dict\n",
    "        rows = tbl('tr')[1:]\n",
    "        for row in rows:\n",
    "            \n",
    "            tds = row('td')\n",
    "            \n",
    "            if len(tds[0]('a')) > 0:\n",
    "                ### if row content is null , set default string ###\n",
    "                f_content = (lambda x: \"\" if len(x) == 0 else x.content)\n",
    "                ### if row a_herf is null , set default string ###\n",
    "                f_ahref = (lambda x: x.content if len(x('a')) == 0 else x('a')[0].content)\n",
    "            \n",
    "                Season      = f_ahref(tds[0])\n",
    "                Age         = f_content(tds[1])\n",
    "                Tm          = f_ahref(tds[2])\n",
    "                Lg          = f_ahref(tds[3])\n",
    "                Pos         = f_content(tds[4])\n",
    "                G           = f_content(tds[5])\n",
    "                GS          = f_content(tds[6])\n",
    "                MP          = f_content(tds[7])\n",
    "                FG          = f_content(tds[8])\n",
    "                FGA         = f_content(tds[9])\n",
    "                FG_Per      = f_content(tds[10])\n",
    "                three_P     = f_content(tds[11])\n",
    "                three_PA    = f_content(tds[12])\n",
    "                three_P_Per = f_content(tds[13])\n",
    "                two_P       = f_content(tds[14])\n",
    "                two_PA      = f_content(tds[15])\n",
    "                two_P_Per   = f_content(tds[16])\n",
    "                FT          = f_content(tds[17])\n",
    "                FTA         = f_content(tds[18])\n",
    "                FT_Per      = f_content(tds[19])\n",
    "                ORB         = f_content(tds[20])\n",
    "                DRB         = f_content(tds[21])\n",
    "                TRB         = f_content(tds[22])\n",
    "                AST         = f_content(tds[23])\n",
    "                STL         = f_content(tds[24])\n",
    "                BLK         = f_content(tds[25])\n",
    "                TOV         = f_content(tds[26])\n",
    "                PF          = f_content(tds[27])\n",
    "                PTS         = f_content(tds[28])\n",
    "                undef1      = f_content(tds[29])\n",
    "                ORtg        = f_content(tds[30])\n",
    "                DRtg        = f_content(tds[31])\n",
    "\n",
    "                per_poss_list=[Season,Age,Tm,Lg,Pos,G,GS,MP,FG,FGA,FG_Per,three_P,three_PA,three_P_Per\n",
    "                               ,two_P,two_PA,two_P_Per,FT,FTA,FT_Per,ORB,DRB,TRB,AST,STL,BLK,TOV,PF,PTS,ORtg,DRtg]\n",
    "                              \n",
    "                ### set per_poss_dict key = Season + Tm , value = per_poss_list ###\n",
    "                if Season not in per_poss_dict:\n",
    "                    per_poss_dict[Season+Tm]=per_poss_list\n",
    "\n",
    "    return per_poss_dict\n",
    "\n",
    "### Season Per 100 Poss ###\n",
    "Season_Per_Poss_dict = get_players_Per_Poss(player_tables_by_type[u'per_poss'])\n",
    "\n",
    "if len(Season_Per_Poss_dict) > 0 :\n",
    "    #print seasons_totals_dict\n",
    "    df_Season_Per_Poss = pd.DataFrame(Season_Per_Poss_dict.values())\n",
    "    df_Season_Per_Poss['name'] = player_name   \n",
    "    df_Season_Per_Poss.columns=['Season','Age','Tm','Lg','Pos','G','GS','MP','FG','FGA','FG_Per',\n",
    "                                'three_P','three_PA','three_P_Per','two_P','two_PA','two_P_Per',\n",
    "                                'FT','FTA','FT_Per','ORB','DRB','TRB','AST','STL','BLK','TOV','PF','PTS','ORtg','DRtg','Name']\n",
    "    print df_Season_Per_Poss.sort_index(by='Season')"
   ]
  },
  {
   "cell_type": "markdown",
   "metadata": {},
   "source": [
    "###Merge  df_Season 、df_Per Poss and df_Salary"
   ]
  },
  {
   "cell_type": "code",
   "execution_count": 9,
   "metadata": {
    "collapsed": false
   },
   "outputs": [
    {
     "name": "stdout",
     "output_type": "stream",
     "text": [
      "     Season Age   Tm   Lg Pos   G  GS    MP   FG   FGA     ...      STL  BLK  \\\n",
      "7   2002-03  20  PHO  NBA  PF  82  71  2570  392   830     ...       62   87   \n",
      "9   2003-04  21  PHO  NBA  PF  55  53  2025  411   865     ...       64   89   \n",
      "13  2004-05  22  PHO  NBA   C  80  80  2889  747  1336     ...       77  130   \n",
      "4   2005-06  23  PHO  NBA   C   3   3    50    9    27     ...        1    3   \n",
      "11  2006-07  24  PHO  NBA   C  82  78  2689  607  1055     ...       78  110   \n",
      "5   2007-08  25  PHO  NBA   C  79  79  2677  714  1211     ...       64  163   \n",
      "10  2008-09  26  PHO  NBA  PF  53  53  1948  404   749     ...       49   57   \n",
      "12  2009-10  27  PHO  NBA  PF  82  82  2838  704  1264     ...       52   83   \n",
      "0   2010-11  28  NYK  NBA   C  78  78  2870  744  1482     ...       71  150   \n",
      "6   2011-12  29  NYK  NBA  PF  47  47  1543  316   654     ...       38   45   \n",
      "2   2012-13  30  NYK  NBA  PF  29   0   682  154   267     ...       10   21   \n",
      "3   2013-14  31  NYK  NBA   C  65  21  1466  311   558     ...       23   37   \n",
      "8   2014-15  32  DAL  NBA  PF  23   1   380  104   179     ...        9    4   \n",
      "1   2014-15  32  NYK  NBA  PF  36  14   865  169   311     ...       20   34   \n",
      "\n",
      "    TOV   PF   PTS TranFlag               Name ORtg DRtg       Salary  \n",
      "7   189  269  1106        N  Amar'e Stoudemire  103  101   $1,767,120  \n",
      "9   177  188  1133        N  Amar'e Stoudemire  102  103   $1,899,720  \n",
      "13  189  278  2080        N  Amar'e Stoudemire  121  105   $2,032,200  \n",
      "4     1    4    26        N  Amar'e Stoudemire   99  102   $2,589,023  \n",
      "11  232  295  1671        N  Amar'e Stoudemire  116  103  $12,455,000  \n",
      "5   174  294  1989        N  Amar'e Stoudemire  124  104  $13,762,775  \n",
      "10  150  163  1134        N  Amar'e Stoudemire  117  111  $15,070,550  \n",
      "12  213  281  1896        N  Amar'e Stoudemire  117  109  $16,378,325  \n",
      "0   250  274  1971        N  Amar'e Stoudemire  109  108  $16,486,611  \n",
      "6   112  138   823        N  Amar'e Stoudemire  104  101  $18,217,705  \n",
      "2    50   89   413        N  Amar'e Stoudemire  118  108  $19,948,799  \n",
      "3    91  159   772        N  Amar'e Stoudemire  112  110  $21,679,893  \n",
      "8    15   50   248        N  Amar'e Stoudemire  117  107     $485,670  \n",
      "1    63  111   432        N  Amar'e Stoudemire  109  107  $23,410,988  \n",
      "\n",
      "[14 rows x 35 columns]\n"
     ]
    }
   ],
   "source": [
    "df_seasons = pd.merge(df_seasons, df_Season_Per_Poss[['Season', 'Tm','ORtg','DRtg']], on=['Season', 'Tm'])\n",
    "df_seasons = pd.merge(df_seasons, df_salaries[['Season', 'Tm','Salary']], on=['Season', 'Tm'])\n",
    "print df_seasons.sort_index(by='Season')"
   ]
  },
  {
   "cell_type": "markdown",
   "metadata": {},
   "source": [
    "### Playoffs Totals"
   ]
  },
  {
   "cell_type": "code",
   "execution_count": 10,
   "metadata": {
    "collapsed": false
   },
   "outputs": [
    {
     "name": "stdout",
     "output_type": "stream",
     "text": [
      "    Season Age   Tm   Lg Pos   G  GS   MP   FG  FGA        ...          DRB  \\\n",
      "4  2002-03  20  PHO  NBA  PF   6   6  203   34   65        ...           31   \n",
      "8  2004-05  22  PHO  NBA   C  15  15  601  153  284        ...          100   \n",
      "6  2006-07  24  PHO  NBA   C  10  10  343   91  174        ...           91   \n",
      "2  2007-08  25  PHO  NBA   C   5   5  204   48   99        ...           30   \n",
      "7  2009-10  27  PHO  NBA  PF  16  16  584  124  239        ...           60   \n",
      "0  2010-11  28  NYK  NBA   C   4   4  134   21   55        ...           20   \n",
      "3  2011-12  29  NYK  NBA  PF   4   4  139   20   36        ...           18   \n",
      "1  2012-13  30  NYK  NBA  PF   4   0   33    5   13        ...            5   \n",
      "5  2014-15  32  DAL  NBA  PF   5   0   75   15   35        ...            9   \n",
      "\n",
      "   TRB AST STL BLK TOV  PF  PTS TranFlag               Name  \n",
      "4   47   7  10   9  19  28   85        N  Amar'e Stoudemire  \n",
      "8  160  18  10  30  47  59  449        N  Amar'e Stoudemire  \n",
      "6  121   6  13  19  19  39  253        N  Amar'e Stoudemire  \n",
      "2   45   2   7  12  14  19  116        N  Amar'e Stoudemire  \n",
      "7  106  18  11  24  40  54  355        N  Amar'e Stoudemire  \n",
      "0   31   7   1   3  12  10   58        N  Amar'e Stoudemire  \n",
      "3   26   3   5   1  12  16   61        N  Amar'e Stoudemire  \n",
      "1    9   0   0   0   3   9   15        N  Amar'e Stoudemire  \n",
      "5   16   3   1   3   7  16   39        N  Amar'e Stoudemire  \n",
      "\n",
      "[9 rows x 32 columns]\n"
     ]
    }
   ],
   "source": [
    "playoffs_totals_dict = get_players_totals(player_tables_by_type[u'playoffs_totals'])\n",
    "if len(playoffs_totals_dict) > 0 :\n",
    "    #print playoffs_totals_dict\n",
    "    df_playoffs = pd.DataFrame(playoffs_totals_dict.values())\n",
    "    df_playoffs['name'] = player_name\n",
    "    df_playoffs.columns=['Season','Age','Tm','Lg','Pos','G','GS','MP','FG','FGA','FG_Per','three_P','three_PA',\n",
    "                        'three_P_Per','two_P','two_PA','two_P_Per','eFG_Per','FT','FTA','FT_Per','ORB','DRB',\n",
    "                        'TRB','AST','STL','BLK','TOV','PF','PTS','TranFlag','Name']\n",
    "    print df_playoffs.sort_index(by='Season')"
   ]
  },
  {
   "cell_type": "markdown",
   "metadata": {},
   "source": [
    "###Playoffs Per 100 Poss"
   ]
  },
  {
   "cell_type": "code",
   "execution_count": 11,
   "metadata": {
    "collapsed": false
   },
   "outputs": [
    {
     "name": "stdout",
     "output_type": "stream",
     "text": [
      "    Season Age   Tm   Lg Pos   G  GS   MP    FG   FGA        ...          \\\n",
      "4  2002-03  20  PHO  NBA  PF   6   6  203   8.8  16.8        ...           \n",
      "8  2004-05  22  PHO  NBA   C  15  15  601  13.0  24.1        ...           \n",
      "6  2006-07  24  PHO  NBA   C  10  10  343  13.5  25.9        ...           \n",
      "2  2007-08  25  PHO  NBA   C   5   5  204  12.2  25.2        ...           \n",
      "7  2009-10  27  PHO  NBA  PF  16  16  584  11.2  21.6        ...           \n",
      "0  2010-11  28  NYK  NBA   C   4   4  134   8.2  21.5        ...           \n",
      "3  2011-12  29  NYK  NBA  PF   4   4  139   7.9  14.3        ...           \n",
      "1  2012-13  30  NYK  NBA  PF   4   0   33   8.4  21.8        ...           \n",
      "5  2014-15  32  DAL  NBA  PF   5   0   75   9.4  22.0        ...           \n",
      "\n",
      "    TRB  AST  STL  BLK  TOV    PF   PTS ORtg DRtg               Name  \n",
      "4  12.2  1.8  2.6  2.3  4.9   7.2  22.0   96   94  Amar'e Stoudemire  \n",
      "8  13.6  1.5  0.8  2.5  4.0   5.0  38.1  122  112  Amar'e Stoudemire  \n",
      "6  18.0  0.9  1.9  2.8  2.8   5.8  37.6  117   98  Amar'e Stoudemire  \n",
      "2  11.4  0.5  1.8  3.0  3.6   4.8  29.5   99  103  Amar'e Stoudemire  \n",
      "7   9.6  1.6  1.0  2.2  3.6   4.9  32.1  116  113  Amar'e Stoudemire  \n",
      "0  12.1  2.7  0.4  1.2  4.7   3.9  22.7   89  110  Amar'e Stoudemire  \n",
      "3  10.3  1.2  2.0  0.4  4.8   6.4  24.2  110  110  Amar'e Stoudemire  \n",
      "1  15.1  0.0  0.0  0.0  5.0  15.1  25.2   97  102  Amar'e Stoudemire  \n",
      "5  10.0  1.9  0.6  1.9  4.4  10.0  24.5   94  112  Amar'e Stoudemire  \n",
      "\n",
      "[9 rows x 32 columns]\n"
     ]
    }
   ],
   "source": [
    "Playoffs_Per_Poss_dict = get_players_Per_Poss(player_tables_by_type[u'playoffs_per_poss'])\n",
    "\n",
    "if len(Playoffs_Per_Poss_dict) > 0 :    \n",
    "    df_Playoffs_Per_Poss = pd.DataFrame(Playoffs_Per_Poss_dict.values())\n",
    "    df_Playoffs_Per_Poss['name'] = player_name   \n",
    "    df_Playoffs_Per_Poss.columns=['Season','Age','Tm','Lg','Pos','G','GS','MP','FG','FGA','FG_Per',\n",
    "                                'three_P','three_PA','three_P_Per','two_P','two_PA','two_P_Per',\n",
    "                                'FT','FTA','FT_Per','ORB','DRB','TRB','AST','STL','BLK','TOV','PF','PTS','ORtg','DRtg','Name']\n",
    "    print df_Playoffs_Per_Poss.sort_index(by='Season')"
   ]
  },
  {
   "cell_type": "markdown",
   "metadata": {},
   "source": [
    "###Merge  df_Playoffs 、df_Playoffs Per Poss and df_Salary"
   ]
  },
  {
   "cell_type": "code",
   "execution_count": 12,
   "metadata": {
    "collapsed": false
   },
   "outputs": [
    {
     "name": "stdout",
     "output_type": "stream",
     "text": [
      "    Season Age   Tm   Lg Pos   G  GS   MP   FG  FGA     ...      STL BLK TOV  \\\n",
      "4  2002-03  20  PHO  NBA  PF   6   6  203   34   65     ...       10   9  19   \n",
      "8  2004-05  22  PHO  NBA   C  15  15  601  153  284     ...       10  30  47   \n",
      "6  2006-07  24  PHO  NBA   C  10  10  343   91  174     ...       13  19  19   \n",
      "2  2007-08  25  PHO  NBA   C   5   5  204   48   99     ...        7  12  14   \n",
      "7  2009-10  27  PHO  NBA  PF  16  16  584  124  239     ...       11  24  40   \n",
      "0  2010-11  28  NYK  NBA   C   4   4  134   21   55     ...        1   3  12   \n",
      "3  2011-12  29  NYK  NBA  PF   4   4  139   20   36     ...        5   1  12   \n",
      "1  2012-13  30  NYK  NBA  PF   4   0   33    5   13     ...        0   0   3   \n",
      "5  2014-15  32  DAL  NBA  PF   5   0   75   15   35     ...        1   3   7   \n",
      "\n",
      "   PF  PTS TranFlag               Name ORtg DRtg       Salary  \n",
      "4  28   85        N  Amar'e Stoudemire   96   94   $1,767,120  \n",
      "8  59  449        N  Amar'e Stoudemire  122  112   $2,032,200  \n",
      "6  39  253        N  Amar'e Stoudemire  117   98  $12,455,000  \n",
      "2  19  116        N  Amar'e Stoudemire   99  103  $13,762,775  \n",
      "7  54  355        N  Amar'e Stoudemire  116  113  $16,378,325  \n",
      "0  10   58        N  Amar'e Stoudemire   89  110  $16,486,611  \n",
      "3  16   61        N  Amar'e Stoudemire  110  110  $18,217,705  \n",
      "1   9   15        N  Amar'e Stoudemire   97  102  $19,948,799  \n",
      "5  16   39        N  Amar'e Stoudemire   94  112     $485,670  \n",
      "\n",
      "[9 rows x 35 columns]\n"
     ]
    }
   ],
   "source": [
    "df_playoffs = pd.merge(df_playoffs, df_Playoffs_Per_Poss[['Season', 'Tm','ORtg','DRtg']], on=['Season', 'Tm'])\n",
    "df_playoffs = pd.merge(df_playoffs, df_salaries[['Season', 'Tm','Salary']], on=['Season', 'Tm'])\n",
    "print df_playoffs.sort_index(by='Season')"
   ]
  },
  {
   "cell_type": "markdown",
   "metadata": {},
   "source": [
    "###Season Advanced "
   ]
  },
  {
   "cell_type": "code",
   "execution_count": 13,
   "metadata": {
    "collapsed": false
   },
   "outputs": [
    {
     "name": "stdout",
     "output_type": "stream",
     "text": [
      "     Season Age   Tm   Lg Pos   G    MP   PER TS_Per three_PAr  \\\n",
      "7   2002-03  20  PHO  NBA  PF  82  2570  16.2   .530      .012   \n",
      "10  2003-04  21  PHO  NBA  PF  55  2025  19.8   .536      .006   \n",
      "14  2004-05  22  PHO  NBA   C  80  2889  26.6   .617      .012   \n",
      "4   2005-06  23  PHO  NBA   C   3    50  17.8   .420      .037   \n",
      "12  2006-07  24  PHO  NBA   C  82  2689  23.1   .637      .003   \n",
      "5   2007-08  25  PHO  NBA   C  79  2677  27.6   .656      .026   \n",
      "11  2008-09  26  PHO  NBA  PF  53  1948  20.3   .617      .009   \n",
      "13  2009-10  27  PHO  NBA  PF  82  2838  22.6   .615      .005   \n",
      "0   2010-11  28  NYK  NBA   C  78  2870  22.7   .565      .016   \n",
      "6   2011-12  29  NYK  NBA  PF  47  1543  17.7   .541      .032   \n",
      "2   2012-13  30  NYK  NBA  PF  29   682  22.1   .637      .000   \n",
      "3   2013-14  31  NYK  NBA   C  65  1466  18.8   .596      .000   \n",
      "8   2014-15  32  TOT  NBA  PF  59  1245  20.3   .595      .008   \n",
      "9   2014-15  32  DAL  NBA  PF  23   380  22.3   .605      .006   \n",
      "1   2014-15  32  NYK  NBA  PF  36   865  19.5   .589      .010   \n",
      "\n",
      "          ...           OWS  DWS    WS  WS48  OBPM  DBPM   BPM  VORP TranFlag  \\\n",
      "7         ...           2.6  3.6   6.2  .116  -1.6   0.4  -1.1   0.6        N   \n",
      "10        ...           2.4  2.0   4.4  .105  -0.8  -0.2  -1.0   0.5        N   \n",
      "14        ...          11.3  3.3  14.6  .243   3.4   0.0   3.4   3.9        N   \n",
      "4         ...           0.0  0.1   0.1  .085  -4.8  -1.8  -6.6  -0.1        N   \n",
      "12        ...           7.2  4.0  11.2  .201   0.9   0.7   1.6   2.4        N   \n",
      "5         ...          10.9  3.8  14.6  .262   3.5   0.4   3.9   4.0        N   \n",
      "11        ...           4.6  1.4   6.1  .149   1.3  -0.3   1.0   1.5        N   \n",
      "13        ...           8.2  2.5  10.7  .181   1.6  -1.3   0.3   1.6        N   \n",
      "0         ...           5.4  2.6   8.0  .134   0.8  -0.1   0.7   1.9        N   \n",
      "6         ...           1.8  2.3   4.1  .128  -1.5   0.1  -1.4   0.2        N   \n",
      "2         ...           2.1  0.6   2.7  .191   0.6  -2.0  -1.4   0.1        N   \n",
      "3         ...           2.9  0.9   3.8  .124  -0.8  -2.3  -3.1  -0.4        N   \n",
      "8         ...           2.6  1.0   3.6  .138  -0.2  -1.3  -1.4   0.2        Y   \n",
      "9         ...           1.1  0.3   1.4  .181   0.8  -3.1  -2.2   0.0        N   \n",
      "1         ...           1.5  0.7   2.2  .120  -0.6  -0.5  -1.1   0.2        N   \n",
      "\n",
      "                 Name  \n",
      "7   Amar'e Stoudemire  \n",
      "10  Amar'e Stoudemire  \n",
      "14  Amar'e Stoudemire  \n",
      "4   Amar'e Stoudemire  \n",
      "12  Amar'e Stoudemire  \n",
      "5   Amar'e Stoudemire  \n",
      "11  Amar'e Stoudemire  \n",
      "13  Amar'e Stoudemire  \n",
      "0   Amar'e Stoudemire  \n",
      "6   Amar'e Stoudemire  \n",
      "2   Amar'e Stoudemire  \n",
      "3   Amar'e Stoudemire  \n",
      "8   Amar'e Stoudemire  \n",
      "9   Amar'e Stoudemire  \n",
      "1   Amar'e Stoudemire  \n",
      "\n",
      "[15 rows x 29 columns]\n"
     ]
    }
   ],
   "source": [
    "def get_players_Advance(tables):\n",
    "    \"\"\"Extract Active players Advance data for players from all tables and store it in dictionary.\"\"\"\n",
    "    \n",
    "    Advance_dict={}\n",
    "    Advance_list=[] \n",
    "\n",
    "    # 1. step: try to extract data for a single table\n",
    "    for tbl in tables:\n",
    "        headers = tbl('tr')\n",
    "        #print headers\n",
    "        first_header = headers[0]\n",
    "        #print first_header\n",
    "        th_s = first_header('th')\n",
    "        #print th_s    \n",
    "        title = [val.content for val in th_s ]\n",
    "        #print title\n",
    "                \n",
    "        # 2. step: iterate over all tables, extract headings and actual data and combine data into single dict\n",
    "        rows = tbl('tr')[1:]\n",
    "        for row in rows:\n",
    "            \n",
    "            tds = row('td')\n",
    "            \n",
    "            if len(tds[0]('a')) > 0:\n",
    "                ### if row content is null , set default string ###\n",
    "                f_content = (lambda x: \"\" if len(x) == 0 else x.content)\n",
    "                ### if row a_herf is null , set default string ###\n",
    "                f_ahref = (lambda x: x.content if len(x('a')) == 0 else x('a')[0].content)\n",
    "            \n",
    "                Season    = f_ahref(tds[0])\n",
    "                Age       = f_content(tds[1])\n",
    "                Tm        = f_ahref(tds[2])\n",
    "                Lg        = f_ahref(tds[3])\n",
    "                Pos       = f_content(tds[4 ])\n",
    "                G         = f_content(tds[5 ])\n",
    "                MP        = f_content(tds[6 ])\n",
    "                PER       = f_content(tds[7 ])\n",
    "                TS_Per    = f_content(tds[8 ])\n",
    "                three_PAr = f_content(tds[9 ])\n",
    "                FTr       = f_content(tds[10])\n",
    "                ORB_Per   = f_content(tds[11])\n",
    "                DRB_Per   = f_content(tds[12])\n",
    "                TRB_Per   = f_content(tds[13])\n",
    "                AST_Per   = f_content(tds[14])\n",
    "                STL_Per   = f_content(tds[15])\n",
    "                BLK_Per   = f_content(tds[16])\n",
    "                TOV_Per   = f_content(tds[17])\n",
    "                USG_Per   = f_content(tds[18])\n",
    "                undef1    = f_content(tds[19])\n",
    "                OWS       = f_content(tds[20])\n",
    "                DWS       = f_content(tds[21])\n",
    "                WS        = f_content(tds[22])\n",
    "                WS48      = f_content(tds[23])\n",
    "                undef2    = f_content(tds[24])\n",
    "                OBPM      = f_content(tds[25])\n",
    "                DBPM      = f_content(tds[26])\n",
    "                BPM       = f_content(tds[27])\n",
    "                VORP      = f_content(tds[28])\n",
    "                Tran      = \"\"\n",
    "\n",
    "                Advance_list=[Season,Age,Tm,Lg,Pos,G,MP,PER,TS_Per,three_PAr,FTr,ORB_Per,DRB_Per,TRB_Per,AST_Per,\n",
    "                              STL_Per,BLK_Per,TOV_Per,USG_Per,OWS,DWS,WS,WS48,OBPM,DBPM,BPM,VORP]\n",
    "                \n",
    "                ### if Tm == TOT , current yeat had transactions ###\n",
    "                if Tm == \"TOT\":\n",
    "                    TranFlag = \"Y\"\n",
    "                else:\n",
    "                    TranFlag = \"N\"\n",
    "                \n",
    "                ### append TranFlag to Advance_list ###\n",
    "                Advance_list.append(TranFlag)\n",
    "                #print Advance_list\n",
    "                \n",
    "                ### set Advance_dict key = Season , value = Advance_list ###\n",
    "                if Season in Advance_list:\n",
    "                    Advance_dict[Season+Tm]=Advance_list\n",
    "                \n",
    "    return Advance_dict\n",
    "\n",
    "### Advance ###\n",
    "seasons_Advance_dict = get_players_Advance(player_tables_by_type[u'advanced'])\n",
    "\n",
    "if len(seasons_Advance_dict) > 0 :\n",
    "    #print seasons_totals_dict\n",
    "    df_Advance = pd.DataFrame(seasons_Advance_dict.values())\n",
    "    df_Advance['name'] = player_name   \n",
    "    df_Advance.columns=['Season','Age','Tm','Lg','Pos','G','MP','PER','TS_Per','Three_Per','FT_Per','ORB_Per','DRB_Per','TRB_Per',\n",
    "                        'AST_Per','STL_Per','BLK_Per','TOV_Per','USG_Per','OWS','DWS','WS','WS48','OBPM','DBPM','BPM','VORP',\n",
    "                        'TranFlag','Name']\n",
    "    print df_Advance.sort_index(by='Season')"
   ]
  },
  {
   "cell_type": "markdown",
   "metadata": {},
   "source": [
    "###Merge  Salary and Advance"
   ]
  },
  {
   "cell_type": "code",
   "execution_count": 14,
   "metadata": {
    "collapsed": false
   },
   "outputs": [
    {
     "name": "stdout",
     "output_type": "stream",
     "text": [
      "     Season Age   Tm   Lg Pos   G    MP   PER TS_Per three_PAr     ...       \\\n",
      "7   2002-03  20  PHO  NBA  PF  82  2570  16.2   .530      .012     ...        \n",
      "9   2003-04  21  PHO  NBA  PF  55  2025  19.8   .536      .006     ...        \n",
      "13  2004-05  22  PHO  NBA   C  80  2889  26.6   .617      .012     ...        \n",
      "4   2005-06  23  PHO  NBA   C   3    50  17.8   .420      .037     ...        \n",
      "11  2006-07  24  PHO  NBA   C  82  2689  23.1   .637      .003     ...        \n",
      "5   2007-08  25  PHO  NBA   C  79  2677  27.6   .656      .026     ...        \n",
      "10  2008-09  26  PHO  NBA  PF  53  1948  20.3   .617      .009     ...        \n",
      "12  2009-10  27  PHO  NBA  PF  82  2838  22.6   .615      .005     ...        \n",
      "0   2010-11  28  NYK  NBA   C  78  2870  22.7   .565      .016     ...        \n",
      "6   2011-12  29  NYK  NBA  PF  47  1543  17.7   .541      .032     ...        \n",
      "2   2012-13  30  NYK  NBA  PF  29   682  22.1   .637      .000     ...        \n",
      "3   2013-14  31  NYK  NBA   C  65  1466  18.8   .596      .000     ...        \n",
      "8   2014-15  32  DAL  NBA  PF  23   380  22.3   .605      .006     ...        \n",
      "1   2014-15  32  NYK  NBA  PF  36   865  19.5   .589      .010     ...        \n",
      "\n",
      "    DWS    WS  WS48  OBPM  DBPM   BPM  VORP TranFlag               Name  \\\n",
      "7   3.6   6.2  .116  -1.6   0.4  -1.1   0.6        N  Amar'e Stoudemire   \n",
      "9   2.0   4.4  .105  -0.8  -0.2  -1.0   0.5        N  Amar'e Stoudemire   \n",
      "13  3.3  14.6  .243   3.4   0.0   3.4   3.9        N  Amar'e Stoudemire   \n",
      "4   0.1   0.1  .085  -4.8  -1.8  -6.6  -0.1        N  Amar'e Stoudemire   \n",
      "11  4.0  11.2  .201   0.9   0.7   1.6   2.4        N  Amar'e Stoudemire   \n",
      "5   3.8  14.6  .262   3.5   0.4   3.9   4.0        N  Amar'e Stoudemire   \n",
      "10  1.4   6.1  .149   1.3  -0.3   1.0   1.5        N  Amar'e Stoudemire   \n",
      "12  2.5  10.7  .181   1.6  -1.3   0.3   1.6        N  Amar'e Stoudemire   \n",
      "0   2.6   8.0  .134   0.8  -0.1   0.7   1.9        N  Amar'e Stoudemire   \n",
      "6   2.3   4.1  .128  -1.5   0.1  -1.4   0.2        N  Amar'e Stoudemire   \n",
      "2   0.6   2.7  .191   0.6  -2.0  -1.4   0.1        N  Amar'e Stoudemire   \n",
      "3   0.9   3.8  .124  -0.8  -2.3  -3.1  -0.4        N  Amar'e Stoudemire   \n",
      "8   0.3   1.4  .181   0.8  -3.1  -2.2   0.0        N  Amar'e Stoudemire   \n",
      "1   0.7   2.2  .120  -0.6  -0.5  -1.1   0.2        N  Amar'e Stoudemire   \n",
      "\n",
      "         Salary  \n",
      "7    $1,767,120  \n",
      "9    $1,899,720  \n",
      "13   $2,032,200  \n",
      "4    $2,589,023  \n",
      "11  $12,455,000  \n",
      "5   $13,762,775  \n",
      "10  $15,070,550  \n",
      "12  $16,378,325  \n",
      "0   $16,486,611  \n",
      "6   $18,217,705  \n",
      "2   $19,948,799  \n",
      "3   $21,679,893  \n",
      "8      $485,670  \n",
      "1   $23,410,988  \n",
      "\n",
      "[14 rows x 30 columns]\n"
     ]
    }
   ],
   "source": [
    "df_Advance = pd.merge(df_Advance, df_salaries[['Season', 'Tm','Salary']], on=['Season', 'Tm'])\n",
    "print df_Advance.sort_index(by='Season')"
   ]
  },
  {
   "cell_type": "markdown",
   "metadata": {},
   "source": [
    "###Playoffs Advanced"
   ]
  },
  {
   "cell_type": "code",
   "execution_count": 15,
   "metadata": {
    "collapsed": false
   },
   "outputs": [
    {
     "name": "stdout",
     "output_type": "stream",
     "text": [
      "    Season Age   Tm   Lg Pos   G   MP   PER TS_Per three_PAr  \\\n",
      "4  2002-03  20  PHO  NBA  PF   6  203  15.9   .550      .015   \n",
      "8  2004-05  22  PHO  NBA   C  15  601  27.6   .616      .011   \n",
      "6  2006-07  24  PHO  NBA   C  10  343  29.6   .591      .017   \n",
      "2  2007-08  25  PHO  NBA   C   5  204  18.9   .517      .040   \n",
      "7  2009-10  27  PHO  NBA  PF  16  584  21.2   .589      .017   \n",
      "0  2010-11  28  NYK  NBA   C   4  134  10.7   .442      .000   \n",
      "3  2011-12  29  NYK  NBA  PF   4  139  16.9   .631      .000   \n",
      "1  2012-13  30  NYK  NBA  PF   4   33   9.8   .508      .077   \n",
      "5  2014-15  32  DAL  NBA  PF   5   75  11.3   .479      .000   \n",
      "\n",
      "         ...           OWS  DWS    WS    WS48  OBPM  DBPM    BPM  VORP  \\\n",
      "4        ...           0.0  0.5   0.5    .110  -1.0   3.9    2.9   0.2   \n",
      "8        ...           2.4  0.3   2.7    .218   1.5   0.7    2.2   0.6   \n",
      "6        ...           1.3  0.7   1.9    .269   1.3   1.3    2.6   0.4   \n",
      "2        ...           0.0  0.3   0.3    .077  -2.4   1.8   -0.6   0.1   \n",
      "7        ...           1.5  0.3   1.8    .145   0.3   1.9    2.2   0.6   \n",
      "0        ...          -0.2  0.1  -0.1  -0.031  -6.2   0.5   -5.7  -0.1   \n",
      "3        ...           0.3  0.0   0.3    .104  -2.3   3.8    1.5   0.1   \n",
      "1        ...           0.0  0.0   0.0    .066  -4.9  -7.5  -12.5  -0.1   \n",
      "5        ...           0.0  0.0   0.0  -0.010  -6.0   0.5   -5.4  -0.1   \n",
      "\n",
      "  TranFlag               Name  \n",
      "4        N  Amar'e Stoudemire  \n",
      "8        N  Amar'e Stoudemire  \n",
      "6        N  Amar'e Stoudemire  \n",
      "2        N  Amar'e Stoudemire  \n",
      "7        N  Amar'e Stoudemire  \n",
      "0        N  Amar'e Stoudemire  \n",
      "3        N  Amar'e Stoudemire  \n",
      "1        N  Amar'e Stoudemire  \n",
      "5        N  Amar'e Stoudemire  \n",
      "\n",
      "[9 rows x 29 columns]\n"
     ]
    }
   ],
   "source": [
    "### Advance ###\n",
    "playoff_Advance_dict = get_players_Advance(player_tables_by_type[u'playoffs_advanced'])\n",
    "\n",
    "if len(playoff_Advance_dict) > 0 :    \n",
    "    df_playoff_Advance = pd.DataFrame(playoff_Advance_dict.values())\n",
    "    df_playoff_Advance['name'] = player_name   \n",
    "    df_playoff_Advance.columns=['Season','Age','Tm','Lg','Pos','G','MP','PER','TS_Per','Three_Per','FT_Per','ORB_Per','DRB_Per','TRB_Per',\n",
    "                        'AST_Per','STL_Per','BLK_Per','TOV_Per','USG_Per','OWS','DWS','WS','WS48','OBPM','DBPM','BPM','VORP',\n",
    "                        'TranFlag','Name']\n",
    "    print df_playoff_Advance.sort_index(by='Season')"
   ]
  },
  {
   "cell_type": "markdown",
   "metadata": {},
   "source": [
    "###Merge Salary and Playoffs Advance"
   ]
  },
  {
   "cell_type": "code",
   "execution_count": 16,
   "metadata": {
    "collapsed": false
   },
   "outputs": [
    {
     "name": "stdout",
     "output_type": "stream",
     "text": [
      "    Season Age   Tm   Lg Pos   G   MP   PER TS_Per three_PAr     ...       \\\n",
      "4  2002-03  20  PHO  NBA  PF   6  203  15.9   .550      .015     ...        \n",
      "8  2004-05  22  PHO  NBA   C  15  601  27.6   .616      .011     ...        \n",
      "6  2006-07  24  PHO  NBA   C  10  343  29.6   .591      .017     ...        \n",
      "2  2007-08  25  PHO  NBA   C   5  204  18.9   .517      .040     ...        \n",
      "7  2009-10  27  PHO  NBA  PF  16  584  21.2   .589      .017     ...        \n",
      "0  2010-11  28  NYK  NBA   C   4  134  10.7   .442      .000     ...        \n",
      "3  2011-12  29  NYK  NBA  PF   4  139  16.9   .631      .000     ...        \n",
      "1  2012-13  30  NYK  NBA  PF   4   33   9.8   .508      .077     ...        \n",
      "5  2014-15  32  DAL  NBA  PF   5   75  11.3   .479      .000     ...        \n",
      "\n",
      "   DWS    WS    WS48  OBPM  DBPM    BPM  VORP TranFlag               Name  \\\n",
      "4  0.5   0.5    .110  -1.0   3.9    2.9   0.2        N  Amar'e Stoudemire   \n",
      "8  0.3   2.7    .218   1.5   0.7    2.2   0.6        N  Amar'e Stoudemire   \n",
      "6  0.7   1.9    .269   1.3   1.3    2.6   0.4        N  Amar'e Stoudemire   \n",
      "2  0.3   0.3    .077  -2.4   1.8   -0.6   0.1        N  Amar'e Stoudemire   \n",
      "7  0.3   1.8    .145   0.3   1.9    2.2   0.6        N  Amar'e Stoudemire   \n",
      "0  0.1  -0.1  -0.031  -6.2   0.5   -5.7  -0.1        N  Amar'e Stoudemire   \n",
      "3  0.0   0.3    .104  -2.3   3.8    1.5   0.1        N  Amar'e Stoudemire   \n",
      "1  0.0   0.0    .066  -4.9  -7.5  -12.5  -0.1        N  Amar'e Stoudemire   \n",
      "5  0.0   0.0  -0.010  -6.0   0.5   -5.4  -0.1        N  Amar'e Stoudemire   \n",
      "\n",
      "        Salary  \n",
      "4   $1,767,120  \n",
      "8   $2,032,200  \n",
      "6  $12,455,000  \n",
      "2  $13,762,775  \n",
      "7  $16,378,325  \n",
      "0  $16,486,611  \n",
      "3  $18,217,705  \n",
      "1  $19,948,799  \n",
      "5     $485,670  \n",
      "\n",
      "[9 rows x 30 columns]\n"
     ]
    }
   ],
   "source": [
    "df_playoff_Advance = pd.merge(df_playoff_Advance, df_salaries[['Season', 'Tm','Salary']], on=['Season', 'Tm'])\n",
    "print df_playoff_Advance.sort_index(by='Season')"
   ]
  },
  {
   "cell_type": "markdown",
   "metadata": {},
   "source": [
    "### Output DataFrame to CSV"
   ]
  },
  {
   "cell_type": "code",
   "execution_count": 17,
   "metadata": {
    "collapsed": true
   },
   "outputs": [],
   "source": [
    "def Output_CSV(output_df,location):\n",
    "    #output_file = open(\"e:\\\\nba\\\\Playoffs_Totals.csv\", \"ab\")\n",
    "    output_file = open(location, \"ab\")\n",
    "    output_df.to_csv(output_file,index=False)\n",
    "    output_file.close()\n",
    "\n",
    "#location = \"e:\\\\nba\\\\Salary_extraction.csv\"\n",
    "#Output_CSV(df_salaries,location)"
   ]
  },
  {
   "cell_type": "markdown",
   "metadata": {},
   "source": [
    "###Player information"
   ]
  },
  {
   "cell_type": "code",
   "execution_count": 18,
   "metadata": {
    "collapsed": false
   },
   "outputs": [],
   "source": [
    "def All_player(player_name,player_information_url):\n",
    "    ### Information table ###\n",
    "    (player_information_tables,player_tables_by_type) = player_information(player_information_url)\n",
    "    ###########################################################################################################################\n",
    "    ### Salary ###\n",
    "    salaries_dict=get_players_salaries(player_tables_by_type[u'salaries'])\n",
    "    \n",
    "    if len(salaries_dict) > 0:\n",
    "        df_salaries = pd.DataFrame(salaries_dict.values())\n",
    "        df_salaries['name'] = player_name\n",
    "        df_salaries.columns=['Season','Team','Tm','Lg','Salary','Name']\n",
    "        salary_location = \"e:\\\\nba\\\\Salary_extraction.csv\"\n",
    "        Output_CSV(df_salaries.sort_index(by='Season'),salary_location)\n",
    "    ###########################################################################################################################\n",
    "    ### Season Game Totals ###\n",
    "    seasons_totals_dict = get_players_totals(player_tables_by_type[u'totals'])\n",
    "    \n",
    "    if (len(seasons_totals_dict) > 0 ) and (len(salaries_dict) > 0):    \n",
    "        df_seasons = pd.DataFrame(seasons_totals_dict.values())\n",
    "        df_seasons['name'] = player_name\n",
    "        df_seasons.columns=['Season','Age','Tm','Lg','Pos','G','GS','MP','FG','FGA','FG_Per','three_P','three_PA',\n",
    "                            'three_P_Per','two_P','two_PA','two_P_Per','eFG_Per','FT','FTA','FT_Per','ORB','DRB',\n",
    "                            'TRB','AST','STL','BLK','TOV','PF','PTS','TranFlag','Name']\n",
    "    \n",
    "    ### Season Per 100 Poss ###\n",
    "    Season_Per_Poss_dict = get_players_Per_Poss(player_tables_by_type[u'per_poss'])\n",
    "\n",
    "    if len(Season_Per_Poss_dict) > 0 :\n",
    "        #print seasons_totals_dict\n",
    "        df_Season_Per_Poss = pd.DataFrame(Season_Per_Poss_dict.values())\n",
    "        df_Season_Per_Poss['name'] = player_name   \n",
    "        df_Season_Per_Poss.columns=['Season','Age','Tm','Lg','Pos','G','GS','MP','FG','FGA','FG_Per','three_P','three_PA',\n",
    "                                    'three_P_Per','two_P','two_PA','two_P_Per','FT','FTA','FT_Per','ORB','DRB',\n",
    "                                    'TRB','AST','STL','BLK','TOV','PF','PTS','ORtg','DRtg','Name']\n",
    "    \n",
    "    ### Mergre Season Total 、Per 100 Poss['ORtg','DRtg'] and Salary ###\n",
    "    if (len(seasons_totals_dict) > 0 ) and (len(salaries_dict) > 0):\n",
    "        df_seasons = pd.merge(df_seasons, df_Season_Per_Poss[['Season', 'Tm','ORtg','DRtg']], on=['Season', 'Tm'])\n",
    "        df_seasons = pd.merge(df_seasons, df_salaries[['Season', 'Tm','Salary']], on=['Season', 'Tm'])\n",
    "    \n",
    "        ### Output DataFrame to CSV\n",
    "        Season_location = \"e:\\\\nba\\\\Season_Totals.csv\"\n",
    "        Output_CSV(df_seasons.sort_index(by='Season'),Season_location)\n",
    "    \n",
    "    ###########################################################################################################################\n",
    "    ### Playoffs Game Totals ###\n",
    "    playoffs_totals_dict = get_players_totals(player_tables_by_type[u'playoffs_totals'])\n",
    "    if len(playoffs_totals_dict) > 0 :\n",
    "        #print playoffs_totals_dict\n",
    "        df_playoffs = pd.DataFrame(playoffs_totals_dict.values())\n",
    "        df_playoffs['name'] = player_name\n",
    "        df_playoffs.columns=['Season','Age','Tm','Lg','Pos','G','GS','MP','FG','FGA','FG_Per','three_P','three_PA',\n",
    "                            'three_P_Per','two_P','two_PA','two_P_Per','eFG_Per','FT','FTA','FT_Per','ORB','DRB',\n",
    "                            'TRB','AST','STL','BLK','TOV','PF','PTS','TranFlag','Name']\n",
    "        \n",
    "    ### Playoffs Per 100 Poss ###\n",
    "    Playoffs_Per_Poss_dict = get_players_Per_Poss(player_tables_by_type[u'playoffs_per_poss'])\n",
    "\n",
    "    if len(Playoffs_Per_Poss_dict) > 0 :    \n",
    "        df_Playoffs_Per_Poss = pd.DataFrame(Playoffs_Per_Poss_dict.values())\n",
    "        df_Playoffs_Per_Poss['name'] = player_name   \n",
    "        df_Playoffs_Per_Poss.columns=['Season','Age','Tm','Lg','Pos','G','GS','MP','FG','FGA','FG_Per',\n",
    "                                    'three_P','three_PA','three_P_Per','two_P','two_PA','two_P_Per',\n",
    "                                    'FT','FTA','FT_Per','ORB','DRB','TRB','AST','STL','BLK','TOV','PF','PTS','ORtg','DRtg','Name']\n",
    "    \n",
    "    ### Mergre Season Total 、Per 100 Poss['ORtg','DRtg'] and Salary ###\n",
    "    if (len(playoffs_totals_dict) > 0 ) and (len(salaries_dict) > 0):\n",
    "        df_playoffs = pd.merge(df_playoffs, df_Playoffs_Per_Poss[['Season', 'Tm','ORtg','DRtg']], on=['Season', 'Tm'])\n",
    "        df_playoffs = pd.merge(df_playoffs, df_salaries[['Season', 'Tm','Salary']], on=['Season', 'Tm'])\n",
    "    \n",
    "        ### Output DataFrame to CSV\n",
    "        Playoffs_location = \"e:\\\\nba\\\\Playoffs_Totals.csv\"\n",
    "        Output_CSV(df_playoffs.sort_index(by='Season'),Playoffs_location)\n",
    "\n",
    "    ###########################################################################################################################\n",
    "    ### Advance Game Totals ###\n",
    "    seasons_Advance_dict  = get_players_Advance(player_tables_by_type[u'advanced'])\n",
    "    \n",
    "    if (len(seasons_Advance_dict) > 0 ) and (len(salaries_dict) > 0):\n",
    "        df_Advance = pd.DataFrame(seasons_Advance_dict.values())\n",
    "        df_Advance['name'] = player_name   \n",
    "        df_Advance.columns=['Season','Age','Tm','Lg','Pos','G','MP','PER','TS_Per','three_Per','FT_Per','ORB_Per','DRB_Per','TRB_Per',\n",
    "                        'AST_Per','STL_Per','BLK_Per','TOV_Per','USG_Per','OWS','DWS','WS','WS48','OBPM','DBPM','BPM','VORP',\n",
    "                        'TranFlag','Name']\n",
    "        df_Advance = pd.merge(df_Advance, df_salaries[['Season', 'Tm','Salary']], on=['Season', 'Tm'])\n",
    "        Season_Advance_location = \"e:\\\\nba\\\\Season_Advance_Totals.csv\"\n",
    "        Output_CSV(df_Advance.sort_index(by='Season'),Season_Advance_location)        \n",
    "    \n",
    "    ### Playoffs Advance Game Totals ###\n",
    "    playoff_Advance_dict = get_players_Advance(player_tables_by_type[u'playoffs_advanced'])\n",
    "    \n",
    "    if (len(playoff_Advance_dict) > 0 ) and (len(salaries_dict) > 0):    \n",
    "        df_playoff_Advance = pd.DataFrame(playoff_Advance_dict.values())\n",
    "        df_playoff_Advance['name'] = player_name\n",
    "        df_playoff_Advance.columns=['Season','Age','Tm','Lg','Pos','G','MP','PER','TS_Per','three_Per','FT_Per','ORB_Per','DRB_Per','TRB_Per',\n",
    "                        'AST_Per','STL_Per','BLK_Per','TOV_Per','USG_Per','OWS','DWS','WS','WS48','OBPM','DBPM','BPM','VORP',\n",
    "                        'TranFlag','Name']\n",
    "        df_playoff_Advance = pd.merge(df_playoff_Advance, df_salaries[['Season', 'Tm','Salary']], on=['Season', 'Tm'])\n",
    "        Playoffs_Advance_location = \"e:\\\\nba\\\\Playoffs_Advance_Totals.csv\"\n",
    "        Output_CSV(df_playoff_Advance.sort_index(by='Season'),Playoffs_Advance_location)    \n",
    "\n",
    "    ###########################################################################################################################\n",
    "\n",
    "### Name & Information URL ###\n",
    "player_list = df_player['Player'].values.tolist()\n",
    "#print len(player_list)\n",
    "\n",
    "player_link_list = df_player['link'].values.tolist()\n",
    "#print len(player_link_list)\n",
    "\n",
    "for player_name,player_information_url in zip(player_list, player_link_list):    \n",
    "    All_player(player_name,player_information_url)\n"
   ]
  },
  {
   "cell_type": "code",
   "execution_count": null,
   "metadata": {
    "collapsed": false
   },
   "outputs": [],
   "source": []
  }
 ],
 "metadata": {
  "kernelspec": {
   "display_name": "Python 2",
   "language": "python",
   "name": "python2"
  },
  "language_info": {
   "codemirror_mode": {
    "name": "ipython",
    "version": 2
   },
   "file_extension": ".py",
   "mimetype": "text/x-python",
   "name": "python",
   "nbconvert_exporter": "python",
   "pygments_lexer": "ipython2",
   "version": "2.7.7"
  }
 },
 "nbformat": 4,
 "nbformat_minor": 0
}

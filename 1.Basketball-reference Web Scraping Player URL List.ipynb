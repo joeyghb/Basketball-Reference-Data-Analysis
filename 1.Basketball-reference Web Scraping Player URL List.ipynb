{
 "metadata": {
  "name": "",
  "signature": "sha256:8a40875886ba65dac025b6c436f9122198f4d111cf1854965824a06ead478f7a"
 },
 "nbformat": 3,
 "nbformat_minor": 0,
 "worksheets": [
  {
   "cells": [
    {
     "cell_type": "markdown",
     "metadata": {},
     "source": [
      "## Basketball-Reference Web Scraping"
     ]
    },
    {
     "cell_type": "code",
     "collapsed": false,
     "input": [
      "# special IPython command to prepare the notebook for matplotlib\n",
      "from collections import defaultdict\n",
      "\n",
      "import pandas as pd\n",
      "import matplotlib.pyplot as plt\n",
      "import requests\n",
      "import re\n",
      "import string\n",
      "from pattern import web"
     ],
     "language": "python",
     "metadata": {},
     "outputs": [],
     "prompt_number": 2
    },
    {
     "cell_type": "markdown",
     "metadata": {},
     "source": [
      "## Fetching the basketball-reference"
     ]
    },
    {
     "cell_type": "code",
     "collapsed": false,
     "input": [
      "basketball_ref_url='http://www.basketball-reference.com'\n",
      "url_list = []\n",
      "website_html_list=[]\n",
      "\n",
      "for asc in list(string.lowercase):\n",
      "    if asc != \"x\": url_list.append(basketball_ref_url+\"/players/\"+asc)\n",
      "\n",
      "#print url_list"
     ],
     "language": "python",
     "metadata": {},
     "outputs": [],
     "prompt_number": 3
    },
    {
     "cell_type": "code",
     "collapsed": false,
     "input": [
      "url = url_list[0]\n",
      "#url = 'http://www.basketball-reference.com/players/a/'\n",
      "website_html = requests.get(url).text\n",
      "##print website_html\n",
      "\n",
      "player_dict={}"
     ],
     "language": "python",
     "metadata": {},
     "outputs": [],
     "prompt_number": 4
    },
    {
     "cell_type": "markdown",
     "metadata": {},
     "source": [
      "## Parsing html data"
     ]
    },
    {
     "cell_type": "code",
     "collapsed": false,
     "input": [
      "def get_population_html_tables(html):\n",
      "    \"\"\"Parse html and return html tables of basketball-reference player data.\"\"\"\n",
      "\n",
      "    dom = web.Element(html)\n",
      "    \n",
      "    ### 0. step: look at html source!\n",
      "\n",
      "\n",
      "    \n",
      "    #### 1. step: get all tables\n",
      "    #tbls = dom('table')\n",
      "    #### 2. step: get all tables we care about\n",
      "    tbls = dom.by_class('sortable  stats_table')\n",
      "    return tbls\n",
      "\n",
      "tables = get_population_html_tables(website_html)\n",
      "print \"table length: %d\" %len(tables)\n",
      "for t in tables:\n",
      "    print t.attributes"
     ],
     "language": "python",
     "metadata": {},
     "outputs": [
      {
       "output_type": "stream",
       "stream": "stdout",
       "text": [
        "table length: 1\n",
        "{u'class': u'sortable  stats_table', u'id': u'players'}\n"
       ]
      }
     ],
     "prompt_number": 5
    },
    {
     "cell_type": "code",
     "collapsed": false,
     "input": [
      "def table_type(tbl):\n",
      "    ### Extract the table type\n",
      "    #print tbl('th')[0].content\n",
      "    return tbl('th')[0].content\n",
      "\n",
      "table_by_type = {}\n",
      "for tbl in tables:\n",
      "    typ = table_type(tbl)\n",
      "    if typ not in table_by_type:\n",
      "        table_by_type[typ] = list()  # equivalent to []\n",
      "    table_by_type[typ].append(tbl)\n",
      "\n",
      "# Equivalent code below\n",
      "\n",
      "# group the tables by type\n",
      "tables_by_type = defaultdict(list)  \n",
      "# defaultdicts have a default value that is inserted when a new key is accessed\n",
      "for tbl in tables:\n",
      "    tables_by_type[table_type(tbl)].append(tbl)\n",
      "\n",
      "print tables_by_type"
     ],
     "language": "python",
     "metadata": {},
     "outputs": [
      {
       "output_type": "stream",
       "stream": "stdout",
       "text": [
        "defaultdict(<type 'list'>, {u'Player': [Element(tag=u'table')]})\n"
       ]
      }
     ],
     "prompt_number": 6
    },
    {
     "cell_type": "markdown",
     "metadata": {},
     "source": [
      "## Extracting data and filling it into a dictionary"
     ]
    },
    {
     "cell_type": "code",
     "collapsed": false,
     "input": [
      "def get_Active_players(tables):\n",
      "    \"\"\"Extract Active players data for players from all tables and store it in dictionary.\"\"\"\n",
      "    \n",
      "    ### result = defaultdict(dict) ###\n",
      "    player_list=[] ### (Player,From,To,Pos,Ht,Wt,Birth Date,College,link)\n",
      "    \n",
      "    # 1. step: try to extract data for a single table\n",
      "    for tbl in tables:\n",
      "        headers = tbl('tr')\n",
      "        #print headers\n",
      "        first_header = headers[0]\n",
      "        #print first_header\n",
      "        th_s = first_header('th')\n",
      "        #print th_s    \n",
      "        title = [val.content for val in th_s ]\n",
      "        #print title\n",
      "        \n",
      "        # 2. step: iterate over all tables, extract headings and actual data and combine data into single dict\n",
      "        rows = tbl('tr')[1:]\n",
      "        for row in rows:\n",
      "            \n",
      "            tds = row('td')\n",
      "            \n",
      "            ### if row content is null , set default string ###\n",
      "            f_content = (lambda x: \"\" if len(x) == 0 else x.content)\n",
      "            ### if row a_herf is null , set default string ###\n",
      "            f_ahref = (lambda x: \"\" if len(x) == 0 else x('a')[0].content)\n",
      "            \n",
      "            player_name    = f_ahref  (tds[0]) \n",
      "            player_From    = f_content(tds[1])\n",
      "            player_To      = f_content(tds[2])\n",
      "            player_Pos     = f_content(tds[3])\n",
      "            player_Ht      = f_content(tds[4])\n",
      "            player_Wt      = f_content(tds[5])\n",
      "            player_Birth   = f_ahref  (tds[6])                       \n",
      "            player_College = f_ahref  (tds[7])         \n",
      "                     \n",
      "            \n",
      "            td_strong = row('strong') ### if row has <strong> element that is active player ###\n",
      "            if td_strong: \n",
      "                \n",
      "                a_href_link = td_strong[0].content ### a href ###\n",
      "                match = re.search('<a href=\"(.*)\"', a_href_link) ### regular expression get link value ###\n",
      "                #print match.group(1)\n",
      "                player_link = basketball_ref_url + match.group(1)\n",
      "                \n",
      "                ### set player_information to list ###\n",
      "                player_list=[player_name,player_From,player_To,player_Pos,player_Ht,player_Wt,\n",
      "                             player_Birth,player_College,player_link]\n",
      "                \n",
      "                ### player_dict add Key(player_anme)\uff0cvalue(player_list) ###\n",
      "                player_dict[player_name]=player_list\n",
      "                \n",
      "                \n",
      "            #for colidx in year_indices:\n",
      "            #    print tds[colidx].content.replace(',', '');\n",
      "            #return\n",
      "            #\"\"\"\n",
      "            #population_by_year = [int(tds[colidx].content.replace(',', '')) \n",
      "            #                      for colidx in year_indices]\n",
      "            #subdict = dict(zip(years, population_by_year))\n",
      "            #result[country_name].update(subdict)    \n",
      "    \n",
      "    return\n",
      "\n",
      "get_Active_players(tables_by_type[u'Player'])\n",
      "\n",
      "#for key in sorted(player_dict, key=player_dict.get):\n",
      "    #print \"%s : %s\" % (key, player_dict[key][-1]) ### name & link ###\n",
      "    #print \"%s : %s\" % (key, player_dict[key])  ### all key & value ###\n",
      "\n",
      "print \"Active Player Count : %d\" % len(player_dict)\n",
      "print player_dict[u'Ray Allen']"
     ],
     "language": "python",
     "metadata": {},
     "outputs": [
      {
       "output_type": "stream",
       "stream": "stdout",
       "text": [
        "Active Player Count : 29\n",
        "[u'Ray Allen', u'1997', u'2014', u'G', u'6-5', u'205', u'July 20, 1975', u'University of Connecticut', u'http://www.basketball-reference.com/players/a/allenra02.html']\n"
       ]
      }
     ],
     "prompt_number": 7
    },
    {
     "cell_type": "markdown",
     "metadata": {},
     "source": [
      "##Write CSV"
     ]
    },
    {
     "cell_type": "code",
     "collapsed": false,
     "input": [
      "#import csv as csv\n",
      "#def WriteCSv(player_dict):\n",
      "    #player_file = open(\"player_list.csv\", \"a\")\n",
      "    #w = csv.writer(player_file)  \n",
      "    #w.writerows(player_dict.values())  \n",
      "    #player_file.close()\n",
      "\n",
      "#WriteCSv(player_dict)"
     ],
     "language": "python",
     "metadata": {},
     "outputs": [],
     "prompt_number": 32
    },
    {
     "cell_type": "markdown",
     "metadata": {},
     "source": [
      "#Fetch player information page"
     ]
    },
    {
     "cell_type": "code",
     "collapsed": false,
     "input": [
      "player_information_url = player_dict[u'Ray Allen'][-1]\n",
      "print player_information_url\n",
      "player_website_html = requests.get(player_information_url).text\n",
      "#print website_html"
     ],
     "language": "python",
     "metadata": {},
     "outputs": [
      {
       "output_type": "stream",
       "stream": "stdout",
       "text": [
        "http://www.basketball-reference.com/players/a/allenra02.html\n"
       ]
      }
     ],
     "prompt_number": 9
    },
    {
     "cell_type": "code",
     "collapsed": false,
     "input": [
      "def get_player_html_tables(html):\n",
      "    \"\"\"Parse html and return html tables of basketball-reference player data.\"\"\"\n",
      "\n",
      "    dom = web.Element(html)\n",
      "    \n",
      "    ### 0. step: look at html source!\n",
      "\n",
      "\n",
      "    \n",
      "    #### 1. step: get all tables\n",
      "    #tbls = dom('table')\n",
      "    #### 2. step: get all tables we care about\n",
      "    tbls = dom.by_class('sortable')\n",
      "    return tbls\n",
      "\n",
      "player_information_tables = get_player_html_tables(player_website_html)\n",
      "print \"table length: %d\" %len(player_information_tables)\n",
      "for t in player_information_tables:\n",
      "    print t.attributes"
     ],
     "language": "python",
     "metadata": {},
     "outputs": [
      {
       "output_type": "stream",
       "stream": "stdout",
       "text": [
        "table length: 19\n",
        "{u'class': u'sortable  row_summable stats_table', u'id': u'totals'}\n",
        "{u'class': u'sortable  row_summable stats_table', u'id': u'per_game'}\n",
        "{u'class': u'sortable  row_summable stats_table', u'id': u'per_minute'}\n",
        "{u'class': u'sortable  row_summable stats_table', u'id': u'per_poss'}\n",
        "{u'class': u'sortable  row_summable stats_table', u'id': u'advanced'}\n",
        "{u'class': u'sortable  row_summable stats_table', u'id': u'shooting'}\n",
        "{u'class': u'sortable  row_summable stats_table', u'id': u'advanced_pbp'}\n",
        "{u'class': u'sortable  row_summable stats_table', u'id': u'playoffs_totals'}\n",
        "{u'class': u'sortable  row_summable stats_table', u'id': u'playoffs_per_game'}\n",
        "{u'class': u'sortable  row_summable stats_table', u'id': u'playoffs_per_minute'}\n",
        "{u'class': u'sortable  row_summable stats_table', u'id': u'playoffs_per_poss'}\n",
        "{u'class': u'sortable  row_summable stats_table', u'id': u'playoffs_advanced'}\n",
        "{u'class': u'sortable  row_summable stats_table', u'id': u'playoffs_shooting'}\n",
        "{u'class': u'sortable  row_summable stats_table', u'id': u'playoffs_advanced_pbp'}\n",
        "{u'class': u'sortable  row_summable stats_table', u'id': u'all_star'}\n",
        "{u'class': u'sortable  stats_table suppress_all', u'id': u'sim_thru'}\n",
        "{u'class': u'sortable  stats_table suppress_all', u'id': u'sim_career'}\n",
        "{u'class': u'sortable  stats_table', u'id': u'college'}\n",
        "{u'class': u'sortable  stats_table', u'id': u'salaries'}\n"
       ]
      }
     ],
     "prompt_number": 10
    },
    {
     "cell_type": "code",
     "collapsed": false,
     "input": [
      "def player_table_type(tbl):\n",
      "    ### Extract the player_table type\n",
      "    return tbl.id\n",
      "\n",
      "player_table_by_type = {}\n",
      "\n",
      "\n",
      "for tbl in player_information_tables:\n",
      "    typ = player_table_type(tbl)\n",
      "    if typ not in player_table_by_type:\n",
      "        player_table_by_type[typ] = list()  # equivalent to []\n",
      "    player_table_by_type[typ].append(tbl)\n",
      "\n",
      "# Equivalent code below\n",
      "\n",
      "# group the player_tables by type\n",
      "player_tables_by_type = defaultdict(list)  \n",
      "# defaultdicts have a default value that is inserted when a new key is accessed\n",
      "for tbl in player_information_tables:\n",
      "    player_tables_by_type[player_table_type(tbl)].append(tbl)\n",
      "\n",
      "print player_tables_by_type"
     ],
     "language": "python",
     "metadata": {},
     "outputs": [
      {
       "output_type": "stream",
       "stream": "stdout",
       "text": [
        "defaultdict(<type 'list'>, {u'playoffs_advanced': [Element(tag=u'table')], u'playoffs_per_poss': [Element(tag=u'table')], u'playoffs_shooting': [Element(tag=u'table')], u'college': [Element(tag=u'table')], u'per_poss': [Element(tag=u'table')], u'per_minute': [Element(tag=u'table')], u'playoffs_totals': [Element(tag=u'table')], u'salaries': [Element(tag=u'table')], u'totals': [Element(tag=u'table')], u'playoffs_advanced_pbp': [Element(tag=u'table')], u'playoffs_per_game': [Element(tag=u'table')], u'per_game': [Element(tag=u'table')], u'sim_career': [Element(tag=u'table')], u'playoffs_per_minute': [Element(tag=u'table')], u'advanced_pbp': [Element(tag=u'table')], u'shooting': [Element(tag=u'table')], u'all_star': [Element(tag=u'table')], u'advanced': [Element(tag=u'table')], u'sim_thru': [Element(tag=u'table')]})\n"
       ]
      }
     ],
     "prompt_number": 11
    },
    {
     "cell_type": "code",
     "collapsed": false,
     "input": [
      "def get_players_salaries(tables):\n",
      "    \"\"\"Extract Active players data for players from all tables and store it in dictionary.\"\"\"\n",
      "    \n",
      "    salaries_list=[] ### (Season,Team,Lg,Salary)\n",
      "    \n",
      "    # 1. step: try to extract data for a single table\n",
      "    for tbl in tables:\n",
      "        headers = tbl('tr')\n",
      "        #print headers\n",
      "        first_header = headers[0]\n",
      "        #print first_header\n",
      "        th_s = first_header('th')\n",
      "        #print th_s    \n",
      "        title = [val.content for val in th_s ]\n",
      "        #print title\n",
      "                \n",
      "        # 2. step: iterate over all tables, extract headings and actual data and combine data into single dict\n",
      "        rows = tbl('tr')[1:-1]\n",
      "        for row in rows:\n",
      "            \n",
      "            tds = row('td')\n",
      "            \n",
      "            ### if row content is null , set default string ###\n",
      "            f_content = (lambda x: \"\" if len(x) == 0 else x.content)\n",
      "            ### if row a_herf is null , set default string ###\n",
      "            f_ahref = (lambda x: \"\" if len(x) == 0 else x('a')[0].content)\n",
      "            \n",
      "            Season    = f_content(tds[0]) ; #print Season\n",
      "            Team      = f_ahref(tds[1])   ; #print Team\n",
      "            Lg        = f_ahref(tds[2]) ; #print Lg\n",
      "            Salary    = f_content(tds[3]) ; #print Salary\n",
      "\n",
      "            salaries_list=[Season,Team,Lg,Salary]\n",
      "            salaries_dict[Season]=salaries_list\n",
      "\n",
      "    return\n",
      "\n",
      "salaries_dict={}\n",
      "get_players_salaries(player_tables_by_type[u'salaries'])\n",
      "\n",
      "salaries_dict\n"
     ],
     "language": "python",
     "metadata": {},
     "outputs": [
      {
       "metadata": {},
       "output_type": "pyout",
       "prompt_number": 12,
       "text": [
        "{u'1996-97': [u'1996-97', u'Milwaukee Bucks', u'NBA', u'$1,785,000'],\n",
        " u'1997-98': [u'1997-98', u'Milwaukee Bucks', u'NBA', u'$2,052,360'],\n",
        " u'1998-99': [u'1998-99', u'Milwaukee Bucks', u'NBA', u'$2,320,000'],\n",
        " u'1999-00': [u'1999-00', u'Milwaukee Bucks', u'NBA', u'$9,000,000'],\n",
        " u'2000-01': [u'2000-01', u'Milwaukee Bucks', u'NBA', u'$10,130,000'],\n",
        " u'2001-02': [u'2001-02', u'Milwaukee Bucks', u'NBA', u'$11,250,000'],\n",
        " u'2002-03': [u'2002-03', u'Milwaukee Bucks', u'NBA', u'$12,375,000'],\n",
        " u'2003-04': [u'2003-04', u'Seattle SuperSonics', u'NBA', u'$13,500,000'],\n",
        " u'2004-05': [u'2004-05', u'Seattle SuperSonics', u'NBA', u'$14,625,000'],\n",
        " u'2005-06': [u'2005-06', u'Seattle SuperSonics', u'NBA', u'$13,223,140'],\n",
        " u'2006-07': [u'2006-07', u'Seattle SuperSonics', u'NBA', u'$14,611,570'],\n",
        " u'2007-08': [u'2007-08', u'Boston Celtics', u'NBA', u'$16,000,000'],\n",
        " u'2008-09': [u'2008-09', u'Boston Celtics', u'NBA', u'$18,388,430'],\n",
        " u'2009-10': [u'2009-10', u'Boston Celtics', u'NBA', u'$18,776,860'],\n",
        " u'2010-11': [u'2010-11', u'Boston Celtics', u'NBA', u'$10,000,000'],\n",
        " u'2011-12': [u'2011-12', u'Boston Celtics', u'NBA', u'$10,000,000'],\n",
        " u'2012-13': [u'2012-13', u'Miami Heat', u'NBA', u'$3,090,000'],\n",
        " u'2013-14': [u'2013-14', u'Miami Heat', u'NBA', u'$3,229,050']}"
       ]
      }
     ],
     "prompt_number": 12
    },
    {
     "cell_type": "code",
     "collapsed": false,
     "input": [
      "def get_players_totals(tables):\n",
      "    \"\"\"Extract Active players data for players from all tables and store it in dictionary.\"\"\"\n",
      "    \n",
      "    totals_list=[] \n",
      "    ### (Season,Age,Tm,Lg,Pos,G,GS,MP,FG,FGA,FG%,3P,\n",
      "    ###         3PA,3P%,2P,2PA,2P%,eFG%,FT,FTA,FT%,ORB,TRB,AST,STL,BLK,TOV,PF,PTS)\n",
      "    \n",
      "    # 1. step: try to extract data for a single table\n",
      "    for tbl in tables:\n",
      "        headers = tbl('tr')\n",
      "        #print headers\n",
      "        first_header = headers[0]\n",
      "        #print first_header\n",
      "        th_s = first_header('th')\n",
      "        #print th_s    \n",
      "        title = [val.content for val in th_s ]\n",
      "        #print title\n",
      "                \n",
      "        # 2. step: iterate over all tables, extract headings and actual data and combine data into single dict\n",
      "        rows = tbl('tr')[1:]\n",
      "        for row in rows:\n",
      "            \n",
      "            tds = row('td')\n",
      "            \n",
      "            if len(tds[0]('a')) > 0:\n",
      "                ### if row content is null , set default string ###\n",
      "                f_content = (lambda x: \"\" if len(x) == 0 else x.content)\n",
      "                ### if row a_herf is null , set default string ###\n",
      "                f_ahref = (lambda x: x.content if len(x('a')) == 0 else x('a')[0].content)\n",
      "            \n",
      "                Season       = f_ahref(tds[0])\n",
      "                Age          = f_content(tds[1])\n",
      "                Tm           = f_ahref(tds[2])\n",
      "                Lg           = f_ahref(tds[3])\n",
      "                Pos          = f_content(tds[4])\n",
      "                G            = f_content(tds[5])\n",
      "                GS           = f_content(tds[6])\n",
      "                MP           = f_content(tds[7])\n",
      "                FG           = f_content(tds[8])\n",
      "                FGA          = f_content(tds[9])\n",
      "                FG_Per       = f_content(tds[10])\n",
      "                three_P      = f_content(tds[11])\n",
      "                three_PA     = f_content(tds[12])\n",
      "                three_P_Per  = f_content(tds[13])\n",
      "                two_P        = f_content(tds[14])\n",
      "                two_PA       = f_content(tds[15])\n",
      "                two_P_Per    = f_content(tds[16])\n",
      "                eFG_Per      = f_content(tds[17])\n",
      "                FT           = f_content(tds[18])\n",
      "                FTA          = f_content(tds[19])\n",
      "                FT_Per       = f_content(tds[20])\n",
      "                ORB          = f_content(tds[21])\n",
      "                DRB          = f_content(tds[22])\n",
      "                TRB          = f_content(tds[23])\n",
      "                AST          = f_content(tds[24])\n",
      "                STL          = f_content(tds[25])\n",
      "                BLK          = f_content(tds[26])\n",
      "                TOV          = f_content(tds[27])\n",
      "                PF           = f_content(tds[28])\n",
      "                PTS          = f_content(tds[29])\n",
      "\n",
      "                totals_list=[Season,Age,Tm,Lg,Pos,G,GS,MP,FG,FGA,FG_Per,three_P,three_PA,\n",
      "                             three_P_Per,two_P,two_PA,two_P_Per,eFG_Per,FT,FTA,FT_Per,ORB,DRB,TRB,AST,STL,BLK,TOV,PF,PTS]\n",
      "                \n",
      "                if Season not in totals_dict:\n",
      "                    totals_dict[Season]=totals_list\n",
      "\n",
      "    return\n",
      "\n",
      "totals_dict={}\n",
      "get_players_totals(player_tables_by_type[u'totals'])\n",
      "\n",
      "for key in sorted(totals_dict, key=totals_dict.get): print totals_dict[key]\n"
     ],
     "language": "python",
     "metadata": {},
     "outputs": [
      {
       "output_type": "stream",
       "stream": "stdout",
       "text": [
        "[u'1996-97', u'21', u'MIL', u'NBA', u'SG', u'82', u'81', u'2532', u'390', u'908', u'.430', u'117', u'298', u'.393', u'273', u'610', u'.448', u'.494', u'205', u'249', u'.823', u'97', u'229', u'326', u'210', u'75', u'10', u'149', u'218', u'1102']\n",
        "[u'1997-98', u'22', u'MIL', u'NBA', u'SG', u'82', u'82', u'3287', u'563', u'1315', u'.428', u'134', u'368', u'.364', u'429', u'947', u'.453', u'.479', u'342', u'391', u'.875', u'127', u'278', u'405', u'356', u'111', u'12', u'263', u'244', u'1602']\n",
        "[u'1998-99', u'23', u'MIL', u'NBA', u'SG', u'50', u'50', u'1719', u'303', u'673', u'.450', u'74', u'208', u'.356', u'229', u'465', u'.492', u'.505', u'176', u'195', u'.903', u'57', u'155', u'212', u'178', u'53', u'7', u'122', u'117', u'856']\n",
        "[u'1999-00', u'24', u'MIL', u'NBA', u'SG', u'82', u'82', u'3070', u'642', u'1411', u'.455', u'172', u'407', u'.423', u'470', u'1004', u'.468', u'.516', u'353', u'398', u'.887', u'83', u'276', u'359', u'308', u'110', u'19', u'183', u'187', u'1809']\n",
        "[u'2000-01', u'25', u'MIL', u'NBA', u'SG', u'82', u'82', u'3129', u'628', u'1309', u'.480', u'202', u'467', u'.433', u'426', u'842', u'.506', u'.557', u'348', u'392', u'.888', u'101', u'327', u'428', u'374', u'124', u'20', u'204', u'192', u'1806']\n",
        "[u'2001-02', u'26', u'MIL', u'NBA', u'SG', u'69', u'67', u'2525', u'530', u'1148', u'.462', u'229', u'528', u'.434', u'301', u'620', u'.485', u'.561', u'214', u'245', u'.873', u'81', u'231', u'312', u'271', u'88', u'18', u'159', u'157', u'1503']\n",
        "[u'2002-03', u'27', u'TOT', u'NBA', u'SG', u'76', u'75', u'2880', u'598', u'1363', u'.439', u'201', u'533', u'.377', u'397', u'830', u'.478', u'.512', u'316', u'345', u'.916', u'94', u'287', u'381', u'334', u'103', u'14', u'198', u'220', u'1713']\n",
        "[u'2003-04', u'28', u'SEA', u'NBA', u'SG', u'56', u'56', u'2152', u'447', u'1017', u'.440', u'148', u'378', u'.392', u'299', u'639', u'.468', u'.512', u'245', u'271', u'.904', u'69', u'217', u'286', u'268', u'71', u'11', u'156', u'132', u'1287']\n",
        "[u'2004-05', u'29', u'SEA', u'NBA', u'SG', u'78', u'78', u'3064', u'640', u'1494', u'.428', u'209', u'556', u'.376', u'431', u'938', u'.459', u'.498', u'378', u'428', u'.883', u'79', u'268', u'347', u'289', u'84', u'5', u'171', u'167', u'1867']\n",
        "[u'2005-06', u'30', u'SEA', u'NBA', u'SG', u'78', u'78', u'3022', u'681', u'1500', u'.454', u'269', u'653', u'.412', u'412', u'847', u'.486', u'.544', u'324', u'359', u'.903', u'71', u'261', u'332', u'286', u'105', u'16', u'188', u'151', u'1955']\n",
        "[u'2006-07', u'31', u'SEA', u'NBA', u'SG', u'55', u'55', u'2219', u'505', u'1153', u'.438', u'165', u'443', u'.372', u'340', u'710', u'.479', u'.510', u'279', u'309', u'.903', u'57', u'190', u'247', u'228', u'82', u'11', u'154', u'113', u'1454']\n",
        "[u'2007-08', u'32', u'BOS', u'NBA', u'SG', u'73', u'73', u'2624', u'439', u'986', u'.445', u'180', u'452', u'.398', u'259', u'534', u'.485', u'.537', u'215', u'237', u'.907', u'75', u'193', u'268', u'225', u'65', u'16', u'127', u'147', u'1273']\n",
        "[u'2008-09', u'33', u'BOS', u'NBA', u'SG', u'79', u'79', u'2876', u'499', u'1040', u'.480', u'199', u'486', u'.409', u'300', u'554', u'.542', u'.575', u'237', u'249', u'.952', u'66', u'212', u'278', u'218', u'69', u'13', u'134', u'157', u'1434']\n",
        "[u'2009-10', u'34', u'BOS', u'NBA', u'SG', u'80', u'80', u'2819', u'464', u'973', u'.477', u'145', u'399', u'.363', u'319', u'574', u'.556', u'.551', u'231', u'253', u'.913', u'45', u'208', u'253', u'210', u'64', u'25', u'129', u'182', u'1304']\n",
        "[u'2010-11', u'35', u'BOS', u'NBA', u'SG', u'80', u'80', u'2890', u'480', u'978', u'.491', u'168', u'378', u'.444', u'312', u'600', u'.520', u'.577', u'193', u'219', u'.881', u'51', u'223', u'274', u'219', u'77', u'16', u'117', u'147', u'1321']\n",
        "[u'2011-12', u'36', u'BOS', u'NBA', u'SG', u'46', u'42', u'1565', u'226', u'493', u'.458', u'106', u'234', u'.453', u'120', u'259', u'.463', u'.566', u'97', u'106', u'.915', u'14', u'128', u'142', u'109', u'49', u'8', u'68', u'83', u'655']\n",
        "[u'2012-13', u'37', u'MIA', u'NBA', u'SG', u'79', u'0', u'2035', u'292', u'651', u'.449', u'139', u'332', u'.419', u'153', u'319', u'.480', u'.555', u'140', u'158', u'.886', u'40', u'177', u'217', u'135', u'67', u'15', u'103', u'129', u'863']\n",
        "[u'2013-14', u'38', u'MIA', u'NBA', u'SG', u'73', u'9', u'1936', u'240', u'543', u'.442', u'116', u'309', u'.375', u'124', u'234', u'.530', u'.549', u'105', u'116', u'.905', u'23', u'182', u'205', u'143', u'54', u'8', u'84', u'115', u'701']\n"
       ]
      }
     ],
     "prompt_number": 31
    },
    {
     "cell_type": "code",
     "collapsed": false,
     "input": [],
     "language": "python",
     "metadata": {},
     "outputs": []
    }
   ],
   "metadata": {}
  }
 ]
}
{
 "cells": [
  {
   "cell_type": "markdown",
   "metadata": {},
   "source": [
    "#Basketball-reference Faeture Selection"
   ]
  },
  {
   "cell_type": "code",
   "execution_count": 1,
   "metadata": {
    "collapsed": true
   },
   "outputs": [],
   "source": [
    "from collections import defaultdict\n",
    "import pandas as pd\n",
    "import numpy as np\n",
    "import matplotlib.pyplot as plt\n",
    "import re\n",
    "import sklearn as skl\n",
    "%matplotlib inline\n",
    "\n",
    "from sklearn.svm import SVC\n",
    "from sklearn.cross_validation import StratifiedKFold\n",
    "from sklearn.feature_selection import RFECV\n",
    "from sklearn.datasets import make_classification\n",
    "\n",
    "from sklearn.ensemble import RandomForestClassifier\n"
   ]
  },
  {
   "cell_type": "markdown",
   "metadata": {},
   "source": [
    "###Read Player Seaaon CSV"
   ]
  },
  {
   "cell_type": "code",
   "execution_count": 2,
   "metadata": {
    "collapsed": false
   },
   "outputs": [
    {
     "name": "stdout",
     "output_type": "stream",
     "text": [
      "<class 'pandas.core.frame.DataFrame'>\n",
      "Int64Index: 3440 entries, 0 to 3439\n",
      "Data columns (total 20 columns):\n",
      "Age          3440 non-null float64\n",
      "G            3440 non-null float64\n",
      "MP           3440 non-null float64\n",
      "EFF          3440 non-null float64\n",
      "GmSc         3440 non-null float64\n",
      "PER          3440 non-null float64\n",
      "ORtg         3440 non-null float64\n",
      "DRtg         3440 non-null float64\n",
      "AST_Per      3440 non-null float64\n",
      "STL_Per      3440 non-null float64\n",
      "BLK_Per      3440 non-null float64\n",
      "TOV_Per      3440 non-null float64\n",
      "TS_Per       3440 non-null float64\n",
      "FT_Per       3440 non-null float64\n",
      "Three_Per    3440 non-null float64\n",
      "ORB_Per      3440 non-null float64\n",
      "DRB_Per      3440 non-null float64\n",
      "TRB_Per      3440 non-null float64\n",
      "USG_Per      3440 non-null float64\n",
      "Salary       3440 non-null float64\n",
      "dtypes: float64(20)\n",
      "memory usage: 564.4 KB\n"
     ]
    }
   ],
   "source": [
    "df_Season_norm = pd.read_csv('e:\\\\nba\\\\Season_Normalization.csv', header=0)\n",
    "\n",
    "df_Season_norm.info()"
   ]
  },
  {
   "cell_type": "markdown",
   "metadata": {},
   "source": [
    "###Feature Selection RFECV"
   ]
  },
  {
   "cell_type": "code",
   "execution_count": 3,
   "metadata": {
    "collapsed": false
   },
   "outputs": [],
   "source": [
    "vars_list = ['Age','G','MP','EFF','GmSc','PER','ORtg','DRtg','AST_Per','STL_Per','BLK_Per',\n",
    "             'TOV_Per','TS_Per','FT_Per','Three_Per','ORB_Per','DRB_Per','TRB_Per','USG_Per']\n",
    "\n",
    "data   = df_Season_norm[vars_list]\n",
    "target = df_Season_norm['Salary']"
   ]
  },
  {
   "cell_type": "code",
   "execution_count": 5,
   "metadata": {
    "collapsed": false
   },
   "outputs": [
    {
     "data": {
      "text/plain": [
       "array([ True,  True,  True,  True,  True,  True,  True, False,  True,\n",
       "        True,  True,  True,  True,  True,  True,  True,  True,  True,  True], dtype=bool)"
      ]
     },
     "execution_count": 5,
     "metadata": {},
     "output_type": "execute_result"
    }
   ],
   "source": [
    "from sklearn.feature_selection import RFECV\n",
    "from sklearn.svm import SVR\n",
    "\n",
    "estimator = SVR(kernel=\"linear\")\n",
    "RFECV_selector = RFECV(estimator, step=1, cv=5)\n",
    "RFECV_selector = selector.fit(data,target)\n",
    "\n",
    "RFECV_selector.support_ "
   ]
  },
  {
   "cell_type": "code",
   "execution_count": 6,
   "metadata": {
    "collapsed": false
   },
   "outputs": [
    {
     "data": {
      "text/plain": [
       "array([1, 1, 1, 1, 1, 1, 1, 2, 1, 1, 1, 1, 1, 1, 1, 1, 1, 1, 1])"
      ]
     },
     "execution_count": 6,
     "metadata": {},
     "output_type": "execute_result"
    }
   ],
   "source": [
    "RFECV_selector.ranking_"
   ]
  },
  {
   "cell_type": "code",
   "execution_count": 7,
   "metadata": {
    "collapsed": false
   },
   "outputs": [
    {
     "name": "stdout",
     "output_type": "stream",
     "text": [
      "Optimal number of features : 18\n"
     ]
    }
   ],
   "source": [
    "print(\"Optimal number of features : %d\" % RFECV_selector.n_features_)"
   ]
  },
  {
   "cell_type": "code",
   "execution_count": 8,
   "metadata": {
    "collapsed": false
   },
   "outputs": [
    {
     "data": {
      "image/png": "[encoded data removed]",
      "text/plain": [
       "<matplotlib.figure.Figure at 0x17634128>"
      ]
     },
     "metadata": {},
     "output_type": "display_data"
    }
   ],
   "source": [
    "plt.figure()\n",
    "plt.xlabel(\"Number of features selected\")\n",
    "plt.ylabel(\"Cross validation score (nb of correct classifications)\")\n",
    "plt.plot(range(1, len(RFECV_selector.grid_scores_) + 1), RFECV_selector.grid_scores_)\n",
    "plt.show()"
   ]
  },
  {
   "cell_type": "markdown",
   "metadata": {
    "collapsed": true
   },
   "source": [
    "###Multi-class classification"
   ]
  },
  {
   "cell_type": "code",
   "execution_count": 9,
   "metadata": {
    "collapsed": false
   },
   "outputs": [
    {
     "data": {
      "text/plain": [
       "SVC(C=1.0, cache_size=200, class_weight=None, coef0=0.0, degree=3, gamma=0.0,\n",
       "  kernel='rbf', max_iter=-1, probability=False, random_state=None,\n",
       "  shrinking=True, tol=0.001, verbose=False)"
      ]
     },
     "execution_count": 9,
     "metadata": {},
     "output_type": "execute_result"
    }
   ],
   "source": [
    "clf = skl.svm.SVC()\n",
    "clf.fit(data,target)"
   ]
  },
  {
   "cell_type": "code",
   "execution_count": 10,
   "metadata": {
    "collapsed": false
   },
   "outputs": [
    {
     "data": {
      "text/plain": [
       "array([3140, 2264,  485, ..., 2422,  265, 2832])"
      ]
     },
     "execution_count": 10,
     "metadata": {},
     "output_type": "execute_result"
    }
   ],
   "source": [
    "clf.support_"
   ]
  },
  {
   "cell_type": "markdown",
   "metadata": {},
   "source": [
    "###Recursive feature elimination"
   ]
  },
  {
   "cell_type": "code",
   "execution_count": 11,
   "metadata": {
    "collapsed": false
   },
   "outputs": [
    {
     "data": {
      "text/plain": [
       "RFE(estimator=SVC(C=1, cache_size=200, class_weight=None, coef0=0.0, degree=3, gamma=0.0,\n",
       "  kernel='linear', max_iter=-1, probability=False, random_state=None,\n",
       "  shrinking=True, tol=0.001, verbose=False),\n",
       "  estimator_params={}, n_features_to_select=15, step=1, verbose=0)"
      ]
     },
     "execution_count": 11,
     "metadata": {},
     "output_type": "execute_result"
    }
   ],
   "source": [
    "from sklearn.feature_selection import RFE\n",
    "from sklearn.datasets import load_digits\n",
    "digits = load_digits()\n",
    "\n",
    "svc = SVC(kernel=\"linear\", C=1)\n",
    "rfe = RFE(estimator=svc, n_features_to_select=15, step=1)\n",
    "rfe.fit(data,target)\n"
   ]
  },
  {
   "cell_type": "code",
   "execution_count": 12,
   "metadata": {
    "collapsed": false
   },
   "outputs": [
    {
     "data": {
      "image/png": "[encoded data removed]",
      "text/plain": [
       "<matplotlib.figure.Figure at 0x179eca58>"
      ]
     },
     "metadata": {},
     "output_type": "display_data"
    }
   ],
   "source": [
    "ranking = rfe.ranking_.reshape(len(vars_list),1)\n",
    "\n",
    "plt.matshow(ranking)\n",
    "plt.colorbar()\n",
    "plt.title(\"Ranking of pixels with RFE\")\n",
    "plt.show()"
   ]
  },
  {
   "cell_type": "code",
   "execution_count": 13,
   "metadata": {
    "collapsed": false
   },
   "outputs": [
    {
     "name": "stdout",
     "output_type": "stream",
     "text": [
      "[ True  True  True  True  True False  True False  True  True  True False\n",
      "  True False  True  True  True  True  True]\n",
      "[1 1 1 1 1 3 1 4 1 1 1 2 1 5 1 1 1 1 1]\n"
     ]
    }
   ],
   "source": [
    "print rfe.support_ \n",
    "\n",
    "print rfe.ranking_\n"
   ]
  },
  {
   "cell_type": "code",
   "execution_count": 14,
   "metadata": {
    "collapsed": false
   },
   "outputs": [
    {
     "data": {
      "text/html": [
       "<div style=\"max-height:1000px;max-width:1500px;overflow:auto;\">\n",
       "<table border=\"1\" class=\"dataframe\">\n",
       "  <thead>\n",
       "    <tr style=\"text-align: right;\">\n",
       "      <th></th>\n",
       "      <th>Age</th>\n",
       "      <th>G</th>\n",
       "      <th>MP</th>\n",
       "      <th>EFF</th>\n",
       "      <th>GmSc</th>\n",
       "      <th>PER</th>\n",
       "      <th>ORtg</th>\n",
       "      <th>DRtg</th>\n",
       "      <th>AST_Per</th>\n",
       "      <th>STL_Per</th>\n",
       "      <th>BLK_Per</th>\n",
       "      <th>TOV_Per</th>\n",
       "      <th>TS_Per</th>\n",
       "      <th>FT_Per</th>\n",
       "      <th>Three_Per</th>\n",
       "      <th>ORB_Per</th>\n",
       "      <th>DRB_Per</th>\n",
       "      <th>TRB_Per</th>\n",
       "      <th>USG_Per</th>\n",
       "    </tr>\n",
       "  </thead>\n",
       "  <tbody>\n",
       "    <tr>\n",
       "      <th>1</th>\n",
       "      <td> True</td>\n",
       "      <td> True</td>\n",
       "      <td> True</td>\n",
       "      <td> True</td>\n",
       "      <td> True</td>\n",
       "      <td>  True</td>\n",
       "      <td> True</td>\n",
       "      <td> False</td>\n",
       "      <td> True</td>\n",
       "      <td> True</td>\n",
       "      <td> True</td>\n",
       "      <td>  True</td>\n",
       "      <td> True</td>\n",
       "      <td>  True</td>\n",
       "      <td> True</td>\n",
       "      <td> True</td>\n",
       "      <td> True</td>\n",
       "      <td> True</td>\n",
       "      <td> True</td>\n",
       "    </tr>\n",
       "    <tr>\n",
       "      <th>2</th>\n",
       "      <td>    1</td>\n",
       "      <td>    1</td>\n",
       "      <td>    1</td>\n",
       "      <td>    1</td>\n",
       "      <td>    1</td>\n",
       "      <td>     1</td>\n",
       "      <td>    1</td>\n",
       "      <td>     2</td>\n",
       "      <td>    1</td>\n",
       "      <td>    1</td>\n",
       "      <td>    1</td>\n",
       "      <td>     1</td>\n",
       "      <td>    1</td>\n",
       "      <td>     1</td>\n",
       "      <td>    1</td>\n",
       "      <td>    1</td>\n",
       "      <td>    1</td>\n",
       "      <td>    1</td>\n",
       "      <td>    1</td>\n",
       "    </tr>\n",
       "    <tr>\n",
       "      <th>3</th>\n",
       "      <td> True</td>\n",
       "      <td> True</td>\n",
       "      <td> True</td>\n",
       "      <td> True</td>\n",
       "      <td> True</td>\n",
       "      <td> False</td>\n",
       "      <td> True</td>\n",
       "      <td> False</td>\n",
       "      <td> True</td>\n",
       "      <td> True</td>\n",
       "      <td> True</td>\n",
       "      <td> False</td>\n",
       "      <td> True</td>\n",
       "      <td> False</td>\n",
       "      <td> True</td>\n",
       "      <td> True</td>\n",
       "      <td> True</td>\n",
       "      <td> True</td>\n",
       "      <td> True</td>\n",
       "    </tr>\n",
       "    <tr>\n",
       "      <th>4</th>\n",
       "      <td>    1</td>\n",
       "      <td>    1</td>\n",
       "      <td>    1</td>\n",
       "      <td>    1</td>\n",
       "      <td>    1</td>\n",
       "      <td>     3</td>\n",
       "      <td>    1</td>\n",
       "      <td>     4</td>\n",
       "      <td>    1</td>\n",
       "      <td>    1</td>\n",
       "      <td>    1</td>\n",
       "      <td>     2</td>\n",
       "      <td>    1</td>\n",
       "      <td>     5</td>\n",
       "      <td>    1</td>\n",
       "      <td>    1</td>\n",
       "      <td>    1</td>\n",
       "      <td>    1</td>\n",
       "      <td>    1</td>\n",
       "    </tr>\n",
       "  </tbody>\n",
       "</table>\n",
       "</div>"
      ],
      "text/plain": [
       "    Age     G    MP   EFF  GmSc    PER  ORtg   DRtg AST_Per STL_Per BLK_Per  \\\n",
       "1  True  True  True  True  True   True  True  False    True    True    True   \n",
       "2     1     1     1     1     1      1     1      2       1       1       1   \n",
       "3  True  True  True  True  True  False  True  False    True    True    True   \n",
       "4     1     1     1     1     1      3     1      4       1       1       1   \n",
       "\n",
       "  TOV_Per TS_Per FT_Per Three_Per ORB_Per DRB_Per TRB_Per USG_Per  \n",
       "1    True   True   True      True    True    True    True    True  \n",
       "2       1      1      1         1       1       1       1       1  \n",
       "3   False   True  False      True    True    True    True    True  \n",
       "4       2      1      5         1       1       1       1       1  "
      ]
     },
     "execution_count": 14,
     "metadata": {},
     "output_type": "execute_result"
    }
   ],
   "source": [
    "df1 = pd.DataFrame(columns=vars_list)\n",
    "\n",
    "df1.loc[len(df1)+1] = selector.support_\n",
    "df1.loc[len(df1)+1] = selector.ranking_\n",
    "df1.loc[len(df1)+1] = rfe.support_\n",
    "df1.loc[len(df1)+1] = rfe.ranking_\n",
    "\n",
    "df1"
   ]
  },
  {
   "cell_type": "markdown",
   "metadata": {
    "collapsed": true
   },
   "source": [
    "###LinearRegression###"
   ]
  },
  {
   "cell_type": "code",
   "execution_count": 15,
   "metadata": {
    "collapsed": false
   },
   "outputs": [
    {
     "name": "stdout",
     "output_type": "stream",
     "text": [
      "[ True False  True  True  True  True False  True  True  True False  True\n",
      "  True  True False  True  True  True  True]\n",
      "[1 4 1 1 1 1 5 1 1 1 2 1 1 1 3 1 1 1 1]\n"
     ]
    }
   ],
   "source": [
    "from sklearn.linear_model import LinearRegression\n",
    "\n",
    "# create a base classifier used to evaluate a subset of attributes\n",
    "model = LinearRegression()\n",
    "\n",
    "# create the RFE model and select 3 attributes\n",
    "rfe_LinearRegression = RFE(model, 15)\n",
    "rfe_LinearRegression = rfe_LinearRegression.fit(data,target)\n",
    "# summarize the selection of the attributes\n",
    "print(rfe_LinearRegression.support_)\n",
    "print(rfe_LinearRegression.ranking_)"
   ]
  },
  {
   "cell_type": "code",
   "execution_count": 16,
   "metadata": {
    "collapsed": false
   },
   "outputs": [
    {
     "data": {
      "text/html": [
       "<div style=\"max-height:1000px;max-width:1500px;overflow:auto;\">\n",
       "<table border=\"1\" class=\"dataframe\">\n",
       "  <thead>\n",
       "    <tr style=\"text-align: right;\">\n",
       "      <th></th>\n",
       "      <th>Age</th>\n",
       "      <th>G</th>\n",
       "      <th>MP</th>\n",
       "      <th>EFF</th>\n",
       "      <th>GmSc</th>\n",
       "      <th>PER</th>\n",
       "      <th>ORtg</th>\n",
       "      <th>DRtg</th>\n",
       "      <th>AST_Per</th>\n",
       "      <th>STL_Per</th>\n",
       "      <th>BLK_Per</th>\n",
       "      <th>TOV_Per</th>\n",
       "      <th>TS_Per</th>\n",
       "      <th>FT_Per</th>\n",
       "      <th>Three_Per</th>\n",
       "      <th>ORB_Per</th>\n",
       "      <th>DRB_Per</th>\n",
       "      <th>TRB_Per</th>\n",
       "      <th>USG_Per</th>\n",
       "    </tr>\n",
       "  </thead>\n",
       "  <tbody>\n",
       "    <tr>\n",
       "      <th>1</th>\n",
       "      <td> True</td>\n",
       "      <td>  True</td>\n",
       "      <td> True</td>\n",
       "      <td> True</td>\n",
       "      <td> True</td>\n",
       "      <td>  True</td>\n",
       "      <td>  True</td>\n",
       "      <td> False</td>\n",
       "      <td> True</td>\n",
       "      <td> True</td>\n",
       "      <td>  True</td>\n",
       "      <td>  True</td>\n",
       "      <td> True</td>\n",
       "      <td>  True</td>\n",
       "      <td>  True</td>\n",
       "      <td> True</td>\n",
       "      <td> True</td>\n",
       "      <td> True</td>\n",
       "      <td> True</td>\n",
       "    </tr>\n",
       "    <tr>\n",
       "      <th>2</th>\n",
       "      <td>    1</td>\n",
       "      <td>     1</td>\n",
       "      <td>    1</td>\n",
       "      <td>    1</td>\n",
       "      <td>    1</td>\n",
       "      <td>     1</td>\n",
       "      <td>     1</td>\n",
       "      <td>     2</td>\n",
       "      <td>    1</td>\n",
       "      <td>    1</td>\n",
       "      <td>     1</td>\n",
       "      <td>     1</td>\n",
       "      <td>    1</td>\n",
       "      <td>     1</td>\n",
       "      <td>     1</td>\n",
       "      <td>    1</td>\n",
       "      <td>    1</td>\n",
       "      <td>    1</td>\n",
       "      <td>    1</td>\n",
       "    </tr>\n",
       "    <tr>\n",
       "      <th>3</th>\n",
       "      <td> True</td>\n",
       "      <td>  True</td>\n",
       "      <td> True</td>\n",
       "      <td> True</td>\n",
       "      <td> True</td>\n",
       "      <td> False</td>\n",
       "      <td>  True</td>\n",
       "      <td> False</td>\n",
       "      <td> True</td>\n",
       "      <td> True</td>\n",
       "      <td>  True</td>\n",
       "      <td> False</td>\n",
       "      <td> True</td>\n",
       "      <td> False</td>\n",
       "      <td>  True</td>\n",
       "      <td> True</td>\n",
       "      <td> True</td>\n",
       "      <td> True</td>\n",
       "      <td> True</td>\n",
       "    </tr>\n",
       "    <tr>\n",
       "      <th>4</th>\n",
       "      <td>    1</td>\n",
       "      <td>     1</td>\n",
       "      <td>    1</td>\n",
       "      <td>    1</td>\n",
       "      <td>    1</td>\n",
       "      <td>     3</td>\n",
       "      <td>     1</td>\n",
       "      <td>     4</td>\n",
       "      <td>    1</td>\n",
       "      <td>    1</td>\n",
       "      <td>     1</td>\n",
       "      <td>     2</td>\n",
       "      <td>    1</td>\n",
       "      <td>     5</td>\n",
       "      <td>     1</td>\n",
       "      <td>    1</td>\n",
       "      <td>    1</td>\n",
       "      <td>    1</td>\n",
       "      <td>    1</td>\n",
       "    </tr>\n",
       "    <tr>\n",
       "      <th>5</th>\n",
       "      <td> True</td>\n",
       "      <td> False</td>\n",
       "      <td> True</td>\n",
       "      <td> True</td>\n",
       "      <td> True</td>\n",
       "      <td>  True</td>\n",
       "      <td> False</td>\n",
       "      <td>  True</td>\n",
       "      <td> True</td>\n",
       "      <td> True</td>\n",
       "      <td> False</td>\n",
       "      <td>  True</td>\n",
       "      <td> True</td>\n",
       "      <td>  True</td>\n",
       "      <td> False</td>\n",
       "      <td> True</td>\n",
       "      <td> True</td>\n",
       "      <td> True</td>\n",
       "      <td> True</td>\n",
       "    </tr>\n",
       "    <tr>\n",
       "      <th>6</th>\n",
       "      <td>    1</td>\n",
       "      <td>     4</td>\n",
       "      <td>    1</td>\n",
       "      <td>    1</td>\n",
       "      <td>    1</td>\n",
       "      <td>     1</td>\n",
       "      <td>     5</td>\n",
       "      <td>     1</td>\n",
       "      <td>    1</td>\n",
       "      <td>    1</td>\n",
       "      <td>     2</td>\n",
       "      <td>     1</td>\n",
       "      <td>    1</td>\n",
       "      <td>     1</td>\n",
       "      <td>     3</td>\n",
       "      <td>    1</td>\n",
       "      <td>    1</td>\n",
       "      <td>    1</td>\n",
       "      <td>    1</td>\n",
       "    </tr>\n",
       "  </tbody>\n",
       "</table>\n",
       "</div>"
      ],
      "text/plain": [
       "    Age      G    MP   EFF  GmSc    PER   ORtg   DRtg AST_Per STL_Per BLK_Per  \\\n",
       "1  True   True  True  True  True   True   True  False    True    True    True   \n",
       "2     1      1     1     1     1      1      1      2       1       1       1   \n",
       "3  True   True  True  True  True  False   True  False    True    True    True   \n",
       "4     1      1     1     1     1      3      1      4       1       1       1   \n",
       "5  True  False  True  True  True   True  False   True    True    True   False   \n",
       "6     1      4     1     1     1      1      5      1       1       1       2   \n",
       "\n",
       "  TOV_Per TS_Per FT_Per Three_Per ORB_Per DRB_Per TRB_Per USG_Per  \n",
       "1    True   True   True      True    True    True    True    True  \n",
       "2       1      1      1         1       1       1       1       1  \n",
       "3   False   True  False      True    True    True    True    True  \n",
       "4       2      1      5         1       1       1       1       1  \n",
       "5    True   True   True     False    True    True    True    True  \n",
       "6       1      1      1         3       1       1       1       1  "
      ]
     },
     "execution_count": 16,
     "metadata": {},
     "output_type": "execute_result"
    }
   ],
   "source": [
    "df1.loc[len(df1)+1] = rfe_LinearRegression.support_\n",
    "df1.loc[len(df1)+1] = rfe_LinearRegression.ranking_\n",
    "df1"
   ]
  },
  {
   "cell_type": "markdown",
   "metadata": {},
   "source": [
    "###LogisticRegression###"
   ]
  },
  {
   "cell_type": "code",
   "execution_count": 17,
   "metadata": {
    "collapsed": false
   },
   "outputs": [
    {
     "name": "stdout",
     "output_type": "stream",
     "text": [
      "[ True  True  True  True  True  True  True  True  True False False  True\n",
      "  True False  True False  True  True  True]\n",
      "[1 1 1 1 1 1 1 1 1 2 3 1 1 5 1 4 1 1 1]\n"
     ]
    }
   ],
   "source": [
    "from sklearn.linear_model import LogisticRegression\n",
    "\n",
    "# create a base classifier used to evaluate a subset of attributes\n",
    "model = LogisticRegression()\n",
    "\n",
    "# create the RFE model and select 3 attributes\n",
    "rfe_LogisticRegression = RFE(model, 15)\n",
    "rfe_LogisticRegression = rfe_LogisticRegression.fit(data,target)\n",
    "# summarize the selection of the attributes\n",
    "print(rfe_LogisticRegression.support_)\n",
    "print(rfe_LogisticRegression.ranking_)"
   ]
  },
  {
   "cell_type": "code",
   "execution_count": 18,
   "metadata": {
    "collapsed": false
   },
   "outputs": [
    {
     "data": {
      "text/html": [
       "<div style=\"max-height:1000px;max-width:1500px;overflow:auto;\">\n",
       "<table border=\"1\" class=\"dataframe\">\n",
       "  <thead>\n",
       "    <tr style=\"text-align: right;\">\n",
       "      <th></th>\n",
       "      <th>Age</th>\n",
       "      <th>G</th>\n",
       "      <th>MP</th>\n",
       "      <th>EFF</th>\n",
       "      <th>GmSc</th>\n",
       "      <th>PER</th>\n",
       "      <th>ORtg</th>\n",
       "      <th>DRtg</th>\n",
       "      <th>AST_Per</th>\n",
       "      <th>STL_Per</th>\n",
       "      <th>BLK_Per</th>\n",
       "      <th>TOV_Per</th>\n",
       "      <th>TS_Per</th>\n",
       "      <th>FT_Per</th>\n",
       "      <th>Three_Per</th>\n",
       "      <th>ORB_Per</th>\n",
       "      <th>DRB_Per</th>\n",
       "      <th>TRB_Per</th>\n",
       "      <th>USG_Per</th>\n",
       "    </tr>\n",
       "  </thead>\n",
       "  <tbody>\n",
       "    <tr>\n",
       "      <th>1</th>\n",
       "      <td> True</td>\n",
       "      <td>  True</td>\n",
       "      <td> True</td>\n",
       "      <td> True</td>\n",
       "      <td> True</td>\n",
       "      <td>  True</td>\n",
       "      <td>  True</td>\n",
       "      <td> False</td>\n",
       "      <td> True</td>\n",
       "      <td>  True</td>\n",
       "      <td>  True</td>\n",
       "      <td>  True</td>\n",
       "      <td> True</td>\n",
       "      <td>  True</td>\n",
       "      <td>  True</td>\n",
       "      <td>  True</td>\n",
       "      <td> True</td>\n",
       "      <td> True</td>\n",
       "      <td> True</td>\n",
       "    </tr>\n",
       "    <tr>\n",
       "      <th>2</th>\n",
       "      <td>    1</td>\n",
       "      <td>     1</td>\n",
       "      <td>    1</td>\n",
       "      <td>    1</td>\n",
       "      <td>    1</td>\n",
       "      <td>     1</td>\n",
       "      <td>     1</td>\n",
       "      <td>     2</td>\n",
       "      <td>    1</td>\n",
       "      <td>     1</td>\n",
       "      <td>     1</td>\n",
       "      <td>     1</td>\n",
       "      <td>    1</td>\n",
       "      <td>     1</td>\n",
       "      <td>     1</td>\n",
       "      <td>     1</td>\n",
       "      <td>    1</td>\n",
       "      <td>    1</td>\n",
       "      <td>    1</td>\n",
       "    </tr>\n",
       "    <tr>\n",
       "      <th>3</th>\n",
       "      <td> True</td>\n",
       "      <td>  True</td>\n",
       "      <td> True</td>\n",
       "      <td> True</td>\n",
       "      <td> True</td>\n",
       "      <td> False</td>\n",
       "      <td>  True</td>\n",
       "      <td> False</td>\n",
       "      <td> True</td>\n",
       "      <td>  True</td>\n",
       "      <td>  True</td>\n",
       "      <td> False</td>\n",
       "      <td> True</td>\n",
       "      <td> False</td>\n",
       "      <td>  True</td>\n",
       "      <td>  True</td>\n",
       "      <td> True</td>\n",
       "      <td> True</td>\n",
       "      <td> True</td>\n",
       "    </tr>\n",
       "    <tr>\n",
       "      <th>4</th>\n",
       "      <td>    1</td>\n",
       "      <td>     1</td>\n",
       "      <td>    1</td>\n",
       "      <td>    1</td>\n",
       "      <td>    1</td>\n",
       "      <td>     3</td>\n",
       "      <td>     1</td>\n",
       "      <td>     4</td>\n",
       "      <td>    1</td>\n",
       "      <td>     1</td>\n",
       "      <td>     1</td>\n",
       "      <td>     2</td>\n",
       "      <td>    1</td>\n",
       "      <td>     5</td>\n",
       "      <td>     1</td>\n",
       "      <td>     1</td>\n",
       "      <td>    1</td>\n",
       "      <td>    1</td>\n",
       "      <td>    1</td>\n",
       "    </tr>\n",
       "    <tr>\n",
       "      <th>5</th>\n",
       "      <td> True</td>\n",
       "      <td> False</td>\n",
       "      <td> True</td>\n",
       "      <td> True</td>\n",
       "      <td> True</td>\n",
       "      <td>  True</td>\n",
       "      <td> False</td>\n",
       "      <td>  True</td>\n",
       "      <td> True</td>\n",
       "      <td>  True</td>\n",
       "      <td> False</td>\n",
       "      <td>  True</td>\n",
       "      <td> True</td>\n",
       "      <td>  True</td>\n",
       "      <td> False</td>\n",
       "      <td>  True</td>\n",
       "      <td> True</td>\n",
       "      <td> True</td>\n",
       "      <td> True</td>\n",
       "    </tr>\n",
       "    <tr>\n",
       "      <th>6</th>\n",
       "      <td>    1</td>\n",
       "      <td>     4</td>\n",
       "      <td>    1</td>\n",
       "      <td>    1</td>\n",
       "      <td>    1</td>\n",
       "      <td>     1</td>\n",
       "      <td>     5</td>\n",
       "      <td>     1</td>\n",
       "      <td>    1</td>\n",
       "      <td>     1</td>\n",
       "      <td>     2</td>\n",
       "      <td>     1</td>\n",
       "      <td>    1</td>\n",
       "      <td>     1</td>\n",
       "      <td>     3</td>\n",
       "      <td>     1</td>\n",
       "      <td>    1</td>\n",
       "      <td>    1</td>\n",
       "      <td>    1</td>\n",
       "    </tr>\n",
       "    <tr>\n",
       "      <th>7</th>\n",
       "      <td> True</td>\n",
       "      <td>  True</td>\n",
       "      <td> True</td>\n",
       "      <td> True</td>\n",
       "      <td> True</td>\n",
       "      <td>  True</td>\n",
       "      <td>  True</td>\n",
       "      <td>  True</td>\n",
       "      <td> True</td>\n",
       "      <td> False</td>\n",
       "      <td> False</td>\n",
       "      <td>  True</td>\n",
       "      <td> True</td>\n",
       "      <td> False</td>\n",
       "      <td>  True</td>\n",
       "      <td> False</td>\n",
       "      <td> True</td>\n",
       "      <td> True</td>\n",
       "      <td> True</td>\n",
       "    </tr>\n",
       "    <tr>\n",
       "      <th>8</th>\n",
       "      <td>    1</td>\n",
       "      <td>     1</td>\n",
       "      <td>    1</td>\n",
       "      <td>    1</td>\n",
       "      <td>    1</td>\n",
       "      <td>     1</td>\n",
       "      <td>     1</td>\n",
       "      <td>     1</td>\n",
       "      <td>    1</td>\n",
       "      <td>     2</td>\n",
       "      <td>     3</td>\n",
       "      <td>     1</td>\n",
       "      <td>    1</td>\n",
       "      <td>     5</td>\n",
       "      <td>     1</td>\n",
       "      <td>     4</td>\n",
       "      <td>    1</td>\n",
       "      <td>    1</td>\n",
       "      <td>    1</td>\n",
       "    </tr>\n",
       "  </tbody>\n",
       "</table>\n",
       "</div>"
      ],
      "text/plain": [
       "    Age      G    MP   EFF  GmSc    PER   ORtg   DRtg AST_Per STL_Per BLK_Per  \\\n",
       "1  True   True  True  True  True   True   True  False    True    True    True   \n",
       "2     1      1     1     1     1      1      1      2       1       1       1   \n",
       "3  True   True  True  True  True  False   True  False    True    True    True   \n",
       "4     1      1     1     1     1      3      1      4       1       1       1   \n",
       "5  True  False  True  True  True   True  False   True    True    True   False   \n",
       "6     1      4     1     1     1      1      5      1       1       1       2   \n",
       "7  True   True  True  True  True   True   True   True    True   False   False   \n",
       "8     1      1     1     1     1      1      1      1       1       2       3   \n",
       "\n",
       "  TOV_Per TS_Per FT_Per Three_Per ORB_Per DRB_Per TRB_Per USG_Per  \n",
       "1    True   True   True      True    True    True    True    True  \n",
       "2       1      1      1         1       1       1       1       1  \n",
       "3   False   True  False      True    True    True    True    True  \n",
       "4       2      1      5         1       1       1       1       1  \n",
       "5    True   True   True     False    True    True    True    True  \n",
       "6       1      1      1         3       1       1       1       1  \n",
       "7    True   True  False      True   False    True    True    True  \n",
       "8       1      1      5         1       4       1       1       1  "
      ]
     },
     "execution_count": 18,
     "metadata": {},
     "output_type": "execute_result"
    }
   ],
   "source": [
    "df1.loc[len(df1)+1] = rfe_LogisticRegression.support_\n",
    "df1.loc[len(df1)+1] = rfe_LogisticRegression.ranking_\n",
    "df1"
   ]
  },
  {
   "cell_type": "markdown",
   "metadata": {},
   "source": [
    "###Randomized Decision trees###"
   ]
  },
  {
   "cell_type": "code",
   "execution_count": 19,
   "metadata": {
    "collapsed": false
   },
   "outputs": [
    {
     "name": "stdout",
     "output_type": "stream",
     "text": [
      "[ 0.05548873  0.05351573  0.0558906   0.04916897  0.05373913  0.05154227\n",
      "  0.05143743  0.05372042  0.05434591  0.05024735  0.05229831  0.05139269\n",
      "  0.04984475  0.05368222  0.05369446  0.05352361  0.05210727  0.05296396\n",
      "  0.05139618]\n"
     ]
    }
   ],
   "source": [
    "# Feature Importance\n",
    "from sklearn import metrics\n",
    "from sklearn.ensemble import ExtraTreesClassifier\n",
    "\n",
    "# fit an Extra Trees model to the data\n",
    "model = ExtraTreesClassifier()\n",
    "model.fit(data, target)\n",
    "# display the relative importance of each attribute \n",
    "# The feature importances (the higher, the more important the feature).\n",
    "print(model.feature_importances_)"
   ]
  },
  {
   "cell_type": "code",
   "execution_count": 34,
   "metadata": {
    "collapsed": false
   },
   "outputs": [
    {
     "data": {
      "text/html": [
       "<div style=\"max-height:1000px;max-width:1500px;overflow:auto;\">\n",
       "<table border=\"1\" class=\"dataframe\">\n",
       "  <thead>\n",
       "    <tr style=\"text-align: right;\">\n",
       "      <th></th>\n",
       "      <th>Age</th>\n",
       "      <th>G</th>\n",
       "      <th>MP</th>\n",
       "      <th>EFF</th>\n",
       "      <th>GmSc</th>\n",
       "      <th>PER</th>\n",
       "      <th>ORtg</th>\n",
       "      <th>DRtg</th>\n",
       "      <th>AST_Per</th>\n",
       "      <th>STL_Per</th>\n",
       "      <th>BLK_Per</th>\n",
       "      <th>TOV_Per</th>\n",
       "      <th>TS_Per</th>\n",
       "      <th>FT_Per</th>\n",
       "      <th>Three_Per</th>\n",
       "      <th>ORB_Per</th>\n",
       "      <th>DRB_Per</th>\n",
       "      <th>TRB_Per</th>\n",
       "      <th>USG_Per</th>\n",
       "    </tr>\n",
       "  </thead>\n",
       "  <tbody>\n",
       "    <tr>\n",
       "      <th>1</th>\n",
       "      <td>       True</td>\n",
       "      <td>       True</td>\n",
       "      <td>      True</td>\n",
       "      <td>       True</td>\n",
       "      <td>       True</td>\n",
       "      <td>       True</td>\n",
       "      <td>       True</td>\n",
       "      <td>      False</td>\n",
       "      <td>       True</td>\n",
       "      <td>       True</td>\n",
       "      <td>       True</td>\n",
       "      <td>       True</td>\n",
       "      <td>       True</td>\n",
       "      <td>       True</td>\n",
       "      <td>       True</td>\n",
       "      <td>       True</td>\n",
       "      <td>       True</td>\n",
       "      <td>       True</td>\n",
       "      <td>       True</td>\n",
       "    </tr>\n",
       "    <tr>\n",
       "      <th>2</th>\n",
       "      <td>          1</td>\n",
       "      <td>          1</td>\n",
       "      <td>         1</td>\n",
       "      <td>          1</td>\n",
       "      <td>          1</td>\n",
       "      <td>          1</td>\n",
       "      <td>          1</td>\n",
       "      <td>          2</td>\n",
       "      <td>          1</td>\n",
       "      <td>          1</td>\n",
       "      <td>          1</td>\n",
       "      <td>          1</td>\n",
       "      <td>          1</td>\n",
       "      <td>          1</td>\n",
       "      <td>          1</td>\n",
       "      <td>          1</td>\n",
       "      <td>          1</td>\n",
       "      <td>          1</td>\n",
       "      <td>          1</td>\n",
       "    </tr>\n",
       "    <tr>\n",
       "      <th>3</th>\n",
       "      <td>       True</td>\n",
       "      <td>       True</td>\n",
       "      <td>      True</td>\n",
       "      <td>       True</td>\n",
       "      <td>       True</td>\n",
       "      <td>      False</td>\n",
       "      <td>       True</td>\n",
       "      <td>      False</td>\n",
       "      <td>       True</td>\n",
       "      <td>       True</td>\n",
       "      <td>       True</td>\n",
       "      <td>      False</td>\n",
       "      <td>       True</td>\n",
       "      <td>      False</td>\n",
       "      <td>       True</td>\n",
       "      <td>       True</td>\n",
       "      <td>       True</td>\n",
       "      <td>       True</td>\n",
       "      <td>       True</td>\n",
       "    </tr>\n",
       "    <tr>\n",
       "      <th>4</th>\n",
       "      <td>          1</td>\n",
       "      <td>          1</td>\n",
       "      <td>         1</td>\n",
       "      <td>          1</td>\n",
       "      <td>          1</td>\n",
       "      <td>          3</td>\n",
       "      <td>          1</td>\n",
       "      <td>          4</td>\n",
       "      <td>          1</td>\n",
       "      <td>          1</td>\n",
       "      <td>          1</td>\n",
       "      <td>          2</td>\n",
       "      <td>          1</td>\n",
       "      <td>          5</td>\n",
       "      <td>          1</td>\n",
       "      <td>          1</td>\n",
       "      <td>          1</td>\n",
       "      <td>          1</td>\n",
       "      <td>          1</td>\n",
       "    </tr>\n",
       "    <tr>\n",
       "      <th>5</th>\n",
       "      <td>       True</td>\n",
       "      <td>      False</td>\n",
       "      <td>      True</td>\n",
       "      <td>       True</td>\n",
       "      <td>       True</td>\n",
       "      <td>       True</td>\n",
       "      <td>      False</td>\n",
       "      <td>       True</td>\n",
       "      <td>       True</td>\n",
       "      <td>       True</td>\n",
       "      <td>      False</td>\n",
       "      <td>       True</td>\n",
       "      <td>       True</td>\n",
       "      <td>       True</td>\n",
       "      <td>      False</td>\n",
       "      <td>       True</td>\n",
       "      <td>       True</td>\n",
       "      <td>       True</td>\n",
       "      <td>       True</td>\n",
       "    </tr>\n",
       "    <tr>\n",
       "      <th>6</th>\n",
       "      <td>          1</td>\n",
       "      <td>          4</td>\n",
       "      <td>         1</td>\n",
       "      <td>          1</td>\n",
       "      <td>          1</td>\n",
       "      <td>          1</td>\n",
       "      <td>          5</td>\n",
       "      <td>          1</td>\n",
       "      <td>          1</td>\n",
       "      <td>          1</td>\n",
       "      <td>          2</td>\n",
       "      <td>          1</td>\n",
       "      <td>          1</td>\n",
       "      <td>          1</td>\n",
       "      <td>          3</td>\n",
       "      <td>          1</td>\n",
       "      <td>          1</td>\n",
       "      <td>          1</td>\n",
       "      <td>          1</td>\n",
       "    </tr>\n",
       "    <tr>\n",
       "      <th>7</th>\n",
       "      <td>       True</td>\n",
       "      <td>       True</td>\n",
       "      <td>      True</td>\n",
       "      <td>       True</td>\n",
       "      <td>       True</td>\n",
       "      <td>       True</td>\n",
       "      <td>       True</td>\n",
       "      <td>       True</td>\n",
       "      <td>       True</td>\n",
       "      <td>      False</td>\n",
       "      <td>      False</td>\n",
       "      <td>       True</td>\n",
       "      <td>       True</td>\n",
       "      <td>      False</td>\n",
       "      <td>       True</td>\n",
       "      <td>      False</td>\n",
       "      <td>       True</td>\n",
       "      <td>       True</td>\n",
       "      <td>       True</td>\n",
       "    </tr>\n",
       "    <tr>\n",
       "      <th>8</th>\n",
       "      <td>          1</td>\n",
       "      <td>          1</td>\n",
       "      <td>         1</td>\n",
       "      <td>          1</td>\n",
       "      <td>          1</td>\n",
       "      <td>          1</td>\n",
       "      <td>          1</td>\n",
       "      <td>          1</td>\n",
       "      <td>          1</td>\n",
       "      <td>          2</td>\n",
       "      <td>          3</td>\n",
       "      <td>          1</td>\n",
       "      <td>          1</td>\n",
       "      <td>          5</td>\n",
       "      <td>          1</td>\n",
       "      <td>          4</td>\n",
       "      <td>          1</td>\n",
       "      <td>          1</td>\n",
       "      <td>          1</td>\n",
       "    </tr>\n",
       "    <tr>\n",
       "      <th>9</th>\n",
       "      <td> 0.05548873</td>\n",
       "      <td> 0.05351573</td>\n",
       "      <td> 0.0558906</td>\n",
       "      <td> 0.04916897</td>\n",
       "      <td> 0.05373913</td>\n",
       "      <td> 0.05154227</td>\n",
       "      <td> 0.05143743</td>\n",
       "      <td> 0.05372042</td>\n",
       "      <td> 0.05434591</td>\n",
       "      <td> 0.05024735</td>\n",
       "      <td> 0.05229831</td>\n",
       "      <td> 0.05139269</td>\n",
       "      <td> 0.04984475</td>\n",
       "      <td> 0.05368222</td>\n",
       "      <td> 0.05369446</td>\n",
       "      <td> 0.05352361</td>\n",
       "      <td> 0.05210727</td>\n",
       "      <td> 0.05296396</td>\n",
       "      <td> 0.05139618</td>\n",
       "    </tr>\n",
       "  </tbody>\n",
       "</table>\n",
       "</div>"
      ],
      "text/plain": [
       "          Age           G         MP         EFF        GmSc         PER  \\\n",
       "1        True        True       True        True        True        True   \n",
       "2           1           1          1           1           1           1   \n",
       "3        True        True       True        True        True       False   \n",
       "4           1           1          1           1           1           3   \n",
       "5        True       False       True        True        True        True   \n",
       "6           1           4          1           1           1           1   \n",
       "7        True        True       True        True        True        True   \n",
       "8           1           1          1           1           1           1   \n",
       "9  0.05548873  0.05351573  0.0558906  0.04916897  0.05373913  0.05154227   \n",
       "\n",
       "         ORtg        DRtg     AST_Per     STL_Per     BLK_Per     TOV_Per  \\\n",
       "1        True       False        True        True        True        True   \n",
       "2           1           2           1           1           1           1   \n",
       "3        True       False        True        True        True       False   \n",
       "4           1           4           1           1           1           2   \n",
       "5       False        True        True        True       False        True   \n",
       "6           5           1           1           1           2           1   \n",
       "7        True        True        True       False       False        True   \n",
       "8           1           1           1           2           3           1   \n",
       "9  0.05143743  0.05372042  0.05434591  0.05024735  0.05229831  0.05139269   \n",
       "\n",
       "       TS_Per      FT_Per   Three_Per     ORB_Per     DRB_Per     TRB_Per  \\\n",
       "1        True        True        True        True        True        True   \n",
       "2           1           1           1           1           1           1   \n",
       "3        True       False        True        True        True        True   \n",
       "4           1           5           1           1           1           1   \n",
       "5        True        True       False        True        True        True   \n",
       "6           1           1           3           1           1           1   \n",
       "7        True       False        True       False        True        True   \n",
       "8           1           5           1           4           1           1   \n",
       "9  0.04984475  0.05368222  0.05369446  0.05352361  0.05210727  0.05296396   \n",
       "\n",
       "      USG_Per  \n",
       "1        True  \n",
       "2           1  \n",
       "3        True  \n",
       "4           1  \n",
       "5        True  \n",
       "6           1  \n",
       "7        True  \n",
       "8           1  \n",
       "9  0.05139618  "
      ]
     },
     "execution_count": 34,
     "metadata": {},
     "output_type": "execute_result"
    }
   ],
   "source": [
    "df1.loc[len(df1)+1] = model.feature_importances_\n",
    "df1"
   ]
  },
  {
   "cell_type": "markdown",
   "metadata": {},
   "source": [
    "###Univariate feature selection###"
   ]
  },
  {
   "cell_type": "code",
   "execution_count": 25,
   "metadata": {
    "collapsed": false
   },
   "outputs": [
    {
     "name": "stderr",
     "output_type": "stream",
     "text": [
      "C:\\Anaconda\\lib\\site-packages\\numpy\\lib\\utils.py:134: DeprecationWarning: `fprob` is deprecated!\n",
      "fprob is deprecated in scipy 0.14, use stats.f.sf or special.fdtrc instead\n",
      "\n",
      "  warnings.warn(depdoc, DeprecationWarning)\n"
     ]
    },
    {
     "data": {
      "text/plain": [
       "<Container object of 19 artists>"
      ]
     },
     "execution_count": 25,
     "metadata": {},
     "output_type": "execute_result"
    },
    {
     "data": {
      "image/png": "[encoded data removed]",
      "text/plain": [
       "<matplotlib.figure.Figure at 0x2589a90>"
      ]
     },
     "metadata": {},
     "output_type": "display_data"
    }
   ],
   "source": [
    "from sklearn.feature_selection import SelectPercentile, f_classif\n",
    "\n",
    "Uni_selector = SelectPercentile(f_classif, percentile=10)\n",
    "Uni_selector.fit(data, target)\n",
    "scores = -np.log10(Uni_selector.pvalues_)\n",
    "scores /= scores.max()\n",
    "data_indices = np.arange(data.shape[-1])\n",
    "plt.bar(data_indices - .45, scores, width=.2,\n",
    "        label=r'Univariate score ($-Log(p_{value})$)', color='g')"
   ]
  },
  {
   "cell_type": "code",
   "execution_count": 27,
   "metadata": {
    "collapsed": false
   },
   "outputs": [
    {
     "data": {
      "text/plain": [
       "array([ 3.46276281,  1.41492353,  2.23494131,  3.54570506,  3.71320212,\n",
       "        2.17358811,  1.43811212,  1.54919122,  1.41404226,  1.23016957,\n",
       "        1.11867413,  1.33619843,  1.2877369 ,  0.37774699,  0.95543641,\n",
       "        1.06528891,  1.07428571,  1.04421988,  1.74385861])"
      ]
     },
     "execution_count": 27,
     "metadata": {},
     "output_type": "execute_result"
    }
   ],
   "source": [
    "Uni_selector.scores_"
   ]
  },
  {
   "cell_type": "code",
   "execution_count": 26,
   "metadata": {
    "collapsed": false
   },
   "outputs": [
    {
     "data": {
      "text/plain": [
       "array([  7.59617410e-113,   9.29386744e-012,   8.74785837e-052,\n",
       "         1.14784319e-116,   2.97660400e-124,   1.36738043e-048,\n",
       "         1.07465728e-012,   1.81763612e-017,   1.00772874e-011,\n",
       "         2.66715577e-005,   1.40209293e-002,   9.13486782e-009,\n",
       "         4.31620818e-007,   1.00000000e+000,   8.17934603e-001,\n",
       "         1.07505869e-001,   8.00363014e-002,   1.98341896e-001,\n",
       "         1.20059459e-026])"
      ]
     },
     "execution_count": 26,
     "metadata": {},
     "output_type": "execute_result"
    }
   ],
   "source": [
    "Uni_selector.pvalues_"
   ]
  },
  {
   "cell_type": "code",
   "execution_count": 35,
   "metadata": {
    "collapsed": false
   },
   "outputs": [
    {
     "data": {
      "text/html": [
       "<div style=\"max-height:1000px;max-width:1500px;overflow:auto;\">\n",
       "<table border=\"1\" class=\"dataframe\">\n",
       "  <thead>\n",
       "    <tr style=\"text-align: right;\">\n",
       "      <th></th>\n",
       "      <th>Age</th>\n",
       "      <th>G</th>\n",
       "      <th>MP</th>\n",
       "      <th>EFF</th>\n",
       "      <th>GmSc</th>\n",
       "      <th>PER</th>\n",
       "      <th>ORtg</th>\n",
       "      <th>DRtg</th>\n",
       "      <th>AST_Per</th>\n",
       "      <th>STL_Per</th>\n",
       "      <th>BLK_Per</th>\n",
       "      <th>TOV_Per</th>\n",
       "      <th>TS_Per</th>\n",
       "      <th>FT_Per</th>\n",
       "      <th>Three_Per</th>\n",
       "      <th>ORB_Per</th>\n",
       "      <th>DRB_Per</th>\n",
       "      <th>TRB_Per</th>\n",
       "      <th>USG_Per</th>\n",
       "    </tr>\n",
       "  </thead>\n",
       "  <tbody>\n",
       "    <tr>\n",
       "      <th>1 </th>\n",
       "      <td>          True</td>\n",
       "      <td>         True</td>\n",
       "      <td>         True</td>\n",
       "      <td>          True</td>\n",
       "      <td>          True</td>\n",
       "      <td>        True</td>\n",
       "      <td>         True</td>\n",
       "      <td>        False</td>\n",
       "      <td>         True</td>\n",
       "      <td>         True</td>\n",
       "      <td>       True</td>\n",
       "      <td>         True</td>\n",
       "      <td>         True</td>\n",
       "      <td>       True</td>\n",
       "      <td>       True</td>\n",
       "      <td>       True</td>\n",
       "      <td>       True</td>\n",
       "      <td>       True</td>\n",
       "      <td>         True</td>\n",
       "    </tr>\n",
       "    <tr>\n",
       "      <th>2 </th>\n",
       "      <td>             1</td>\n",
       "      <td>            1</td>\n",
       "      <td>            1</td>\n",
       "      <td>             1</td>\n",
       "      <td>             1</td>\n",
       "      <td>           1</td>\n",
       "      <td>            1</td>\n",
       "      <td>            2</td>\n",
       "      <td>            1</td>\n",
       "      <td>            1</td>\n",
       "      <td>          1</td>\n",
       "      <td>            1</td>\n",
       "      <td>            1</td>\n",
       "      <td>          1</td>\n",
       "      <td>          1</td>\n",
       "      <td>          1</td>\n",
       "      <td>          1</td>\n",
       "      <td>          1</td>\n",
       "      <td>            1</td>\n",
       "    </tr>\n",
       "    <tr>\n",
       "      <th>3 </th>\n",
       "      <td>          True</td>\n",
       "      <td>         True</td>\n",
       "      <td>         True</td>\n",
       "      <td>          True</td>\n",
       "      <td>          True</td>\n",
       "      <td>       False</td>\n",
       "      <td>         True</td>\n",
       "      <td>        False</td>\n",
       "      <td>         True</td>\n",
       "      <td>         True</td>\n",
       "      <td>       True</td>\n",
       "      <td>        False</td>\n",
       "      <td>         True</td>\n",
       "      <td>      False</td>\n",
       "      <td>       True</td>\n",
       "      <td>       True</td>\n",
       "      <td>       True</td>\n",
       "      <td>       True</td>\n",
       "      <td>         True</td>\n",
       "    </tr>\n",
       "    <tr>\n",
       "      <th>4 </th>\n",
       "      <td>             1</td>\n",
       "      <td>            1</td>\n",
       "      <td>            1</td>\n",
       "      <td>             1</td>\n",
       "      <td>             1</td>\n",
       "      <td>           3</td>\n",
       "      <td>            1</td>\n",
       "      <td>            4</td>\n",
       "      <td>            1</td>\n",
       "      <td>            1</td>\n",
       "      <td>          1</td>\n",
       "      <td>            2</td>\n",
       "      <td>            1</td>\n",
       "      <td>          5</td>\n",
       "      <td>          1</td>\n",
       "      <td>          1</td>\n",
       "      <td>          1</td>\n",
       "      <td>          1</td>\n",
       "      <td>            1</td>\n",
       "    </tr>\n",
       "    <tr>\n",
       "      <th>5 </th>\n",
       "      <td>          True</td>\n",
       "      <td>        False</td>\n",
       "      <td>         True</td>\n",
       "      <td>          True</td>\n",
       "      <td>          True</td>\n",
       "      <td>        True</td>\n",
       "      <td>        False</td>\n",
       "      <td>         True</td>\n",
       "      <td>         True</td>\n",
       "      <td>         True</td>\n",
       "      <td>      False</td>\n",
       "      <td>         True</td>\n",
       "      <td>         True</td>\n",
       "      <td>       True</td>\n",
       "      <td>      False</td>\n",
       "      <td>       True</td>\n",
       "      <td>       True</td>\n",
       "      <td>       True</td>\n",
       "      <td>         True</td>\n",
       "    </tr>\n",
       "    <tr>\n",
       "      <th>6 </th>\n",
       "      <td>             1</td>\n",
       "      <td>            4</td>\n",
       "      <td>            1</td>\n",
       "      <td>             1</td>\n",
       "      <td>             1</td>\n",
       "      <td>           1</td>\n",
       "      <td>            5</td>\n",
       "      <td>            1</td>\n",
       "      <td>            1</td>\n",
       "      <td>            1</td>\n",
       "      <td>          2</td>\n",
       "      <td>            1</td>\n",
       "      <td>            1</td>\n",
       "      <td>          1</td>\n",
       "      <td>          3</td>\n",
       "      <td>          1</td>\n",
       "      <td>          1</td>\n",
       "      <td>          1</td>\n",
       "      <td>            1</td>\n",
       "    </tr>\n",
       "    <tr>\n",
       "      <th>7 </th>\n",
       "      <td>          True</td>\n",
       "      <td>         True</td>\n",
       "      <td>         True</td>\n",
       "      <td>          True</td>\n",
       "      <td>          True</td>\n",
       "      <td>        True</td>\n",
       "      <td>         True</td>\n",
       "      <td>         True</td>\n",
       "      <td>         True</td>\n",
       "      <td>        False</td>\n",
       "      <td>      False</td>\n",
       "      <td>         True</td>\n",
       "      <td>         True</td>\n",
       "      <td>      False</td>\n",
       "      <td>       True</td>\n",
       "      <td>      False</td>\n",
       "      <td>       True</td>\n",
       "      <td>       True</td>\n",
       "      <td>         True</td>\n",
       "    </tr>\n",
       "    <tr>\n",
       "      <th>8 </th>\n",
       "      <td>             1</td>\n",
       "      <td>            1</td>\n",
       "      <td>            1</td>\n",
       "      <td>             1</td>\n",
       "      <td>             1</td>\n",
       "      <td>           1</td>\n",
       "      <td>            1</td>\n",
       "      <td>            1</td>\n",
       "      <td>            1</td>\n",
       "      <td>            2</td>\n",
       "      <td>          3</td>\n",
       "      <td>            1</td>\n",
       "      <td>            1</td>\n",
       "      <td>          5</td>\n",
       "      <td>          1</td>\n",
       "      <td>          4</td>\n",
       "      <td>          1</td>\n",
       "      <td>          1</td>\n",
       "      <td>            1</td>\n",
       "    </tr>\n",
       "    <tr>\n",
       "      <th>9 </th>\n",
       "      <td>    0.05548873</td>\n",
       "      <td>   0.05351573</td>\n",
       "      <td>    0.0558906</td>\n",
       "      <td>    0.04916897</td>\n",
       "      <td>    0.05373913</td>\n",
       "      <td>  0.05154227</td>\n",
       "      <td>   0.05143743</td>\n",
       "      <td>   0.05372042</td>\n",
       "      <td>   0.05434591</td>\n",
       "      <td>   0.05024735</td>\n",
       "      <td> 0.05229831</td>\n",
       "      <td>   0.05139269</td>\n",
       "      <td>   0.04984475</td>\n",
       "      <td> 0.05368222</td>\n",
       "      <td> 0.05369446</td>\n",
       "      <td> 0.05352361</td>\n",
       "      <td> 0.05210727</td>\n",
       "      <td> 0.05296396</td>\n",
       "      <td>   0.05139618</td>\n",
       "    </tr>\n",
       "    <tr>\n",
       "      <th>10</th>\n",
       "      <td>      3.462763</td>\n",
       "      <td>     1.414924</td>\n",
       "      <td>     2.234941</td>\n",
       "      <td>      3.545705</td>\n",
       "      <td>      3.713202</td>\n",
       "      <td>    2.173588</td>\n",
       "      <td>     1.438112</td>\n",
       "      <td>     1.549191</td>\n",
       "      <td>     1.414042</td>\n",
       "      <td>      1.23017</td>\n",
       "      <td>   1.118674</td>\n",
       "      <td>     1.336198</td>\n",
       "      <td>     1.287737</td>\n",
       "      <td>   0.377747</td>\n",
       "      <td>  0.9554364</td>\n",
       "      <td>   1.065289</td>\n",
       "      <td>   1.074286</td>\n",
       "      <td>    1.04422</td>\n",
       "      <td>     1.743859</td>\n",
       "    </tr>\n",
       "    <tr>\n",
       "      <th>11</th>\n",
       "      <td> 7.596174e-113</td>\n",
       "      <td> 9.293867e-12</td>\n",
       "      <td> 8.747858e-52</td>\n",
       "      <td> 1.147843e-116</td>\n",
       "      <td> 2.976604e-124</td>\n",
       "      <td> 1.36738e-48</td>\n",
       "      <td> 1.074657e-12</td>\n",
       "      <td> 1.817636e-17</td>\n",
       "      <td> 1.007729e-11</td>\n",
       "      <td> 2.667156e-05</td>\n",
       "      <td> 0.01402093</td>\n",
       "      <td> 9.134868e-09</td>\n",
       "      <td> 4.316208e-07</td>\n",
       "      <td>          1</td>\n",
       "      <td>  0.8179346</td>\n",
       "      <td>  0.1075059</td>\n",
       "      <td>  0.0800363</td>\n",
       "      <td>  0.1983419</td>\n",
       "      <td> 1.200595e-26</td>\n",
       "    </tr>\n",
       "  </tbody>\n",
       "</table>\n",
       "</div>"
      ],
      "text/plain": [
       "              Age             G            MP            EFF           GmSc  \\\n",
       "1            True          True          True           True           True   \n",
       "2               1             1             1              1              1   \n",
       "3            True          True          True           True           True   \n",
       "4               1             1             1              1              1   \n",
       "5            True         False          True           True           True   \n",
       "6               1             4             1              1              1   \n",
       "7            True          True          True           True           True   \n",
       "8               1             1             1              1              1   \n",
       "9      0.05548873    0.05351573     0.0558906     0.04916897     0.05373913   \n",
       "10       3.462763      1.414924      2.234941       3.545705       3.713202   \n",
       "11  7.596174e-113  9.293867e-12  8.747858e-52  1.147843e-116  2.976604e-124   \n",
       "\n",
       "            PER          ORtg          DRtg       AST_Per       STL_Per  \\\n",
       "1          True          True         False          True          True   \n",
       "2             1             1             2             1             1   \n",
       "3         False          True         False          True          True   \n",
       "4             3             1             4             1             1   \n",
       "5          True         False          True          True          True   \n",
       "6             1             5             1             1             1   \n",
       "7          True          True          True          True         False   \n",
       "8             1             1             1             1             2   \n",
       "9    0.05154227    0.05143743    0.05372042    0.05434591    0.05024735   \n",
       "10     2.173588      1.438112      1.549191      1.414042       1.23017   \n",
       "11  1.36738e-48  1.074657e-12  1.817636e-17  1.007729e-11  2.667156e-05   \n",
       "\n",
       "       BLK_Per       TOV_Per        TS_Per      FT_Per   Three_Per  \\\n",
       "1         True          True          True        True        True   \n",
       "2            1             1             1           1           1   \n",
       "3         True         False          True       False        True   \n",
       "4            1             2             1           5           1   \n",
       "5        False          True          True        True       False   \n",
       "6            2             1             1           1           3   \n",
       "7        False          True          True       False        True   \n",
       "8            3             1             1           5           1   \n",
       "9   0.05229831    0.05139269    0.04984475  0.05368222  0.05369446   \n",
       "10    1.118674      1.336198      1.287737    0.377747   0.9554364   \n",
       "11  0.01402093  9.134868e-09  4.316208e-07           1   0.8179346   \n",
       "\n",
       "       ORB_Per     DRB_Per     TRB_Per       USG_Per  \n",
       "1         True        True        True          True  \n",
       "2            1           1           1             1  \n",
       "3         True        True        True          True  \n",
       "4            1           1           1             1  \n",
       "5         True        True        True          True  \n",
       "6            1           1           1             1  \n",
       "7        False        True        True          True  \n",
       "8            4           1           1             1  \n",
       "9   0.05352361  0.05210727  0.05296396    0.05139618  \n",
       "10    1.065289    1.074286     1.04422      1.743859  \n",
       "11   0.1075059   0.0800363   0.1983419  1.200595e-26  "
      ]
     },
     "execution_count": 35,
     "metadata": {},
     "output_type": "execute_result"
    }
   ],
   "source": [
    "df1.loc[len(df1)+1] = Uni_selector.scores_\n",
    "df1.loc[len(df1)+1] = Uni_selector.pvalues_\n",
    "df1"
   ]
  },
  {
   "cell_type": "code",
   "execution_count": 30,
   "metadata": {
    "collapsed": false
   },
   "outputs": [
    {
     "data": {
      "image/png": "[encoded data removed]",
      "text/plain": [
       "<matplotlib.figure.Figure at 0x179f0748>"
      ]
     },
     "metadata": {},
     "output_type": "display_data"
    }
   ],
   "source": [
    "# Compare to the weights of an SVM\n",
    "clf = skl.svm.SVC(kernel='linear')\n",
    "clf.fit(data, target)\n",
    "\n",
    "svm_weights = (clf.coef_ ** 2).sum(axis=0)\n",
    "svm_weights /= svm_weights.max()\n",
    "\n",
    "plt.bar(data_indices - .25, svm_weights, width=.2, label='SVM weight', color='r')\n",
    "\n",
    "clf_selected = skl.svm.SVC(kernel='linear')\n",
    "clf_selected.fit(Uni_selector.transform(data), target)\n",
    "\n",
    "svm_weights_selected = (clf_selected.coef_ ** 2).sum(axis=0)\n",
    "svm_weights_selected /= svm_weights_selected.max()\n",
    "\n",
    "plt.bar(data_indices[Uni_selector.get_support()] - .05, svm_weights_selected,\n",
    "        width=.2, label='SVM weights after selection', color='b')\n",
    "\n",
    "\n",
    "plt.title(\"Comparing feature selection\")\n",
    "plt.xlabel('Feature number')\n",
    "plt.yticks(())\n",
    "plt.axis('tight')\n",
    "plt.legend(loc='upper right')\n",
    "plt.show()"
   ]
  },
  {
   "cell_type": "code",
   "execution_count": 32,
   "metadata": {
    "collapsed": false
   },
   "outputs": [
    {
     "data": {
      "image/png": "[encoded data removed]",
      "text/plain": [
       "<matplotlib.figure.Figure at 0x17d41dd8>"
      ]
     },
     "metadata": {},
     "output_type": "display_data"
    }
   ],
   "source": [
    "plt.bar(data_indices - .45, scores, width=.2,\n",
    "        label=r'Univariate score ($-Log(p_{value})$)', color='g')\n",
    "\n",
    "plt.bar(data_indices - .25, svm_weights, width=.2, label='SVM weight', color='r')\n",
    "\n",
    "plt.bar(data_indices[Uni_selector.get_support()] - .05, svm_weights_selected,\n",
    "        width=.2, label='SVM weights after selection', color='b')\n",
    "\n",
    "\n",
    "plt.title(\"Comparing feature selection\")\n",
    "plt.xlabel('Feature number')\n",
    "plt.yticks(())\n",
    "plt.axis('tight')\n",
    "plt.legend(loc='upper right')\n",
    "plt.show()"
   ]
  },
  {
   "cell_type": "code",
   "execution_count": 40,
   "metadata": {
    "collapsed": false
   },
   "outputs": [
    {
     "data": {
      "text/plain": [
       "array([ 1.      ,  0.904423])"
      ]
     },
     "execution_count": 40,
     "metadata": {},
     "output_type": "execute_result"
    }
   ],
   "source": [
    "svm_weights_selected"
   ]
  },
  {
   "cell_type": "markdown",
   "metadata": {
    "collapsed": true
   },
   "source": [
    "###Output TO CSV"
   ]
  },
  {
   "cell_type": "code",
   "execution_count": 41,
   "metadata": {
    "collapsed": true
   },
   "outputs": [],
   "source": [
    "def Output_CSV(output_df,location):\n",
    "    output_file = open(location, \"ab\")\n",
    "    output_df.to_csv(output_file,index=False)\n",
    "    output_file.close()\n",
    "    \n",
    "Feature_Selection_location = \"e:\\\\nba\\\\Feature_Selection.csv\"\n",
    "Output_CSV(df1,Feature_Selection_location)"
   ]
  },
  {
   "cell_type": "code",
   "execution_count": null,
   "metadata": {
    "collapsed": true
   },
   "outputs": [],
   "source": []
  }
 ],
 "metadata": {
  "kernelspec": {
   "display_name": "Python 2",
   "language": "python",
   "name": "python2"
  },
  "language_info": {
   "codemirror_mode": {
    "name": "ipython",
    "version": 2
   },
   "file_extension": ".py",
   "mimetype": "text/x-python",
   "name": "python",
   "nbconvert_exporter": "python",
   "pygments_lexer": "ipython2",
   "version": "2.7.7"
  }
 },
 "nbformat": 4,
 "nbformat_minor": 0
}

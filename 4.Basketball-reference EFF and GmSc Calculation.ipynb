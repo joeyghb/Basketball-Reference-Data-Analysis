{
 "cells": [
  {
   "cell_type": "markdown",
   "metadata": {},
   "source": [
    "#Basketball-reference EFF and GmSc Calculation"
   ]
  },
  {
   "cell_type": "code",
   "execution_count": 1,
   "metadata": {
    "collapsed": false
   },
   "outputs": [],
   "source": [
    "# special IPython command to prepare the notebook for matplotlib\n",
    "from collections import defaultdict\n",
    "\n",
    "import pandas as pd\n",
    "import matplotlib.pyplot as plt\n",
    "import requests\n",
    "import re\n",
    "import string\n",
    "from pattern import web"
   ]
  },
  {
   "cell_type": "markdown",
   "metadata": {},
   "source": [
    "### Read Player Seaaon CSV"
   ]
  },
  {
   "cell_type": "code",
   "execution_count": 2,
   "metadata": {
    "collapsed": false
   },
   "outputs": [
    {
     "name": "stdout",
     "output_type": "stream",
     "text": [
      "<class 'pandas.core.frame.DataFrame'>\n",
      "Int64Index: 3440 entries, 0 to 3439\n",
      "Data columns (total 35 columns):\n",
      "Season         3440 non-null object\n",
      "Age            3440 non-null int64\n",
      "Tm             3440 non-null object\n",
      "Lg             3440 non-null object\n",
      "Pos            3440 non-null object\n",
      "G              3440 non-null int64\n",
      "GS             3440 non-null int64\n",
      "MP             3440 non-null int64\n",
      "FG             3440 non-null int64\n",
      "FGA            3440 non-null int64\n",
      "FG_Per         3434 non-null float64\n",
      "three_P        3440 non-null int64\n",
      "three_PA       3440 non-null int64\n",
      "three_P_Per    3031 non-null float64\n",
      "two_P          3440 non-null int64\n",
      "two_PA         3440 non-null int64\n",
      "two_P_Per      3429 non-null float64\n",
      "eFG_Per        3434 non-null float64\n",
      "FT             3440 non-null int64\n",
      "FTA            3440 non-null int64\n",
      "FT_Per         3386 non-null float64\n",
      "ORB            3440 non-null int64\n",
      "DRB            3440 non-null int64\n",
      "TRB            3440 non-null int64\n",
      "AST            3440 non-null int64\n",
      "STL            3440 non-null int64\n",
      "BLK            3440 non-null int64\n",
      "TOV            3440 non-null int64\n",
      "PF             3440 non-null int64\n",
      "PTS            3440 non-null int64\n",
      "TranFlag       3440 non-null object\n",
      "Name           3440 non-null object\n",
      "ORtg           3436 non-null float64\n",
      "DRtg           3439 non-null float64\n",
      "Salary         3440 non-null object\n",
      "dtypes: float64(7), int64(21), object(7)\n",
      "memory usage: 967.5+ KB\n"
     ]
    }
   ],
   "source": [
    "df_Season_Total = pd.read_csv('e:\\\\nba\\\\Season_Totals.csv', header=0)\n",
    "\n",
    "df_Season_Total.info()\n",
    "#df_Season_Total.describe()"
   ]
  },
  {
   "cell_type": "markdown",
   "metadata": {},
   "source": [
    "### Read Season_Advance_Totals CSV"
   ]
  },
  {
   "cell_type": "code",
   "execution_count": 3,
   "metadata": {
    "collapsed": false
   },
   "outputs": [
    {
     "name": "stdout",
     "output_type": "stream",
     "text": [
      "<class 'pandas.core.frame.DataFrame'>\n",
      "Int64Index: 3440 entries, 0 to 3439\n",
      "Data columns (total 30 columns):\n",
      "Season       3440 non-null object\n",
      "Age          3440 non-null int64\n",
      "Tm           3440 non-null object\n",
      "Lg           3440 non-null object\n",
      "Pos          3440 non-null object\n",
      "G            3440 non-null int64\n",
      "MP           3440 non-null int64\n",
      "PER          3439 non-null float64\n",
      "TS_Per       3435 non-null float64\n",
      "three_Per    3434 non-null float64\n",
      "FT_Per       3434 non-null float64\n",
      "ORB_Per      3439 non-null float64\n",
      "DRB_Per      3439 non-null float64\n",
      "TRB_Per      3439 non-null float64\n",
      "AST_Per      3439 non-null float64\n",
      "STL_Per      3439 non-null float64\n",
      "BLK_Per      3439 non-null float64\n",
      "TOV_Per      3436 non-null float64\n",
      "USG_Per      3439 non-null float64\n",
      "OWS          3440 non-null float64\n",
      "DWS          3440 non-null float64\n",
      "WS           3440 non-null float64\n",
      "WS48         3439 non-null float64\n",
      "OBPM         3440 non-null float64\n",
      "DBPM         3440 non-null float64\n",
      "BPM          3440 non-null float64\n",
      "VORP         3440 non-null float64\n",
      "TranFlag     3440 non-null object\n",
      "Name         3440 non-null object\n",
      "Salary       3440 non-null object\n",
      "dtypes: float64(20), int64(3), object(7)\n",
      "memory usage: 833.1+ KB\n"
     ]
    }
   ],
   "source": [
    "df_Season_Advance = pd.read_csv('e:\\\\nba\\\\Season_Advance_Totals.csv', header=0)\n",
    "\n",
    "df_Season_Advance.info()\n",
    "#df_Season_Advance.describe()"
   ]
  },
  {
   "cell_type": "markdown",
   "metadata": {},
   "source": [
    "### Season EFF Calculation"
   ]
  },
  {
   "cell_type": "code",
   "execution_count": 4,
   "metadata": {
    "collapsed": false
   },
   "outputs": [
    {
     "data": {
      "text/html": [
       "<div style=\"max-height:1000px;max-width:1500px;overflow:auto;\">\n",
       "<table border=\"1\" class=\"dataframe\">\n",
       "  <thead>\n",
       "    <tr style=\"text-align: right;\">\n",
       "      <th></th>\n",
       "      <th>Season</th>\n",
       "      <th>Name</th>\n",
       "      <th>EFF</th>\n",
       "    </tr>\n",
       "  </thead>\n",
       "  <tbody>\n",
       "    <tr>\n",
       "      <th>0</th>\n",
       "      <td> 2010-11</td>\n",
       "      <td>  Cole Aldrich</td>\n",
       "      <td>  2</td>\n",
       "    </tr>\n",
       "    <tr>\n",
       "      <th>1</th>\n",
       "      <td> 2011-12</td>\n",
       "      <td>  Cole Aldrich</td>\n",
       "      <td>  3</td>\n",
       "    </tr>\n",
       "    <tr>\n",
       "      <th>2</th>\n",
       "      <td> 2012-13</td>\n",
       "      <td>  Cole Aldrich</td>\n",
       "      <td>  6</td>\n",
       "    </tr>\n",
       "    <tr>\n",
       "      <th>3</th>\n",
       "      <td> 2014-15</td>\n",
       "      <td>  Cole Aldrich</td>\n",
       "      <td> 10</td>\n",
       "    </tr>\n",
       "    <tr>\n",
       "      <th>4</th>\n",
       "      <td> 2010-11</td>\n",
       "      <td> Solomon Alabi</td>\n",
       "      <td>  0</td>\n",
       "    </tr>\n",
       "    <tr>\n",
       "      <th>5</th>\n",
       "      <td> 2011-12</td>\n",
       "      <td> Solomon Alabi</td>\n",
       "      <td>  4</td>\n",
       "    </tr>\n",
       "    <tr>\n",
       "      <th>6</th>\n",
       "      <td> 1996-97</td>\n",
       "      <td>     Ray Allen</td>\n",
       "      <td> 12</td>\n",
       "    </tr>\n",
       "    <tr>\n",
       "      <th>7</th>\n",
       "      <td> 1997-98</td>\n",
       "      <td>     Ray Allen</td>\n",
       "      <td> 17</td>\n",
       "    </tr>\n",
       "    <tr>\n",
       "      <th>8</th>\n",
       "      <td> 1998-99</td>\n",
       "      <td>     Ray Allen</td>\n",
       "      <td> 15</td>\n",
       "    </tr>\n",
       "    <tr>\n",
       "      <th>9</th>\n",
       "      <td> 1999-00</td>\n",
       "      <td>     Ray Allen</td>\n",
       "      <td> 19</td>\n",
       "    </tr>\n",
       "  </tbody>\n",
       "</table>\n",
       "</div>"
      ],
      "text/plain": [
       "    Season           Name  EFF\n",
       "0  2010-11   Cole Aldrich    2\n",
       "1  2011-12   Cole Aldrich    3\n",
       "2  2012-13   Cole Aldrich    6\n",
       "3  2014-15   Cole Aldrich   10\n",
       "4  2010-11  Solomon Alabi    0\n",
       "5  2011-12  Solomon Alabi    4\n",
       "6  1996-97      Ray Allen   12\n",
       "7  1997-98      Ray Allen   17\n",
       "8  1998-99      Ray Allen   15\n",
       "9  1999-00      Ray Allen   19"
      ]
     },
     "execution_count": 4,
     "metadata": {},
     "output_type": "execute_result"
    }
   ],
   "source": [
    "def EFF_Calculation(x):\n",
    "    PTS = x[29]\n",
    "    TRB = x[23]\n",
    "    AST = x[24]\n",
    "    STL = x[25]\n",
    "    BLK = x[26]\n",
    "    FGA = x[9]\n",
    "    FG  = x[8] \n",
    "    FTA = x[19]\n",
    "    FT  = x[18]\n",
    "    TOV = x[27]\n",
    "    G   = x[5]\n",
    "    \n",
    "    EFF = ((PTS + TRB + AST + STL + BLK) -(FGA-FG)-(FTA-FT)-TOV) / G\n",
    "    return EFF\n",
    "\n",
    "\n",
    "df_Season_Total['EFF'] = df_Season_Total.apply(EFF_Calculation,axis =1)\n",
    "df_Season_Total[['Season','Name','EFF']].head(10)"
   ]
  },
  {
   "cell_type": "code",
   "execution_count": 5,
   "metadata": {
    "collapsed": false
   },
   "outputs": [
    {
     "name": "stdout",
     "output_type": "stream",
     "text": [
      "<class 'pandas.core.frame.DataFrame'>\n",
      "Int64Index: 3440 entries, 0 to 3439\n",
      "Data columns (total 36 columns):\n",
      "Season         3440 non-null object\n",
      "Age            3440 non-null int64\n",
      "Tm             3440 non-null object\n",
      "Lg             3440 non-null object\n",
      "Pos            3440 non-null object\n",
      "G              3440 non-null int64\n",
      "GS             3440 non-null int64\n",
      "MP             3440 non-null int64\n",
      "FG             3440 non-null int64\n",
      "FGA            3440 non-null int64\n",
      "FG_Per         3434 non-null float64\n",
      "three_P        3440 non-null int64\n",
      "three_PA       3440 non-null int64\n",
      "three_P_Per    3031 non-null float64\n",
      "two_P          3440 non-null int64\n",
      "two_PA         3440 non-null int64\n",
      "two_P_Per      3429 non-null float64\n",
      "eFG_Per        3434 non-null float64\n",
      "FT             3440 non-null int64\n",
      "FTA            3440 non-null int64\n",
      "FT_Per         3386 non-null float64\n",
      "ORB            3440 non-null int64\n",
      "DRB            3440 non-null int64\n",
      "TRB            3440 non-null int64\n",
      "AST            3440 non-null int64\n",
      "STL            3440 non-null int64\n",
      "BLK            3440 non-null int64\n",
      "TOV            3440 non-null int64\n",
      "PF             3440 non-null int64\n",
      "PTS            3440 non-null int64\n",
      "TranFlag       3440 non-null object\n",
      "Name           3440 non-null object\n",
      "ORtg           3436 non-null float64\n",
      "DRtg           3439 non-null float64\n",
      "Salary         3440 non-null object\n",
      "EFF            3440 non-null int64\n",
      "dtypes: float64(7), int64(22), object(7)\n",
      "memory usage: 994.4+ KB\n"
     ]
    }
   ],
   "source": [
    "df_Season_Total.info()"
   ]
  },
  {
   "cell_type": "markdown",
   "metadata": {},
   "source": [
    "### Season GmSc Calculation"
   ]
  },
  {
   "cell_type": "code",
   "execution_count": 6,
   "metadata": {
    "collapsed": false
   },
   "outputs": [
    {
     "data": {
      "text/html": [
       "<div style=\"max-height:1000px;max-width:1500px;overflow:auto;\">\n",
       "<table border=\"1\" class=\"dataframe\">\n",
       "  <thead>\n",
       "    <tr style=\"text-align: right;\">\n",
       "      <th></th>\n",
       "      <th>Season</th>\n",
       "      <th>Name</th>\n",
       "      <th>EFF</th>\n",
       "      <th>GmSc</th>\n",
       "    </tr>\n",
       "  </thead>\n",
       "  <tbody>\n",
       "    <tr>\n",
       "      <th>0</th>\n",
       "      <td> 2010-11</td>\n",
       "      <td>  Cole Aldrich</td>\n",
       "      <td>  2</td>\n",
       "      <td>  1.016667</td>\n",
       "    </tr>\n",
       "    <tr>\n",
       "      <th>1</th>\n",
       "      <td> 2011-12</td>\n",
       "      <td>  Cole Aldrich</td>\n",
       "      <td>  3</td>\n",
       "      <td>  2.273077</td>\n",
       "    </tr>\n",
       "    <tr>\n",
       "      <th>2</th>\n",
       "      <td> 2012-13</td>\n",
       "      <td>  Cole Aldrich</td>\n",
       "      <td>  6</td>\n",
       "      <td>  3.646667</td>\n",
       "    </tr>\n",
       "    <tr>\n",
       "      <th>3</th>\n",
       "      <td> 2014-15</td>\n",
       "      <td>  Cole Aldrich</td>\n",
       "      <td> 10</td>\n",
       "      <td>  5.709836</td>\n",
       "    </tr>\n",
       "    <tr>\n",
       "      <th>4</th>\n",
       "      <td> 2010-11</td>\n",
       "      <td> Solomon Alabi</td>\n",
       "      <td>  0</td>\n",
       "      <td>  0.225000</td>\n",
       "    </tr>\n",
       "    <tr>\n",
       "      <th>5</th>\n",
       "      <td> 2011-12</td>\n",
       "      <td> Solomon Alabi</td>\n",
       "      <td>  4</td>\n",
       "      <td>  2.407143</td>\n",
       "    </tr>\n",
       "    <tr>\n",
       "      <th>6</th>\n",
       "      <td> 1996-97</td>\n",
       "      <td>     Ray Allen</td>\n",
       "      <td> 12</td>\n",
       "      <td>  8.953659</td>\n",
       "    </tr>\n",
       "    <tr>\n",
       "      <th>7</th>\n",
       "      <td> 1997-98</td>\n",
       "      <td>     Ray Allen</td>\n",
       "      <td> 17</td>\n",
       "      <td> 13.017073</td>\n",
       "    </tr>\n",
       "    <tr>\n",
       "      <th>8</th>\n",
       "      <td> 1998-99</td>\n",
       "      <td>     Ray Allen</td>\n",
       "      <td> 15</td>\n",
       "      <td> 11.972000</td>\n",
       "    </tr>\n",
       "    <tr>\n",
       "      <th>9</th>\n",
       "      <td> 1999-00</td>\n",
       "      <td>     Ray Allen</td>\n",
       "      <td> 19</td>\n",
       "      <td> 15.635366</td>\n",
       "    </tr>\n",
       "  </tbody>\n",
       "</table>\n",
       "</div>"
      ],
      "text/plain": [
       "    Season           Name  EFF       GmSc\n",
       "0  2010-11   Cole Aldrich    2   1.016667\n",
       "1  2011-12   Cole Aldrich    3   2.273077\n",
       "2  2012-13   Cole Aldrich    6   3.646667\n",
       "3  2014-15   Cole Aldrich   10   5.709836\n",
       "4  2010-11  Solomon Alabi    0   0.225000\n",
       "5  2011-12  Solomon Alabi    4   2.407143\n",
       "6  1996-97      Ray Allen   12   8.953659\n",
       "7  1997-98      Ray Allen   17  13.017073\n",
       "8  1998-99      Ray Allen   15  11.972000\n",
       "9  1999-00      Ray Allen   19  15.635366"
      ]
     },
     "execution_count": 6,
     "metadata": {},
     "output_type": "execute_result"
    }
   ],
   "source": [
    "def GmSc_Calculation(x):\n",
    "    PTS = x[29]\n",
    "    ORB = x[21]\n",
    "    DRB = x[22]    \n",
    "    AST = x[24]\n",
    "    STL = x[25]\n",
    "    BLK = x[26]\n",
    "    FGA = x[9]\n",
    "    FG  = x[8] \n",
    "    FTA = x[19]\n",
    "    FT  = x[18]\n",
    "    PF  = x[28]\n",
    "    TOV = x[27]\n",
    "    G   = x[5]\n",
    "    \n",
    "    GmSc = (PTS + 0.4 * FG - 0.7 * FGA - 0.4*(FTA - FT)\n",
    "            + 0.7 * ORB + 0.3 * DRB + STL + 0.7 * AST + 0.7 * BLK - 0.4 * PF - TOV) / G\n",
    "    return GmSc\n",
    "\n",
    "\n",
    "df_Season_Total['GmSc'] = df_Season_Total.apply(GmSc_Calculation,axis =1)\n",
    "df_Season_Total[['Season','Name','EFF','GmSc']].head(10)"
   ]
  },
  {
   "cell_type": "markdown",
   "metadata": {},
   "source": [
    "###Merge Season_Total Field ['ORtg','DRtg','EFF','GmSc'] to Season_Advance"
   ]
  },
  {
   "cell_type": "code",
   "execution_count": 7,
   "metadata": {
    "collapsed": false
   },
   "outputs": [
    {
     "name": "stdout",
     "output_type": "stream",
     "text": [
      "       Season  Age   Tm   Lg Pos   G    MP   PER  TS_Per  three_Per  \\\n",
      "1246  1995-96   19  MIN  NBA  SF  80  2293  15.8   0.522      0.038   \n",
      "2838  1995-96   21  PHI  NBA  SG  72  2701  14.8   0.525      0.268   \n",
      "1015  1996-97   22  LAL  NBA  PG  80   921  11.0   0.491      0.279   \n",
      "259   1996-97   18  LAL  NBA  SG  71  1103  14.4   0.544      0.322   \n",
      "6     1996-97   21  MIL  NBA  SG  82  2532  14.6   0.541      0.328   \n",
      "1247  1996-97   20  MIN  NBA  SF  77  2995  18.2   0.537      0.019   \n",
      "2839  1996-97   22  PHI  NBA  SG  81  3166  14.1   0.524      0.261   \n",
      "2360  1996-97   22  PHO  NBA  PG  65   684  10.8   0.539      0.314   \n",
      "2393  1996-97   18  POR  NBA  PF  45   458  13.7   0.494      0.007   \n",
      "558   1997-98   21  BOS  NBA  PG  51  1296  15.4   0.530      0.416   \n",
      "\n",
      "        ...      DBPM  BPM  VORP  TranFlag              Name      Salary  \\\n",
      "1246    ...       2.4  1.7   2.1         N     Kevin Garnett  $1,622,000   \n",
      "2838    ...      -1.6 -1.4   0.4         N  Jerry Stackhouse  $1,987,000   \n",
      "1015    ...      -1.0 -3.5  -0.3         N      Derek Fisher    $612,000   \n",
      "259     ...      -0.8 -1.7   0.1         N       Kobe Bryant  $1,015,000   \n",
      "6       ...      -1.2  0.3   1.5         N         Ray Allen  $1,785,000   \n",
      "1247    ...       2.6  2.9   3.7         N     Kevin Garnett  $1,666,000   \n",
      "2839    ...      -2.2 -2.0   0.0         N  Jerry Stackhouse  $2,286,000   \n",
      "2360    ...      -2.8 -4.6  -0.5         N        Steve Nash    $916,000   \n",
      "2393    ...      -1.1 -6.3  -0.5         N   Jermaine O'Neal    $827,000   \n",
      "558     ...      -1.9 -0.3   0.5         N  Chauncey Billups  $2,384,640   \n",
      "\n",
      "      ORtg  DRtg  EFF       GmSc  \n",
      "1246   107   107   14   9.515000  \n",
      "2838   101   115   14  12.034722  \n",
      "1015    98   106    3   2.648750  \n",
      "259    101   105    6   4.738028  \n",
      "6      109   110   12   8.953659  \n",
      "1247   107   105   21  14.583117  \n",
      "2839   102   115   14  12.204938  \n",
      "2360   103   112    4   2.440000  \n",
      "2393   100   102    4   2.806667  \n",
      "558    105   107   10   8.231373  \n",
      "\n",
      "[10 rows x 34 columns]\n"
     ]
    }
   ],
   "source": [
    "df_Season_Advance = pd.merge(df_Season_Advance, df_Season_Total[['Season', 'Tm','Name','ORtg','DRtg','EFF','GmSc']], on=['Season', 'Tm','Name'])\n",
    "print df_Season_Advance.sort_index(by=['Season','Tm','Name']).head(10)"
   ]
  },
  {
   "cell_type": "markdown",
   "metadata": {},
   "source": [
    "###Read Player Playoffs CSV"
   ]
  },
  {
   "cell_type": "code",
   "execution_count": 8,
   "metadata": {
    "collapsed": false
   },
   "outputs": [
    {
     "name": "stdout",
     "output_type": "stream",
     "text": [
      "<class 'pandas.core.frame.DataFrame'>\n",
      "Int64Index: 1595 entries, 0 to 1594\n",
      "Data columns (total 35 columns):\n",
      "Season         1595 non-null object\n",
      "Age            1595 non-null int64\n",
      "Tm             1595 non-null object\n",
      "Lg             1595 non-null object\n",
      "Pos            1595 non-null object\n",
      "G              1595 non-null int64\n",
      "GS             1595 non-null int64\n",
      "MP             1595 non-null int64\n",
      "FG             1595 non-null int64\n",
      "FGA            1595 non-null int64\n",
      "FG_Per         1563 non-null float64\n",
      "three_P        1595 non-null int64\n",
      "three_PA       1595 non-null int64\n",
      "three_P_Per    1190 non-null float64\n",
      "two_P          1595 non-null int64\n",
      "two_PA         1595 non-null int64\n",
      "two_P_Per      1548 non-null float64\n",
      "eFG_Per        1563 non-null float64\n",
      "FT             1595 non-null int64\n",
      "FTA            1595 non-null int64\n",
      "FT_Per         1412 non-null float64\n",
      "ORB            1595 non-null int64\n",
      "DRB            1595 non-null int64\n",
      "TRB            1595 non-null int64\n",
      "AST            1595 non-null int64\n",
      "STL            1595 non-null int64\n",
      "BLK            1595 non-null int64\n",
      "TOV            1595 non-null int64\n",
      "PF             1595 non-null int64\n",
      "PTS            1595 non-null int64\n",
      "TranFlag       1595 non-null object\n",
      "Name           1595 non-null object\n",
      "ORtg           1576 non-null float64\n",
      "DRtg           1593 non-null float64\n",
      "Salary         1595 non-null object\n",
      "dtypes: float64(7), int64(21), object(7)\n",
      "memory usage: 448.6+ KB\n"
     ]
    }
   ],
   "source": [
    "df_playoffs_Total = pd.read_csv('e:\\\\nba\\\\Playoffs_Totals.csv', header=0)\n",
    "\n",
    "df_playoffs_Total.info()"
   ]
  },
  {
   "cell_type": "markdown",
   "metadata": {},
   "source": [
    "###Read Playoffs_Advance_Totals CSV"
   ]
  },
  {
   "cell_type": "code",
   "execution_count": 9,
   "metadata": {
    "collapsed": false
   },
   "outputs": [
    {
     "name": "stdout",
     "output_type": "stream",
     "text": [
      "<class 'pandas.core.frame.DataFrame'>\n",
      "Int64Index: 1595 entries, 0 to 1594\n",
      "Data columns (total 30 columns):\n",
      "Season       1595 non-null object\n",
      "Age          1595 non-null int64\n",
      "Tm           1595 non-null object\n",
      "Lg           1595 non-null object\n",
      "Pos          1595 non-null object\n",
      "G            1595 non-null int64\n",
      "MP           1595 non-null int64\n",
      "PER          1593 non-null float64\n",
      "TS_Per       1570 non-null float64\n",
      "three_Per    1563 non-null float64\n",
      "FT_Per       1563 non-null float64\n",
      "ORB_Per      1593 non-null float64\n",
      "DRB_Per      1593 non-null float64\n",
      "TRB_Per      1593 non-null float64\n",
      "AST_Per      1593 non-null float64\n",
      "STL_Per      1593 non-null float64\n",
      "BLK_Per      1593 non-null float64\n",
      "TOV_Per      1572 non-null float64\n",
      "USG_Per      1593 non-null float64\n",
      "OWS          1595 non-null float64\n",
      "DWS          1595 non-null float64\n",
      "WS           1595 non-null float64\n",
      "WS48         1593 non-null float64\n",
      "OBPM         1595 non-null float64\n",
      "DBPM         1595 non-null float64\n",
      "BPM          1595 non-null float64\n",
      "VORP         1595 non-null float64\n",
      "TranFlag     1595 non-null object\n",
      "Name         1595 non-null object\n",
      "Salary       1595 non-null object\n",
      "dtypes: float64(20), int64(3), object(7)\n",
      "memory usage: 386.3+ KB\n"
     ]
    }
   ],
   "source": [
    "df_playoffs_Advance = pd.read_csv('e:\\\\nba\\\\Playoffs_Advance_Totals.csv', header=0)\n",
    "\n",
    "df_playoffs_Advance.info()"
   ]
  },
  {
   "cell_type": "markdown",
   "metadata": {},
   "source": [
    "###Playoffs EFF Calculation"
   ]
  },
  {
   "cell_type": "code",
   "execution_count": 10,
   "metadata": {
    "collapsed": false
   },
   "outputs": [
    {
     "data": {
      "text/html": [
       "<div style=\"max-height:1000px;max-width:1500px;overflow:auto;\">\n",
       "<table border=\"1\" class=\"dataframe\">\n",
       "  <thead>\n",
       "    <tr style=\"text-align: right;\">\n",
       "      <th></th>\n",
       "      <th>Season</th>\n",
       "      <th>Name</th>\n",
       "      <th>EFF</th>\n",
       "    </tr>\n",
       "  </thead>\n",
       "  <tbody>\n",
       "    <tr>\n",
       "      <th>0</th>\n",
       "      <td> 2011-12</td>\n",
       "      <td> Cole Aldrich</td>\n",
       "      <td>  3</td>\n",
       "    </tr>\n",
       "    <tr>\n",
       "      <th>1</th>\n",
       "      <td> 1998-99</td>\n",
       "      <td>    Ray Allen</td>\n",
       "      <td> 22</td>\n",
       "    </tr>\n",
       "    <tr>\n",
       "      <th>2</th>\n",
       "      <td> 1999-00</td>\n",
       "      <td>    Ray Allen</td>\n",
       "      <td> 20</td>\n",
       "    </tr>\n",
       "    <tr>\n",
       "      <th>3</th>\n",
       "      <td> 2000-01</td>\n",
       "      <td>    Ray Allen</td>\n",
       "      <td> 24</td>\n",
       "    </tr>\n",
       "    <tr>\n",
       "      <th>4</th>\n",
       "      <td> 2004-05</td>\n",
       "      <td>    Ray Allen</td>\n",
       "      <td> 22</td>\n",
       "    </tr>\n",
       "    <tr>\n",
       "      <th>5</th>\n",
       "      <td> 2007-08</td>\n",
       "      <td>    Ray Allen</td>\n",
       "      <td> 14</td>\n",
       "    </tr>\n",
       "    <tr>\n",
       "      <th>6</th>\n",
       "      <td> 2008-09</td>\n",
       "      <td>    Ray Allen</td>\n",
       "      <td> 15</td>\n",
       "    </tr>\n",
       "    <tr>\n",
       "      <th>7</th>\n",
       "      <td> 2009-10</td>\n",
       "      <td>    Ray Allen</td>\n",
       "      <td> 13</td>\n",
       "    </tr>\n",
       "    <tr>\n",
       "      <th>8</th>\n",
       "      <td> 2010-11</td>\n",
       "      <td>    Ray Allen</td>\n",
       "      <td> 19</td>\n",
       "    </tr>\n",
       "    <tr>\n",
       "      <th>9</th>\n",
       "      <td> 2011-12</td>\n",
       "      <td>    Ray Allen</td>\n",
       "      <td>  9</td>\n",
       "    </tr>\n",
       "  </tbody>\n",
       "</table>\n",
       "</div>"
      ],
      "text/plain": [
       "    Season          Name  EFF\n",
       "0  2011-12  Cole Aldrich    3\n",
       "1  1998-99     Ray Allen   22\n",
       "2  1999-00     Ray Allen   20\n",
       "3  2000-01     Ray Allen   24\n",
       "4  2004-05     Ray Allen   22\n",
       "5  2007-08     Ray Allen   14\n",
       "6  2008-09     Ray Allen   15\n",
       "7  2009-10     Ray Allen   13\n",
       "8  2010-11     Ray Allen   19\n",
       "9  2011-12     Ray Allen    9"
      ]
     },
     "execution_count": 10,
     "metadata": {},
     "output_type": "execute_result"
    }
   ],
   "source": [
    "df_playoffs_Total['EFF'] = df_playoffs_Total.apply(EFF_Calculation,axis =1)\n",
    "df_playoffs_Total[['Season','Name','EFF']].head(10)"
   ]
  },
  {
   "cell_type": "markdown",
   "metadata": {},
   "source": [
    "###Playoffs GmSc Calculation"
   ]
  },
  {
   "cell_type": "code",
   "execution_count": 11,
   "metadata": {
    "collapsed": false
   },
   "outputs": [
    {
     "data": {
      "text/html": [
       "<div style=\"max-height:1000px;max-width:1500px;overflow:auto;\">\n",
       "<table border=\"1\" class=\"dataframe\">\n",
       "  <thead>\n",
       "    <tr style=\"text-align: right;\">\n",
       "      <th></th>\n",
       "      <th>Season</th>\n",
       "      <th>Name</th>\n",
       "      <th>EFF</th>\n",
       "      <th>GmSc</th>\n",
       "    </tr>\n",
       "  </thead>\n",
       "  <tbody>\n",
       "    <tr>\n",
       "      <th>0</th>\n",
       "      <td> 2011-12</td>\n",
       "      <td> Cole Aldrich</td>\n",
       "      <td>  3</td>\n",
       "      <td>  1.840000</td>\n",
       "    </tr>\n",
       "    <tr>\n",
       "      <th>1</th>\n",
       "      <td> 1998-99</td>\n",
       "      <td>    Ray Allen</td>\n",
       "      <td> 22</td>\n",
       "      <td> 16.700000</td>\n",
       "    </tr>\n",
       "    <tr>\n",
       "      <th>2</th>\n",
       "      <td> 1999-00</td>\n",
       "      <td>    Ray Allen</td>\n",
       "      <td> 20</td>\n",
       "      <td> 16.040000</td>\n",
       "    </tr>\n",
       "    <tr>\n",
       "      <th>3</th>\n",
       "      <td> 2000-01</td>\n",
       "      <td>    Ray Allen</td>\n",
       "      <td> 24</td>\n",
       "      <td> 19.805556</td>\n",
       "    </tr>\n",
       "    <tr>\n",
       "      <th>4</th>\n",
       "      <td> 2004-05</td>\n",
       "      <td>    Ray Allen</td>\n",
       "      <td> 22</td>\n",
       "      <td> 18.318182</td>\n",
       "    </tr>\n",
       "    <tr>\n",
       "      <th>5</th>\n",
       "      <td> 2007-08</td>\n",
       "      <td>    Ray Allen</td>\n",
       "      <td> 14</td>\n",
       "      <td> 11.261538</td>\n",
       "    </tr>\n",
       "    <tr>\n",
       "      <th>6</th>\n",
       "      <td> 2008-09</td>\n",
       "      <td>    Ray Allen</td>\n",
       "      <td> 15</td>\n",
       "      <td> 12.207143</td>\n",
       "    </tr>\n",
       "    <tr>\n",
       "      <th>7</th>\n",
       "      <td> 2009-10</td>\n",
       "      <td>    Ray Allen</td>\n",
       "      <td> 13</td>\n",
       "      <td> 10.566667</td>\n",
       "    </tr>\n",
       "    <tr>\n",
       "      <th>8</th>\n",
       "      <td> 2010-11</td>\n",
       "      <td>    Ray Allen</td>\n",
       "      <td> 19</td>\n",
       "      <td> 15.222222</td>\n",
       "    </tr>\n",
       "    <tr>\n",
       "      <th>9</th>\n",
       "      <td> 2011-12</td>\n",
       "      <td>    Ray Allen</td>\n",
       "      <td>  9</td>\n",
       "      <td>  6.627778</td>\n",
       "    </tr>\n",
       "  </tbody>\n",
       "</table>\n",
       "</div>"
      ],
      "text/plain": [
       "    Season          Name  EFF       GmSc\n",
       "0  2011-12  Cole Aldrich    3   1.840000\n",
       "1  1998-99     Ray Allen   22  16.700000\n",
       "2  1999-00     Ray Allen   20  16.040000\n",
       "3  2000-01     Ray Allen   24  19.805556\n",
       "4  2004-05     Ray Allen   22  18.318182\n",
       "5  2007-08     Ray Allen   14  11.261538\n",
       "6  2008-09     Ray Allen   15  12.207143\n",
       "7  2009-10     Ray Allen   13  10.566667\n",
       "8  2010-11     Ray Allen   19  15.222222\n",
       "9  2011-12     Ray Allen    9   6.627778"
      ]
     },
     "execution_count": 11,
     "metadata": {},
     "output_type": "execute_result"
    }
   ],
   "source": [
    "df_playoffs_Total['GmSc'] = df_playoffs_Total.apply(GmSc_Calculation,axis =1)\n",
    "df_playoffs_Total[['Season','Name','EFF','GmSc']].head(10)"
   ]
  },
  {
   "cell_type": "markdown",
   "metadata": {},
   "source": [
    "###Merge Playoffs_Total Field ['ORtg','DRtg','EFF','GmSc'] to Playoffs_Advance"
   ]
  },
  {
   "cell_type": "code",
   "execution_count": 12,
   "metadata": {
    "collapsed": false
   },
   "outputs": [
    {
     "name": "stdout",
     "output_type": "stream",
     "text": [
      "       Season  Age   Tm   Lg Pos   G   MP   PER  TS_Per  three_Per    ...      \\\n",
      "488   1996-97   22  LAL  NBA  PG   6   34  -2.1   0.325      0.455    ...       \n",
      "133   1996-97   18  LAL  NBA  SG   9  133  12.5   0.543      0.418    ...       \n",
      "590   1996-97   20  MIN  NBA  SF   3  125  19.3   0.497      0.020    ...       \n",
      "1114  1996-97   22  PHO  NBA  PG   4   15  -5.1   0.278      0.444    ...       \n",
      "1134  1996-97   18  POR  NBA  PF   2    4 -16.6   0.000      0.500    ...       \n",
      "489   1997-98   23  LAL  NBA  PG  13  278  12.6   0.483      0.294    ...       \n",
      "134   1997-98   19  LAL  NBA  SG  11  220  12.8   0.501      0.184    ...       \n",
      "591   1997-98   21  MIN  NBA  PF   5  194  15.5   0.500      0.000    ...       \n",
      "1115  1997-98   23  PHO  NBA  PG   4   51  16.5   0.511      0.278    ...       \n",
      "1135  1997-98   19  POR  NBA  PF   1    3  -5.3   0.000      0.333    ...       \n",
      "\n",
      "      DBPM   BPM  VORP  TranFlag             Name      Salary  ORtg  DRtg  \\\n",
      "488   -1.3 -12.0  -0.1         N     Derek Fisher    $612,000    60   110   \n",
      "133   -1.5  -2.8   0.0         N      Kobe Bryant  $1,015,000   100   110   \n",
      "590    4.1   1.6   0.1         N    Kevin Garnett  $1,666,000   113   123   \n",
      "1114   2.4 -10.4   0.0         N       Steve Nash    $916,000    57   115   \n",
      "1134   2.9 -27.3   0.0         N  Jermaine O'Neal    $827,000     0    98   \n",
      "489    0.9  -1.2   0.1         N     Derek Fisher    $703,200   106   111   \n",
      "134   -0.5  -3.5  -0.1         N      Kobe Bryant  $1,167,240   106   116   \n",
      "591    5.7   1.6   0.2         N    Kevin Garnett  $2,109,120    92   108   \n",
      "1115   1.9   2.1   0.1         N       Steve Nash  $1,053,360   105   109   \n",
      "1135  17.8  -9.7   0.0         N  Jermaine O'Neal    $950,640    26    82   \n",
      "\n",
      "      EFF       GmSc  \n",
      "488     0  -0.066667  \n",
      "133     5   3.877778  \n",
      "590    22  15.766667  \n",
      "1114    0  -0.350000  \n",
      "1134   -1  -0.600000  \n",
      "489     7   5.246154  \n",
      "134     6   5.118182  \n",
      "591    20  11.780000  \n",
      "1115    6   4.075000  \n",
      "1135    0  -0.400000  \n",
      "\n",
      "[10 rows x 34 columns]\n"
     ]
    }
   ],
   "source": [
    "df_playoffs_Advance = pd.merge(df_playoffs_Advance, df_playoffs_Total[['Season', 'Tm','Name','ORtg','DRtg','EFF','GmSc']], on=['Season', 'Tm','Name'])\n",
    "print df_playoffs_Advance.sort_index(by=['Season','Tm','Name']).head(10)"
   ]
  },
  {
   "cell_type": "markdown",
   "metadata": {},
   "source": [
    "###Convert Season_Advance column [Salary] To Integer"
   ]
  },
  {
   "cell_type": "code",
   "execution_count": 13,
   "metadata": {
    "collapsed": false
   },
   "outputs": [
    {
     "name": "stdout",
     "output_type": "stream",
     "text": [
      "       Season  Age   Tm   Lg Pos   G    MP   PER  TS_Per  three_Per  \\\n",
      "1246  1995-96   19  MIN  NBA  SF  80  2293  15.8   0.522      0.038   \n",
      "2838  1995-96   21  PHI  NBA  SG  72  2701  14.8   0.525      0.268   \n",
      "1015  1996-97   22  LAL  NBA  PG  80   921  11.0   0.491      0.279   \n",
      "259   1996-97   18  LAL  NBA  SG  71  1103  14.4   0.544      0.322   \n",
      "6     1996-97   21  MIL  NBA  SG  82  2532  14.6   0.541      0.328   \n",
      "1247  1996-97   20  MIN  NBA  SF  77  2995  18.2   0.537      0.019   \n",
      "2839  1996-97   22  PHI  NBA  SG  81  3166  14.1   0.524      0.261   \n",
      "2360  1996-97   22  PHO  NBA  PG  65   684  10.8   0.539      0.314   \n",
      "2393  1996-97   18  POR  NBA  PF  45   458  13.7   0.494      0.007   \n",
      "558   1997-98   21  BOS  NBA  PG  51  1296  15.4   0.530      0.416   \n",
      "\n",
      "        ...      DBPM  BPM  VORP  TranFlag              Name   Salary  ORtg  \\\n",
      "1246    ...       2.4  1.7   2.1         N     Kevin Garnett  1622000   107   \n",
      "2838    ...      -1.6 -1.4   0.4         N  Jerry Stackhouse  1987000   101   \n",
      "1015    ...      -1.0 -3.5  -0.3         N      Derek Fisher   612000    98   \n",
      "259     ...      -0.8 -1.7   0.1         N       Kobe Bryant  1015000   101   \n",
      "6       ...      -1.2  0.3   1.5         N         Ray Allen  1785000   109   \n",
      "1247    ...       2.6  2.9   3.7         N     Kevin Garnett  1666000   107   \n",
      "2839    ...      -2.2 -2.0   0.0         N  Jerry Stackhouse  2286000   102   \n",
      "2360    ...      -2.8 -4.6  -0.5         N        Steve Nash   916000   103   \n",
      "2393    ...      -1.1 -6.3  -0.5         N   Jermaine O'Neal   827000   100   \n",
      "558     ...      -1.9 -0.3   0.5         N  Chauncey Billups  2384640   105   \n",
      "\n",
      "      DRtg  EFF       GmSc  \n",
      "1246   107   14   9.515000  \n",
      "2838   115   14  12.034722  \n",
      "1015   106    3   2.648750  \n",
      "259    105    6   4.738028  \n",
      "6      110   12   8.953659  \n",
      "1247   105   21  14.583117  \n",
      "2839   115   14  12.204938  \n",
      "2360   112    4   2.440000  \n",
      "2393   102    4   2.806667  \n",
      "558    107   10   8.231373  \n",
      "\n",
      "[10 rows x 34 columns]\n"
     ]
    }
   ],
   "source": [
    "def Salary_Convert(x):\n",
    "    Salary = x[29] \n",
    "    # Salary : \"$2,126,520\"\n",
    "    Salary_Int = Salary.replace('\"', \"\").replace(',', \"\").replace('$', \"\")    \n",
    "    return Salary_Int\n",
    "\n",
    "#df_Season_Advance.info()\n",
    "df_Season_Advance['Salary'] = df_Season_Advance.apply(Salary_Convert,axis =1)\n",
    "print df_Season_Advance.sort_index(by=['Season','Tm','Name']).head(10)"
   ]
  },
  {
   "cell_type": "markdown",
   "metadata": {},
   "source": [
    "###Convert Playoffs_Advance column [Salary] To Integer"
   ]
  },
  {
   "cell_type": "code",
   "execution_count": 14,
   "metadata": {
    "collapsed": false
   },
   "outputs": [
    {
     "name": "stdout",
     "output_type": "stream",
     "text": [
      "       Season  Age   Tm   Lg Pos   G   MP   PER  TS_Per  three_Per    ...      \\\n",
      "488   1996-97   22  LAL  NBA  PG   6   34  -2.1   0.325      0.455    ...       \n",
      "133   1996-97   18  LAL  NBA  SG   9  133  12.5   0.543      0.418    ...       \n",
      "590   1996-97   20  MIN  NBA  SF   3  125  19.3   0.497      0.020    ...       \n",
      "1114  1996-97   22  PHO  NBA  PG   4   15  -5.1   0.278      0.444    ...       \n",
      "1134  1996-97   18  POR  NBA  PF   2    4 -16.6   0.000      0.500    ...       \n",
      "489   1997-98   23  LAL  NBA  PG  13  278  12.6   0.483      0.294    ...       \n",
      "134   1997-98   19  LAL  NBA  SG  11  220  12.8   0.501      0.184    ...       \n",
      "591   1997-98   21  MIN  NBA  PF   5  194  15.5   0.500      0.000    ...       \n",
      "1115  1997-98   23  PHO  NBA  PG   4   51  16.5   0.511      0.278    ...       \n",
      "1135  1997-98   19  POR  NBA  PF   1    3  -5.3   0.000      0.333    ...       \n",
      "\n",
      "      DBPM   BPM  VORP  TranFlag             Name   Salary  ORtg  DRtg  EFF  \\\n",
      "488   -1.3 -12.0  -0.1         N     Derek Fisher   612000    60   110    0   \n",
      "133   -1.5  -2.8   0.0         N      Kobe Bryant  1015000   100   110    5   \n",
      "590    4.1   1.6   0.1         N    Kevin Garnett  1666000   113   123   22   \n",
      "1114   2.4 -10.4   0.0         N       Steve Nash   916000    57   115    0   \n",
      "1134   2.9 -27.3   0.0         N  Jermaine O'Neal   827000     0    98   -1   \n",
      "489    0.9  -1.2   0.1         N     Derek Fisher   703200   106   111    7   \n",
      "134   -0.5  -3.5  -0.1         N      Kobe Bryant  1167240   106   116    6   \n",
      "591    5.7   1.6   0.2         N    Kevin Garnett  2109120    92   108   20   \n",
      "1115   1.9   2.1   0.1         N       Steve Nash  1053360   105   109    6   \n",
      "1135  17.8  -9.7   0.0         N  Jermaine O'Neal   950640    26    82    0   \n",
      "\n",
      "           GmSc  \n",
      "488   -0.066667  \n",
      "133    3.877778  \n",
      "590   15.766667  \n",
      "1114  -0.350000  \n",
      "1134  -0.600000  \n",
      "489    5.246154  \n",
      "134    5.118182  \n",
      "591   11.780000  \n",
      "1115   4.075000  \n",
      "1135  -0.400000  \n",
      "\n",
      "[10 rows x 34 columns]\n"
     ]
    }
   ],
   "source": [
    "df_playoffs_Advance['Salary'] = df_playoffs_Advance.apply(Salary_Convert,axis =1)\n",
    "print df_playoffs_Advance.sort_index(by=['Season','Tm','Name']).head(10)"
   ]
  },
  {
   "cell_type": "markdown",
   "metadata": {},
   "source": [
    "###Output DataFrame to CSV ( with Name Column)"
   ]
  },
  {
   "cell_type": "code",
   "execution_count": 15,
   "metadata": {
    "collapsed": true
   },
   "outputs": [],
   "source": [
    "def Output_CSV(output_df,location):\n",
    "    output_file = open(location, \"ab\")\n",
    "    output_df.to_csv(output_file,index=False)\n",
    "    output_file.close()\n",
    "    \n",
    "Season_Summary_location = \"e:\\\\nba\\\\Season_Collection_with_Name.csv\"\n",
    "Output_CSV(df_Season_Advance.sort_index(by=['Season','Tm']),Season_Summary_location)\n",
    "\n",
    "Playoffs_Summary_location = \"e:\\\\nba\\\\Playoffs_Collection_with_Name.csv\"\n",
    "Output_CSV(df_playoffs_Advance.sort_index(by=['Season','Tm']),Playoffs_Summary_location)"
   ]
  },
  {
   "cell_type": "markdown",
   "metadata": {},
   "source": [
    "###Remove column [Name]"
   ]
  },
  {
   "cell_type": "code",
   "execution_count": 16,
   "metadata": {
    "collapsed": false
   },
   "outputs": [],
   "source": [
    "df_Season_Advance = df_Season_Advance.drop('Name', 1)\n",
    "df_playoffs_Advance = df_playoffs_Advance.drop('Name', 1)"
   ]
  },
  {
   "cell_type": "markdown",
   "metadata": {},
   "source": [
    "###Missing value"
   ]
  },
  {
   "cell_type": "code",
   "execution_count": 17,
   "metadata": {
    "collapsed": false
   },
   "outputs": [],
   "source": [
    "df_Season_Advance = df_Season_Advance.fillna(0)\n",
    "df_playoffs_Advance = df_playoffs_Advance.fillna(0)"
   ]
  },
  {
   "cell_type": "markdown",
   "metadata": {},
   "source": [
    "###Output DataFrame to CSV"
   ]
  },
  {
   "cell_type": "code",
   "execution_count": 18,
   "metadata": {
    "collapsed": false
   },
   "outputs": [],
   "source": [
    "def Output_CSV(output_df,location):\n",
    "    output_file = open(location, \"ab\")\n",
    "    output_df.to_csv(output_file,index=False)\n",
    "    output_file.close()\n",
    "    \n",
    "Season_Summary_location = \"e:\\\\nba\\\\Season_Collection.csv\"\n",
    "Output_CSV(df_Season_Advance.sort_index(by=['Season','Tm']),Season_Summary_location)\n",
    "\n",
    "Playoffs_Summary_location = \"e:\\\\nba\\\\Playoffs_Collection.csv\"\n",
    "Output_CSV(df_playoffs_Advance.sort_index(by=['Season','Tm']),Playoffs_Summary_location)"
   ]
  },
  {
   "cell_type": "code",
   "execution_count": null,
   "metadata": {
    "collapsed": true
   },
   "outputs": [],
   "source": []
  }
 ],
 "metadata": {
  "kernelspec": {
   "display_name": "Python 2",
   "language": "python",
   "name": "python2"
  },
  "language_info": {
   "codemirror_mode": {
    "name": "ipython",
    "version": 2
   },
   "file_extension": ".py",
   "mimetype": "text/x-python",
   "name": "python",
   "nbconvert_exporter": "python",
   "pygments_lexer": "ipython2",
   "version": "2.7.7"
  }
 },
 "nbformat": 4,
 "nbformat_minor": 0
}

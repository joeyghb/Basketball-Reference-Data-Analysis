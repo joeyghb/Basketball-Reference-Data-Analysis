{
 "cells": [
  {
   "cell_type": "markdown",
   "metadata": {},
   "source": [
    "#Basketball-reference Quartile Calc"
   ]
  },
  {
   "cell_type": "code",
   "execution_count": 1,
   "metadata": {
    "collapsed": false
   },
   "outputs": [],
   "source": [
    "# special IPython command to prepare the notebook for matplotlib\n",
    "from collections import defaultdict\n",
    "\n",
    "import pandas as pd\n",
    "import numpy as np\n",
    "import matplotlib.pyplot as plt\n",
    "%matplotlib inline\n",
    "import re\n",
    "\n"
   ]
  },
  {
   "cell_type": "markdown",
   "metadata": {},
   "source": [
    "### Read Player Seaaon CSV"
   ]
  },
  {
   "cell_type": "code",
   "execution_count": 2,
   "metadata": {
    "collapsed": false
   },
   "outputs": [
    {
     "name": "stdout",
     "output_type": "stream",
     "text": [
      "<class 'pandas.core.frame.DataFrame'>\n",
      "Int64Index: 3440 entries, 0 to 3439\n",
      "Data columns (total 34 columns):\n",
      "Season       3440 non-null object\n",
      "Age          3440 non-null int64\n",
      "Tm           3440 non-null object\n",
      "Lg           3440 non-null object\n",
      "Pos          3440 non-null object\n",
      "G            3440 non-null int64\n",
      "MP           3440 non-null int64\n",
      "PER          3439 non-null float64\n",
      "TS_Per       3435 non-null float64\n",
      "three_Per    3434 non-null float64\n",
      "FT_Per       3434 non-null float64\n",
      "ORB_Per      3439 non-null float64\n",
      "DRB_Per      3439 non-null float64\n",
      "TRB_Per      3439 non-null float64\n",
      "AST_Per      3439 non-null float64\n",
      "STL_Per      3439 non-null float64\n",
      "BLK_Per      3439 non-null float64\n",
      "TOV_Per      3436 non-null float64\n",
      "USG_Per      3439 non-null float64\n",
      "OWS          3440 non-null float64\n",
      "DWS          3440 non-null float64\n",
      "WS           3440 non-null float64\n",
      "WS48         3439 non-null float64\n",
      "OBPM         3440 non-null float64\n",
      "DBPM         3440 non-null float64\n",
      "BPM          3440 non-null float64\n",
      "VORP         3440 non-null float64\n",
      "TranFlag     3440 non-null object\n",
      "Name         3440 non-null object\n",
      "Salary       3440 non-null int64\n",
      "ORtg         3436 non-null float64\n",
      "DRtg         3439 non-null float64\n",
      "EFF          3440 non-null int64\n",
      "GmSc         3440 non-null float64\n",
      "dtypes: float64(23), int64(5), object(6)\n",
      "memory usage: 940.6+ KB\n"
     ]
    }
   ],
   "source": [
    "df_Season_Collect = pd.read_csv('e:\\\\nba\\\\Season_Collection_with_Name.csv', header=0)\n",
    "\n",
    "df_Season_Collect.info()\n",
    "#df_Season_Collect.describe()"
   ]
  },
  {
   "cell_type": "code",
   "execution_count": 3,
   "metadata": {
    "collapsed": false
   },
   "outputs": [
    {
     "name": "stdout",
     "output_type": "stream",
     "text": [
      "['1995-96' '1996-97' '1997-98' '1998-99' '1999-00' '2000-01' '2001-02'\n",
      " '2002-03' '2003-04' '2004-05' '2005-06' '2006-07' '2007-08' '2008-09'\n",
      " '2009-10' '2010-11' '2011-12' '2012-13' '2013-14' '2014-15']\n"
     ]
    }
   ],
   "source": [
    "year_list = df_Season_Collect['Season'].unique()\n",
    "print year_list\n",
    "yearStr = year_list[1]"
   ]
  },
  {
   "cell_type": "code",
   "execution_count": 4,
   "metadata": {
    "collapsed": true
   },
   "outputs": [],
   "source": [
    "def getYearQuartile(df_year):\n",
    "    df_year['Salary'].quantile([0,.25,.5,.75,1])\n",
    "    Quartile_list = (Min,Q1,Q2,Q3,Q4) =  df_year['Salary'].quantile([0,.25,.5,.75,1])  \n",
    "    df_year.loc[:,'Q1'] = Q1\n",
    "    df_year.loc[:,'Q2'] = Q2\n",
    "    df_year.loc[:,'Q3'] = Q3\n",
    "    df_year.loc[:,'Q4'] = Q4   \n",
    "    \n",
    "    return df_year"
   ]
  },
  {
   "cell_type": "code",
   "execution_count": 5,
   "metadata": {
    "collapsed": false
   },
   "outputs": [],
   "source": [
    "def CheckQuartile(x):\n",
    "    Q1 = x[34]\n",
    "    Q2 = x[35]\n",
    "    Q3 = x[36]\n",
    "    Q4 = x[37]\n",
    "    Salary = x[29]\n",
    "    \n",
    "    if (Salary <= Q1):\n",
    "        result = \"Q1\"\n",
    "    elif (Salary > Q1) & (Salary <= Q2):\n",
    "        result = \"Q2\"\n",
    "    elif (Salary > Q2) & (Salary <= Q3):\n",
    "        result = \"Q3\"\n",
    "    elif (Salary > Q3) & (Salary <= Q4):\n",
    "        result = \"Q4\"\n",
    "    else:\n",
    "        result = \"Q2\"\n",
    "    \n",
    "    return result"
   ]
  },
  {
   "cell_type": "code",
   "execution_count": 6,
   "metadata": {
    "collapsed": false
   },
   "outputs": [
    {
     "name": "stdout",
     "output_type": "stream",
     "text": [
      "<class 'pandas.core.frame.DataFrame'>\n",
      "Int64Index: 7 entries, 2 to 8\n",
      "Data columns (total 34 columns):\n",
      "Season       7 non-null object\n",
      "Age          7 non-null int64\n",
      "Tm           7 non-null object\n",
      "Lg           7 non-null object\n",
      "Pos          7 non-null object\n",
      "G            7 non-null int64\n",
      "MP           7 non-null int64\n",
      "PER          7 non-null float64\n",
      "TS_Per       7 non-null float64\n",
      "three_Per    7 non-null float64\n",
      "FT_Per       7 non-null float64\n",
      "ORB_Per      7 non-null float64\n",
      "DRB_Per      7 non-null float64\n",
      "TRB_Per      7 non-null float64\n",
      "AST_Per      7 non-null float64\n",
      "STL_Per      7 non-null float64\n",
      "BLK_Per      7 non-null float64\n",
      "TOV_Per      7 non-null float64\n",
      "USG_Per      7 non-null float64\n",
      "OWS          7 non-null float64\n",
      "DWS          7 non-null float64\n",
      "WS           7 non-null float64\n",
      "WS48         7 non-null float64\n",
      "OBPM         7 non-null float64\n",
      "DBPM         7 non-null float64\n",
      "BPM          7 non-null float64\n",
      "VORP         7 non-null float64\n",
      "TranFlag     7 non-null object\n",
      "Name         7 non-null object\n",
      "Salary       7 non-null int64\n",
      "ORtg         7 non-null float64\n",
      "DRtg         7 non-null float64\n",
      "EFF          7 non-null int64\n",
      "GmSc         7 non-null float64\n",
      "dtypes: float64(23), int64(5), object(6)\n",
      "memory usage: 1.9+ KB\n"
     ]
    }
   ],
   "source": [
    "year = df_Season_Collect['Season'].map(lambda x: x == yearStr)\n",
    "df_year = df_Season_Collect[year]\n",
    "#df_year\n",
    "df_year.info()"
   ]
  },
  {
   "cell_type": "code",
   "execution_count": 7,
   "metadata": {
    "collapsed": false
   },
   "outputs": [
    {
     "name": "stdout",
     "output_type": "stream",
     "text": [
      "<class 'pandas.core.frame.DataFrame'>\n",
      "Int64Index: 7 entries, 2 to 8\n",
      "Data columns (total 39 columns):\n",
      "Season       7 non-null object\n",
      "Age          7 non-null int64\n",
      "Tm           7 non-null object\n",
      "Lg           7 non-null object\n",
      "Pos          7 non-null object\n",
      "G            7 non-null int64\n",
      "MP           7 non-null int64\n",
      "PER          7 non-null float64\n",
      "TS_Per       7 non-null float64\n",
      "three_Per    7 non-null float64\n",
      "FT_Per       7 non-null float64\n",
      "ORB_Per      7 non-null float64\n",
      "DRB_Per      7 non-null float64\n",
      "TRB_Per      7 non-null float64\n",
      "AST_Per      7 non-null float64\n",
      "STL_Per      7 non-null float64\n",
      "BLK_Per      7 non-null float64\n",
      "TOV_Per      7 non-null float64\n",
      "USG_Per      7 non-null float64\n",
      "OWS          7 non-null float64\n",
      "DWS          7 non-null float64\n",
      "WS           7 non-null float64\n",
      "WS48         7 non-null float64\n",
      "OBPM         7 non-null float64\n",
      "DBPM         7 non-null float64\n",
      "BPM          7 non-null float64\n",
      "VORP         7 non-null float64\n",
      "TranFlag     7 non-null object\n",
      "Name         7 non-null object\n",
      "Salary       7 non-null int64\n",
      "ORtg         7 non-null float64\n",
      "DRtg         7 non-null float64\n",
      "EFF          7 non-null int64\n",
      "GmSc         7 non-null float64\n",
      "Q1           7 non-null float64\n",
      "Q2           7 non-null float64\n",
      "Q3           7 non-null float64\n",
      "Q4           7 non-null float64\n",
      "Quartile     7 non-null object\n",
      "dtypes: float64(27), int64(5), object(7)\n",
      "memory usage: 2.2+ KB\n"
     ]
    },
    {
     "name": "stderr",
     "output_type": "stream",
     "text": [
      "C:\\Anaconda\\lib\\site-packages\\pandas\\core\\indexing.py:245: SettingWithCopyWarning: \n",
      "A value is trying to be set on a copy of a slice from a DataFrame.\n",
      "Try using .loc[row_indexer,col_indexer] = value instead\n",
      "\n",
      "See the the caveats in the documentation: http://pandas.pydata.org/pandas-docs/stable/indexing.html#indexing-view-versus-copy\n",
      "  self.obj[key] = np.nan\n",
      "C:\\Anaconda\\lib\\site-packages\\pandas\\core\\indexing.py:415: SettingWithCopyWarning: \n",
      "A value is trying to be set on a copy of a slice from a DataFrame.\n",
      "Try using .loc[row_indexer,col_indexer] = value instead\n",
      "\n",
      "See the the caveats in the documentation: http://pandas.pydata.org/pandas-docs/stable/indexing.html#indexing-view-versus-copy\n",
      "  self.obj[item] = s\n"
     ]
    },
    {
     "data": {
      "text/html": [
       "<div style=\"max-height:1000px;max-width:1500px;overflow:auto;\">\n",
       "<table border=\"1\" class=\"dataframe\">\n",
       "  <thead>\n",
       "    <tr style=\"text-align: right;\">\n",
       "      <th></th>\n",
       "      <th>Season</th>\n",
       "      <th>Age</th>\n",
       "      <th>Tm</th>\n",
       "      <th>Lg</th>\n",
       "      <th>Pos</th>\n",
       "      <th>G</th>\n",
       "      <th>MP</th>\n",
       "      <th>PER</th>\n",
       "      <th>TS_Per</th>\n",
       "      <th>three_Per</th>\n",
       "      <th>...</th>\n",
       "      <th>Salary</th>\n",
       "      <th>ORtg</th>\n",
       "      <th>DRtg</th>\n",
       "      <th>EFF</th>\n",
       "      <th>GmSc</th>\n",
       "      <th>Q1</th>\n",
       "      <th>Q2</th>\n",
       "      <th>Q3</th>\n",
       "      <th>Q4</th>\n",
       "      <th>Quartile</th>\n",
       "    </tr>\n",
       "  </thead>\n",
       "  <tbody>\n",
       "    <tr>\n",
       "      <th>2</th>\n",
       "      <td> 1996-97</td>\n",
       "      <td> 18</td>\n",
       "      <td> LAL</td>\n",
       "      <td> NBA</td>\n",
       "      <td> SG</td>\n",
       "      <td> 71</td>\n",
       "      <td> 1103</td>\n",
       "      <td> 14.4</td>\n",
       "      <td> 0.544</td>\n",
       "      <td> 0.322</td>\n",
       "      <td>...</td>\n",
       "      <td> 1015000</td>\n",
       "      <td> 101</td>\n",
       "      <td> 105</td>\n",
       "      <td>  6</td>\n",
       "      <td>  4.738028</td>\n",
       "      <td> 871500</td>\n",
       "      <td> 1015000</td>\n",
       "      <td> 1725500</td>\n",
       "      <td> 2286000</td>\n",
       "      <td> Q2</td>\n",
       "    </tr>\n",
       "    <tr>\n",
       "      <th>3</th>\n",
       "      <td> 1996-97</td>\n",
       "      <td> 22</td>\n",
       "      <td> LAL</td>\n",
       "      <td> NBA</td>\n",
       "      <td> PG</td>\n",
       "      <td> 80</td>\n",
       "      <td>  921</td>\n",
       "      <td> 11.0</td>\n",
       "      <td> 0.491</td>\n",
       "      <td> 0.279</td>\n",
       "      <td>...</td>\n",
       "      <td>  612000</td>\n",
       "      <td>  98</td>\n",
       "      <td> 106</td>\n",
       "      <td>  3</td>\n",
       "      <td>  2.648750</td>\n",
       "      <td> 871500</td>\n",
       "      <td> 1015000</td>\n",
       "      <td> 1725500</td>\n",
       "      <td> 2286000</td>\n",
       "      <td> Q1</td>\n",
       "    </tr>\n",
       "    <tr>\n",
       "      <th>4</th>\n",
       "      <td> 1996-97</td>\n",
       "      <td> 21</td>\n",
       "      <td> MIL</td>\n",
       "      <td> NBA</td>\n",
       "      <td> SG</td>\n",
       "      <td> 82</td>\n",
       "      <td> 2532</td>\n",
       "      <td> 14.6</td>\n",
       "      <td> 0.541</td>\n",
       "      <td> 0.328</td>\n",
       "      <td>...</td>\n",
       "      <td> 1785000</td>\n",
       "      <td> 109</td>\n",
       "      <td> 110</td>\n",
       "      <td> 12</td>\n",
       "      <td>  8.953659</td>\n",
       "      <td> 871500</td>\n",
       "      <td> 1015000</td>\n",
       "      <td> 1725500</td>\n",
       "      <td> 2286000</td>\n",
       "      <td> Q4</td>\n",
       "    </tr>\n",
       "    <tr>\n",
       "      <th>5</th>\n",
       "      <td> 1996-97</td>\n",
       "      <td> 20</td>\n",
       "      <td> MIN</td>\n",
       "      <td> NBA</td>\n",
       "      <td> SF</td>\n",
       "      <td> 77</td>\n",
       "      <td> 2995</td>\n",
       "      <td> 18.2</td>\n",
       "      <td> 0.537</td>\n",
       "      <td> 0.019</td>\n",
       "      <td>...</td>\n",
       "      <td> 1666000</td>\n",
       "      <td> 107</td>\n",
       "      <td> 105</td>\n",
       "      <td> 21</td>\n",
       "      <td> 14.583117</td>\n",
       "      <td> 871500</td>\n",
       "      <td> 1015000</td>\n",
       "      <td> 1725500</td>\n",
       "      <td> 2286000</td>\n",
       "      <td> Q3</td>\n",
       "    </tr>\n",
       "    <tr>\n",
       "      <th>6</th>\n",
       "      <td> 1996-97</td>\n",
       "      <td> 22</td>\n",
       "      <td> PHI</td>\n",
       "      <td> NBA</td>\n",
       "      <td> SG</td>\n",
       "      <td> 81</td>\n",
       "      <td> 3166</td>\n",
       "      <td> 14.1</td>\n",
       "      <td> 0.524</td>\n",
       "      <td> 0.261</td>\n",
       "      <td>...</td>\n",
       "      <td> 2286000</td>\n",
       "      <td> 102</td>\n",
       "      <td> 115</td>\n",
       "      <td> 14</td>\n",
       "      <td> 12.204938</td>\n",
       "      <td> 871500</td>\n",
       "      <td> 1015000</td>\n",
       "      <td> 1725500</td>\n",
       "      <td> 2286000</td>\n",
       "      <td> Q4</td>\n",
       "    </tr>\n",
       "    <tr>\n",
       "      <th>7</th>\n",
       "      <td> 1996-97</td>\n",
       "      <td> 22</td>\n",
       "      <td> PHO</td>\n",
       "      <td> NBA</td>\n",
       "      <td> PG</td>\n",
       "      <td> 65</td>\n",
       "      <td>  684</td>\n",
       "      <td> 10.8</td>\n",
       "      <td> 0.539</td>\n",
       "      <td> 0.314</td>\n",
       "      <td>...</td>\n",
       "      <td>  916000</td>\n",
       "      <td> 103</td>\n",
       "      <td> 112</td>\n",
       "      <td>  4</td>\n",
       "      <td>  2.440000</td>\n",
       "      <td> 871500</td>\n",
       "      <td> 1015000</td>\n",
       "      <td> 1725500</td>\n",
       "      <td> 2286000</td>\n",
       "      <td> Q2</td>\n",
       "    </tr>\n",
       "    <tr>\n",
       "      <th>8</th>\n",
       "      <td> 1996-97</td>\n",
       "      <td> 18</td>\n",
       "      <td> POR</td>\n",
       "      <td> NBA</td>\n",
       "      <td> PF</td>\n",
       "      <td> 45</td>\n",
       "      <td>  458</td>\n",
       "      <td> 13.7</td>\n",
       "      <td> 0.494</td>\n",
       "      <td> 0.007</td>\n",
       "      <td>...</td>\n",
       "      <td>  827000</td>\n",
       "      <td> 100</td>\n",
       "      <td> 102</td>\n",
       "      <td>  4</td>\n",
       "      <td>  2.806667</td>\n",
       "      <td> 871500</td>\n",
       "      <td> 1015000</td>\n",
       "      <td> 1725500</td>\n",
       "      <td> 2286000</td>\n",
       "      <td> Q1</td>\n",
       "    </tr>\n",
       "  </tbody>\n",
       "</table>\n",
       "<p>7 rows × 39 columns</p>\n",
       "</div>"
      ],
      "text/plain": [
       "    Season  Age   Tm   Lg Pos   G    MP   PER  TS_Per  three_Per    ...     \\\n",
       "2  1996-97   18  LAL  NBA  SG  71  1103  14.4   0.544      0.322    ...      \n",
       "3  1996-97   22  LAL  NBA  PG  80   921  11.0   0.491      0.279    ...      \n",
       "4  1996-97   21  MIL  NBA  SG  82  2532  14.6   0.541      0.328    ...      \n",
       "5  1996-97   20  MIN  NBA  SF  77  2995  18.2   0.537      0.019    ...      \n",
       "6  1996-97   22  PHI  NBA  SG  81  3166  14.1   0.524      0.261    ...      \n",
       "7  1996-97   22  PHO  NBA  PG  65   684  10.8   0.539      0.314    ...      \n",
       "8  1996-97   18  POR  NBA  PF  45   458  13.7   0.494      0.007    ...      \n",
       "\n",
       "    Salary  ORtg  DRtg  EFF       GmSc      Q1       Q2       Q3       Q4  \\\n",
       "2  1015000   101   105    6   4.738028  871500  1015000  1725500  2286000   \n",
       "3   612000    98   106    3   2.648750  871500  1015000  1725500  2286000   \n",
       "4  1785000   109   110   12   8.953659  871500  1015000  1725500  2286000   \n",
       "5  1666000   107   105   21  14.583117  871500  1015000  1725500  2286000   \n",
       "6  2286000   102   115   14  12.204938  871500  1015000  1725500  2286000   \n",
       "7   916000   103   112    4   2.440000  871500  1015000  1725500  2286000   \n",
       "8   827000   100   102    4   2.806667  871500  1015000  1725500  2286000   \n",
       "\n",
       "   Quartile  \n",
       "2        Q2  \n",
       "3        Q1  \n",
       "4        Q4  \n",
       "5        Q3  \n",
       "6        Q4  \n",
       "7        Q2  \n",
       "8        Q1  \n",
       "\n",
       "[7 rows x 39 columns]"
      ]
     },
     "execution_count": 7,
     "metadata": {},
     "output_type": "execute_result"
    }
   ],
   "source": [
    "df_result = getYearQuartile(df_year)\n",
    "df_result.loc[:,'Quartile'] = df_result.apply(CheckQuartile,axis =1)\n",
    "df_result.info()\n",
    "df_result"
   ]
  },
  {
   "cell_type": "code",
   "execution_count": 8,
   "metadata": {
    "collapsed": false
   },
   "outputs": [
    {
     "data": {
      "text/html": [
       "<div style=\"max-height:1000px;max-width:1500px;overflow:auto;\">\n",
       "<table border=\"1\" class=\"dataframe\">\n",
       "  <thead>\n",
       "    <tr style=\"text-align: right;\">\n",
       "      <th></th>\n",
       "      <th>Season</th>\n",
       "      <th>Age</th>\n",
       "      <th>Tm</th>\n",
       "      <th>Lg</th>\n",
       "      <th>Pos</th>\n",
       "      <th>G</th>\n",
       "      <th>MP</th>\n",
       "      <th>PER</th>\n",
       "      <th>TS_Per</th>\n",
       "      <th>three_Per</th>\n",
       "      <th>...</th>\n",
       "      <th>Salary</th>\n",
       "      <th>ORtg</th>\n",
       "      <th>DRtg</th>\n",
       "      <th>EFF</th>\n",
       "      <th>GmSc</th>\n",
       "      <th>Q1</th>\n",
       "      <th>Q2</th>\n",
       "      <th>Q3</th>\n",
       "      <th>Q4</th>\n",
       "      <th>Quartile</th>\n",
       "    </tr>\n",
       "  </thead>\n",
       "  <tbody>\n",
       "  </tbody>\n",
       "</table>\n",
       "<p>0 rows × 39 columns</p>\n",
       "</div>"
      ],
      "text/plain": [
       "Empty DataFrame\n",
       "Columns: [Season, Age, Tm, Lg, Pos, G, MP, PER, TS_Per, three_Per, FT_Per, ORB_Per, DRB_Per, TRB_Per, AST_Per, STL_Per, BLK_Per, TOV_Per, USG_Per, OWS, DWS, WS, WS48, OBPM, DBPM, BPM, VORP, TranFlag, Name, Salary, ORtg, DRtg, EFF, GmSc, Q1, Q2, Q3, Q4, Quartile]\n",
       "Index: []\n",
       "\n",
       "[0 rows x 39 columns]"
      ]
     },
     "execution_count": 8,
     "metadata": {},
     "output_type": "execute_result"
    }
   ],
   "source": [
    "#df_output = pd.DataFrame(data=None, columns=df_result.columns,index=0)\n",
    "name_list = list(df_result.columns)\n",
    "df_Season_output = pd.DataFrame(columns=name_list)\n",
    "df_Season_output"
   ]
  },
  {
   "cell_type": "code",
   "execution_count": 9,
   "metadata": {
    "collapsed": false
   },
   "outputs": [],
   "source": [
    "def CalcQuartile(df_data):\n",
    "    df_output = pd.DataFrame(columns=name_list)\n",
    "    for yearStr in year_list:\n",
    "        year = df_data['Season'].map(lambda x: x == yearStr)\n",
    "        df_year = df_data[year]\n",
    "        df_result = getYearQuartile(df_year)\n",
    "        df_result.loc[:,'Quartile'] = df_result.apply(CheckQuartile,axis =1)\n",
    "        df_output = df_output.append(df_result)\n",
    "    \n",
    "    return df_output"
   ]
  },
  {
   "cell_type": "code",
   "execution_count": 10,
   "metadata": {
    "collapsed": false
   },
   "outputs": [
    {
     "name": "stdout",
     "output_type": "stream",
     "text": [
      "<class 'pandas.core.frame.DataFrame'>\n",
      "Int64Index: 3440 entries, 0 to 3439\n",
      "Data columns (total 39 columns):\n",
      "Season       3440 non-null object\n",
      "Age          3440 non-null float64\n",
      "Tm           3440 non-null object\n",
      "Lg           3440 non-null object\n",
      "Pos          3440 non-null object\n",
      "G            3440 non-null float64\n",
      "MP           3440 non-null float64\n",
      "PER          3439 non-null float64\n",
      "TS_Per       3435 non-null float64\n",
      "three_Per    3434 non-null float64\n",
      "FT_Per       3434 non-null float64\n",
      "ORB_Per      3439 non-null float64\n",
      "DRB_Per      3439 non-null float64\n",
      "TRB_Per      3439 non-null float64\n",
      "AST_Per      3439 non-null float64\n",
      "STL_Per      3439 non-null float64\n",
      "BLK_Per      3439 non-null float64\n",
      "TOV_Per      3436 non-null float64\n",
      "USG_Per      3439 non-null float64\n",
      "OWS          3440 non-null float64\n",
      "DWS          3440 non-null float64\n",
      "WS           3440 non-null float64\n",
      "WS48         3439 non-null float64\n",
      "OBPM         3440 non-null float64\n",
      "DBPM         3440 non-null float64\n",
      "BPM          3440 non-null float64\n",
      "VORP         3440 non-null float64\n",
      "TranFlag     3440 non-null object\n",
      "Name         3440 non-null object\n",
      "Salary       3440 non-null float64\n",
      "ORtg         3436 non-null float64\n",
      "DRtg         3439 non-null float64\n",
      "EFF          3440 non-null float64\n",
      "GmSc         3440 non-null float64\n",
      "Q1           3440 non-null float64\n",
      "Q2           3440 non-null float64\n",
      "Q3           3440 non-null float64\n",
      "Q4           3440 non-null float64\n",
      "Quartile     3440 non-null object\n",
      "dtypes: float64(32), object(7)\n",
      "memory usage: 1.0+ MB\n"
     ]
    }
   ],
   "source": [
    "df_Season_output = CalcQuartile(df_Season_Collect)\n",
    "df_Season_output.info()"
   ]
  },
  {
   "cell_type": "markdown",
   "metadata": {
    "collapsed": true
   },
   "source": [
    "###Read Player Playoffs CSV"
   ]
  },
  {
   "cell_type": "code",
   "execution_count": 11,
   "metadata": {
    "collapsed": false
   },
   "outputs": [
    {
     "name": "stdout",
     "output_type": "stream",
     "text": [
      "<class 'pandas.core.frame.DataFrame'>\n",
      "Int64Index: 1595 entries, 0 to 1594\n",
      "Data columns (total 34 columns):\n",
      "Season       1595 non-null object\n",
      "Age          1595 non-null int64\n",
      "Tm           1595 non-null object\n",
      "Lg           1595 non-null object\n",
      "Pos          1595 non-null object\n",
      "G            1595 non-null int64\n",
      "MP           1595 non-null int64\n",
      "PER          1593 non-null float64\n",
      "TS_Per       1570 non-null float64\n",
      "three_Per    1563 non-null float64\n",
      "FT_Per       1563 non-null float64\n",
      "ORB_Per      1593 non-null float64\n",
      "DRB_Per      1593 non-null float64\n",
      "TRB_Per      1593 non-null float64\n",
      "AST_Per      1593 non-null float64\n",
      "STL_Per      1593 non-null float64\n",
      "BLK_Per      1593 non-null float64\n",
      "TOV_Per      1572 non-null float64\n",
      "USG_Per      1593 non-null float64\n",
      "OWS          1595 non-null float64\n",
      "DWS          1595 non-null float64\n",
      "WS           1595 non-null float64\n",
      "WS48         1593 non-null float64\n",
      "OBPM         1595 non-null float64\n",
      "DBPM         1595 non-null float64\n",
      "BPM          1595 non-null float64\n",
      "VORP         1595 non-null float64\n",
      "TranFlag     1595 non-null object\n",
      "Name         1595 non-null object\n",
      "Salary       1595 non-null int64\n",
      "ORtg         1576 non-null float64\n",
      "DRtg         1593 non-null float64\n",
      "EFF          1595 non-null int64\n",
      "GmSc         1595 non-null float64\n",
      "dtypes: float64(23), int64(5), object(6)\n",
      "memory usage: 436.1+ KB\n"
     ]
    }
   ],
   "source": [
    "df_Playoffs_Collect = pd.read_csv('e:\\\\nba\\\\Playoffs_Collection_with_Name.csv', header=0)\n",
    "\n",
    "df_Playoffs_Collect.info()\n",
    "#df_Playoffs_Collect.describe()"
   ]
  },
  {
   "cell_type": "code",
   "execution_count": 12,
   "metadata": {
    "collapsed": false
   },
   "outputs": [
    {
     "name": "stdout",
     "output_type": "stream",
     "text": [
      "['1996-97' '1997-98' '1998-99' '1999-00' '2000-01' '2001-02' '2002-03'\n",
      " '2003-04' '2004-05' '2005-06' '2006-07' '2007-08' '2008-09' '2009-10'\n",
      " '2010-11' '2011-12' '2012-13' '2013-14' '2014-15']\n"
     ]
    }
   ],
   "source": [
    "year_list = df_Playoffs_Collect['Season'].unique()\n",
    "print year_list"
   ]
  },
  {
   "cell_type": "code",
   "execution_count": 13,
   "metadata": {
    "collapsed": false
   },
   "outputs": [
    {
     "data": {
      "text/html": [
       "<div style=\"max-height:1000px;max-width:1500px;overflow:auto;\">\n",
       "<table border=\"1\" class=\"dataframe\">\n",
       "  <thead>\n",
       "    <tr style=\"text-align: right;\">\n",
       "      <th></th>\n",
       "      <th>Season</th>\n",
       "      <th>Age</th>\n",
       "      <th>Tm</th>\n",
       "      <th>Lg</th>\n",
       "      <th>Pos</th>\n",
       "      <th>G</th>\n",
       "      <th>MP</th>\n",
       "      <th>PER</th>\n",
       "      <th>TS_Per</th>\n",
       "      <th>three_Per</th>\n",
       "      <th>...</th>\n",
       "      <th>Salary</th>\n",
       "      <th>ORtg</th>\n",
       "      <th>DRtg</th>\n",
       "      <th>EFF</th>\n",
       "      <th>GmSc</th>\n",
       "      <th>Q1</th>\n",
       "      <th>Q2</th>\n",
       "      <th>Q3</th>\n",
       "      <th>Q4</th>\n",
       "      <th>Quartile</th>\n",
       "    </tr>\n",
       "  </thead>\n",
       "  <tbody>\n",
       "  </tbody>\n",
       "</table>\n",
       "<p>0 rows × 39 columns</p>\n",
       "</div>"
      ],
      "text/plain": [
       "Empty DataFrame\n",
       "Columns: [Season, Age, Tm, Lg, Pos, G, MP, PER, TS_Per, three_Per, FT_Per, ORB_Per, DRB_Per, TRB_Per, AST_Per, STL_Per, BLK_Per, TOV_Per, USG_Per, OWS, DWS, WS, WS48, OBPM, DBPM, BPM, VORP, TranFlag, Name, Salary, ORtg, DRtg, EFF, GmSc, Q1, Q2, Q3, Q4, Quartile]\n",
       "Index: []\n",
       "\n",
       "[0 rows x 39 columns]"
      ]
     },
     "execution_count": 13,
     "metadata": {},
     "output_type": "execute_result"
    }
   ],
   "source": [
    "name_list = list(df_result.columns)\n",
    "df_Playoffs_output = pd.DataFrame(columns=name_list)\n",
    "df_Playoffs_output"
   ]
  },
  {
   "cell_type": "code",
   "execution_count": 14,
   "metadata": {
    "collapsed": false
   },
   "outputs": [
    {
     "name": "stdout",
     "output_type": "stream",
     "text": [
      "<class 'pandas.core.frame.DataFrame'>\n",
      "Int64Index: 1595 entries, 0 to 1594\n",
      "Data columns (total 39 columns):\n",
      "Season       1595 non-null object\n",
      "Age          1595 non-null float64\n",
      "Tm           1595 non-null object\n",
      "Lg           1595 non-null object\n",
      "Pos          1595 non-null object\n",
      "G            1595 non-null float64\n",
      "MP           1595 non-null float64\n",
      "PER          1593 non-null float64\n",
      "TS_Per       1570 non-null float64\n",
      "three_Per    1563 non-null float64\n",
      "FT_Per       1563 non-null float64\n",
      "ORB_Per      1593 non-null float64\n",
      "DRB_Per      1593 non-null float64\n",
      "TRB_Per      1593 non-null float64\n",
      "AST_Per      1593 non-null float64\n",
      "STL_Per      1593 non-null float64\n",
      "BLK_Per      1593 non-null float64\n",
      "TOV_Per      1572 non-null float64\n",
      "USG_Per      1593 non-null float64\n",
      "OWS          1595 non-null float64\n",
      "DWS          1595 non-null float64\n",
      "WS           1595 non-null float64\n",
      "WS48         1593 non-null float64\n",
      "OBPM         1595 non-null float64\n",
      "DBPM         1595 non-null float64\n",
      "BPM          1595 non-null float64\n",
      "VORP         1595 non-null float64\n",
      "TranFlag     1595 non-null object\n",
      "Name         1595 non-null object\n",
      "Salary       1595 non-null float64\n",
      "ORtg         1576 non-null float64\n",
      "DRtg         1593 non-null float64\n",
      "EFF          1595 non-null float64\n",
      "GmSc         1595 non-null float64\n",
      "Q1           1595 non-null float64\n",
      "Q2           1595 non-null float64\n",
      "Q3           1595 non-null float64\n",
      "Q4           1595 non-null float64\n",
      "Quartile     1595 non-null object\n",
      "dtypes: float64(32), object(7)\n",
      "memory usage: 498.4+ KB\n"
     ]
    }
   ],
   "source": [
    "df_Playoffs_output = CalcQuartile(df_Playoffs_Collect)\n",
    "df_Playoffs_output.info()"
   ]
  },
  {
   "cell_type": "markdown",
   "metadata": {},
   "source": [
    "###Output DataFrame to CSV"
   ]
  },
  {
   "cell_type": "code",
   "execution_count": 15,
   "metadata": {
    "collapsed": true
   },
   "outputs": [],
   "source": [
    "def Output_CSV(output_df,location):    \n",
    "    output_file = open(location, \"ab\")\n",
    "    output_df.to_csv(output_file,index=False)\n",
    "    output_file.close()"
   ]
  },
  {
   "cell_type": "code",
   "execution_count": 16,
   "metadata": {
    "collapsed": true
   },
   "outputs": [],
   "source": [
    "Season_location = \"e:\\\\nba\\\\Season_Quartile_with_Name.csv\"\n",
    "Playoffs_location = \"e:\\\\nba\\\\Playoffs_Quartile_with_Name.csv\"\n",
    "\n",
    "Output_CSV(df_Season_output,Season_location)\n",
    "Output_CSV(df_Playoffs_output,Playoffs_location)"
   ]
  },
  {
   "cell_type": "code",
   "execution_count": null,
   "metadata": {
    "collapsed": true
   },
   "outputs": [],
   "source": []
  }
 ],
 "metadata": {
  "kernelspec": {
   "display_name": "Python 2",
   "language": "python",
   "name": "python2"
  },
  "language_info": {
   "codemirror_mode": {
    "name": "ipython",
    "version": 2
   },
   "file_extension": ".py",
   "mimetype": "text/x-python",
   "name": "python",
   "nbconvert_exporter": "python",
   "pygments_lexer": "ipython2",
   "version": "2.7.7"
  }
 },
 "nbformat": 4,
 "nbformat_minor": 0
}

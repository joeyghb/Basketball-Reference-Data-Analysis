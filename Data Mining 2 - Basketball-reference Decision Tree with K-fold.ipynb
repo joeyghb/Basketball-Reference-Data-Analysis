{
 "cells": [
  {
   "cell_type": "markdown",
   "metadata": {},
   "source": [
    "#Basketball-reference Decision Tree with K-fold"
   ]
  },
  {
   "cell_type": "code",
   "execution_count": 1,
   "metadata": {
    "collapsed": false
   },
   "outputs": [],
   "source": [
    "import pandas as pd\n",
    "import numpy as np\n",
    "import matplotlib.pyplot as plt\n",
    "%matplotlib inline\n",
    "#import numpy as np\n",
    "#import pylab as pl\n",
    "#import csv \n",
    "from sklearn.svm              import SVC \n",
    "from sklearn.cross_validation import train_test_split \n",
    "from sklearn.cross_validation import ShuffleSplit \n",
    "from sklearn.cross_validation import cross_val_score\n",
    "from sklearn.cross_validation import KFold\n",
    "from collections              import defaultdict\n",
    "from pandas.stats.api         import ols\n",
    "from sklearn                  import preprocessing"
   ]
  },
  {
   "cell_type": "markdown",
   "metadata": {},
   "source": [
    "###Read Player Seaaon CSV"
   ]
  },
  {
   "cell_type": "code",
   "execution_count": 2,
   "metadata": {
    "collapsed": false
   },
   "outputs": [
    {
     "name": "stdout",
     "output_type": "stream",
     "text": [
      "<class 'pandas.core.frame.DataFrame'>\n",
      "Int64Index: 3440 entries, 0 to 3439\n",
      "Data columns (total 38 columns):\n",
      "Season       3440 non-null object\n",
      "Age          3440 non-null float64\n",
      "Tm           3440 non-null object\n",
      "Lg           3440 non-null object\n",
      "Pos          3440 non-null object\n",
      "G            3440 non-null float64\n",
      "MP           3440 non-null float64\n",
      "PER          3440 non-null float64\n",
      "TS_Per       3440 non-null float64\n",
      "Three_Per    3440 non-null float64\n",
      "FT_Per       3440 non-null float64\n",
      "ORB_Per      3440 non-null float64\n",
      "DRB_Per      3440 non-null float64\n",
      "TRB_Per      3440 non-null float64\n",
      "AST_Per      3440 non-null float64\n",
      "STL_Per      3440 non-null float64\n",
      "BLK_Per      3440 non-null float64\n",
      "TOV_Per      3440 non-null float64\n",
      "USG_Per      3440 non-null float64\n",
      "OWS          3440 non-null float64\n",
      "DWS          3440 non-null float64\n",
      "WS           3440 non-null float64\n",
      "WS48         3440 non-null float64\n",
      "OBPM         3440 non-null float64\n",
      "DBPM         3440 non-null float64\n",
      "BPM          3440 non-null float64\n",
      "VORP         3440 non-null float64\n",
      "TranFlag     3440 non-null object\n",
      "Salary       3440 non-null float64\n",
      "ORtg         3440 non-null float64\n",
      "DRtg         3440 non-null float64\n",
      "EFF          3440 non-null float64\n",
      "GmSc         3440 non-null float64\n",
      "Q1           3440 non-null float64\n",
      "Q2           3440 non-null float64\n",
      "Q3           3440 non-null float64\n",
      "Q4           3440 non-null float64\n",
      "Quartile     3440 non-null object\n",
      "dtypes: float64(32), object(6)\n",
      "memory usage: 1.0+ MB\n"
     ]
    }
   ],
   "source": [
    "df_Season = pd.read_csv('e:\\\\nba\\\\Season_Quartile.csv', header=0)\n",
    "df_Season.info()"
   ]
  },
  {
   "cell_type": "markdown",
   "metadata": {},
   "source": [
    "###Init Column"
   ]
  },
  {
   "cell_type": "code",
   "execution_count": 3,
   "metadata": {
    "collapsed": true
   },
   "outputs": [],
   "source": [
    "vars_list = ['Age','G','MP','EFF','GmSc','PER','ORtg','DRtg','AST_Per','STL_Per','BLK_Per',\n",
    "             'TOV_Per','TS_Per','FT_Per','Three_Per','ORB_Per','DRB_Per','TRB_Per','USG_Per']\n",
    "data   = df_Season[vars_list]\n",
    "target = df_Season['Quartile']"
   ]
  },
  {
   "cell_type": "markdown",
   "metadata": {},
   "source": [
    "###Normalization"
   ]
  },
  {
   "cell_type": "code",
   "execution_count": 4,
   "metadata": {
    "collapsed": false
   },
   "outputs": [
    {
     "data": {
      "text/html": [
       "<div style=\"max-height:1000px;max-width:1500px;overflow:auto;\">\n",
       "<table border=\"1\" class=\"dataframe\">\n",
       "  <thead>\n",
       "    <tr style=\"text-align: right;\">\n",
       "      <th></th>\n",
       "      <th>Age</th>\n",
       "      <th>G</th>\n",
       "      <th>MP</th>\n",
       "      <th>EFF</th>\n",
       "      <th>GmSc</th>\n",
       "      <th>PER</th>\n",
       "      <th>ORtg</th>\n",
       "      <th>DRtg</th>\n",
       "      <th>AST_Per</th>\n",
       "      <th>STL_Per</th>\n",
       "      <th>BLK_Per</th>\n",
       "      <th>TOV_Per</th>\n",
       "      <th>TS_Per</th>\n",
       "      <th>FT_Per</th>\n",
       "      <th>Three_Per</th>\n",
       "      <th>ORB_Per</th>\n",
       "      <th>DRB_Per</th>\n",
       "      <th>TRB_Per</th>\n",
       "      <th>USG_Per</th>\n",
       "    </tr>\n",
       "  </thead>\n",
       "  <tbody>\n",
       "    <tr>\n",
       "      <th>0</th>\n",
       "      <td> 0.047619</td>\n",
       "      <td> 0.975309</td>\n",
       "      <td> 0.674213</td>\n",
       "      <td> 0.472222</td>\n",
       "      <td> 0.439829</td>\n",
       "      <td> 0.537108</td>\n",
       "      <td> 0.477679</td>\n",
       "      <td> 0.899160</td>\n",
       "      <td> 0.189624</td>\n",
       "      <td> 0.182692</td>\n",
       "      <td> 0.252874</td>\n",
       "      <td> 0.121</td>\n",
       "      <td> 0.490602</td>\n",
       "      <td> 0.033833</td>\n",
       "      <td> 0.038</td>\n",
       "      <td> 0.158813</td>\n",
       "      <td> 0.251108</td>\n",
       "      <td> 0.356948</td>\n",
       "      <td> 0.384279</td>\n",
       "    </tr>\n",
       "    <tr>\n",
       "      <th>1</th>\n",
       "      <td> 0.142857</td>\n",
       "      <td> 0.876543</td>\n",
       "      <td> 0.794178</td>\n",
       "      <td> 0.472222</td>\n",
       "      <td> 0.527681</td>\n",
       "      <td> 0.529457</td>\n",
       "      <td> 0.450893</td>\n",
       "      <td> 0.966387</td>\n",
       "      <td> 0.339893</td>\n",
       "      <td> 0.144231</td>\n",
       "      <td> 0.120690</td>\n",
       "      <td> 0.160</td>\n",
       "      <td> 0.493421</td>\n",
       "      <td> 0.079167</td>\n",
       "      <td> 0.268</td>\n",
       "      <td> 0.064572</td>\n",
       "      <td> 0.113737</td>\n",
       "      <td> 0.155313</td>\n",
       "      <td> 0.567686</td>\n",
       "    </tr>\n",
       "    <tr>\n",
       "      <th>2</th>\n",
       "      <td> 0.000000</td>\n",
       "      <td> 0.864198</td>\n",
       "      <td> 0.324316</td>\n",
       "      <td> 0.250000</td>\n",
       "      <td> 0.273277</td>\n",
       "      <td> 0.526396</td>\n",
       "      <td> 0.450893</td>\n",
       "      <td> 0.882353</td>\n",
       "      <td> 0.246869</td>\n",
       "      <td> 0.221154</td>\n",
       "      <td> 0.091954</td>\n",
       "      <td> 0.185</td>\n",
       "      <td> 0.511278</td>\n",
       "      <td> 0.065500</td>\n",
       "      <td> 0.322</td>\n",
       "      <td> 0.085515</td>\n",
       "      <td> 0.128508</td>\n",
       "      <td> 0.185286</td>\n",
       "      <td> 0.539301</td>\n",
       "    </tr>\n",
       "    <tr>\n",
       "      <th>3</th>\n",
       "      <td> 0.190476</td>\n",
       "      <td> 0.975309</td>\n",
       "      <td> 0.270803</td>\n",
       "      <td> 0.166667</td>\n",
       "      <td> 0.200434</td>\n",
       "      <td> 0.500383</td>\n",
       "      <td> 0.437500</td>\n",
       "      <td> 0.890756</td>\n",
       "      <td> 0.359571</td>\n",
       "      <td> 0.221154</td>\n",
       "      <td> 0.022989</td>\n",
       "      <td> 0.184</td>\n",
       "      <td> 0.461466</td>\n",
       "      <td> 0.076333</td>\n",
       "      <td> 0.279</td>\n",
       "      <td> 0.054101</td>\n",
       "      <td> 0.129985</td>\n",
       "      <td> 0.163488</td>\n",
       "      <td> 0.410480</td>\n",
       "    </tr>\n",
       "    <tr>\n",
       "      <th>4</th>\n",
       "      <td> 0.142857</td>\n",
       "      <td> 1.000000</td>\n",
       "      <td> 0.744487</td>\n",
       "      <td> 0.416667</td>\n",
       "      <td> 0.420258</td>\n",
       "      <td> 0.527927</td>\n",
       "      <td> 0.486607</td>\n",
       "      <td> 0.924370</td>\n",
       "      <td> 0.248658</td>\n",
       "      <td> 0.153846</td>\n",
       "      <td> 0.017241</td>\n",
       "      <td> 0.128</td>\n",
       "      <td> 0.508459</td>\n",
       "      <td> 0.045667</td>\n",
       "      <td> 0.328</td>\n",
       "      <td> 0.082024</td>\n",
       "      <td> 0.162482</td>\n",
       "      <td> 0.215259</td>\n",
       "      <td> 0.467249</td>\n",
       "    </tr>\n",
       "  </tbody>\n",
       "</table>\n",
       "</div>"
      ],
      "text/plain": [
       "        Age         G        MP       EFF      GmSc       PER      ORtg  \\\n",
       "0  0.047619  0.975309  0.674213  0.472222  0.439829  0.537108  0.477679   \n",
       "1  0.142857  0.876543  0.794178  0.472222  0.527681  0.529457  0.450893   \n",
       "2  0.000000  0.864198  0.324316  0.250000  0.273277  0.526396  0.450893   \n",
       "3  0.190476  0.975309  0.270803  0.166667  0.200434  0.500383  0.437500   \n",
       "4  0.142857  1.000000  0.744487  0.416667  0.420258  0.527927  0.486607   \n",
       "\n",
       "       DRtg   AST_Per   STL_Per   BLK_Per  TOV_Per    TS_Per    FT_Per  \\\n",
       "0  0.899160  0.189624  0.182692  0.252874    0.121  0.490602  0.033833   \n",
       "1  0.966387  0.339893  0.144231  0.120690    0.160  0.493421  0.079167   \n",
       "2  0.882353  0.246869  0.221154  0.091954    0.185  0.511278  0.065500   \n",
       "3  0.890756  0.359571  0.221154  0.022989    0.184  0.461466  0.076333   \n",
       "4  0.924370  0.248658  0.153846  0.017241    0.128  0.508459  0.045667   \n",
       "\n",
       "   Three_Per   ORB_Per   DRB_Per   TRB_Per   USG_Per  \n",
       "0      0.038  0.158813  0.251108  0.356948  0.384279  \n",
       "1      0.268  0.064572  0.113737  0.155313  0.567686  \n",
       "2      0.322  0.085515  0.128508  0.185286  0.539301  \n",
       "3      0.279  0.054101  0.129985  0.163488  0.410480  \n",
       "4      0.328  0.082024  0.162482  0.215259  0.467249  "
      ]
     },
     "execution_count": 4,
     "metadata": {},
     "output_type": "execute_result"
    }
   ],
   "source": [
    "df_tmp = df_Season[vars_list] \n",
    "#df_tmp[:,'Salary'] = df_Season_Quartile['Salary']\n",
    "df_tmp.describe()\n",
    "\n",
    "df_Season_norm = (df_tmp - df_tmp.min()) / (df_tmp.max() - df_tmp.min())\n",
    "df_Season_norm.head(5)"
   ]
  },
  {
   "cell_type": "markdown",
   "metadata": {},
   "source": [
    "###Decision Tree"
   ]
  },
  {
   "cell_type": "code",
   "execution_count": 5,
   "metadata": {
    "collapsed": false
   },
   "outputs": [],
   "source": [
    "from sklearn import tree\n",
    "from sklearn.tree import DecisionTreeClassifier, export_graphviz\n",
    "from IPython.display import Image\n",
    "import StringIO, pydot\n",
    "\n",
    "data   = df_Season_norm[vars_list]\n",
    "target = df_Season['Quartile']\n",
    "\n",
    "clf = tree.DecisionTreeClassifier(criterion='entropy', max_depth=10,min_samples_leaf=3)\n",
    "clf = tree.DecisionTreeClassifier(random_state=99)\n",
    "clf = clf.fit(data,target)\n",
    "\n",
    "#dot_data = StringIO.StringIO()  \n",
    "#tree.export_graphviz(clf, out_file=dot_data,feature_names=vars_list)\n",
    "#graph = pydot.graph_from_dot_data(dot_data.getvalue())  \n",
    "#Image(graph.create_png()) "
   ]
  },
  {
   "cell_type": "code",
   "execution_count": 6,
   "metadata": {
    "collapsed": false
   },
   "outputs": [
    {
     "name": "stdout",
     "output_type": "stream",
     "text": [
      "['Q1' 'Q2' 'Q3' 'Q4']\n",
      "[Age       ] gini value:[0.122380]\n",
      "[G         ] gini value:[0.032521]\n",
      "[MP        ] gini value:[0.041949]\n",
      "[EFF       ] gini value:[0.046488]\n",
      "[GmSc      ] gini value:[0.159647]\n",
      "[PER       ] gini value:[0.051472]\n",
      "[ORtg      ] gini value:[0.042020]\n",
      "[DRtg      ] gini value:[0.034917]\n",
      "[AST_Per   ] gini value:[0.046383]\n",
      "[STL_Per   ] gini value:[0.038304]\n",
      "[BLK_Per   ] gini value:[0.040192]\n",
      "[TOV_Per   ] gini value:[0.050820]\n",
      "[TS_Per    ] gini value:[0.040723]\n",
      "[FT_Per    ] gini value:[0.052407]\n",
      "[Three_Per ] gini value:[0.042456]\n",
      "[ORB_Per   ] gini value:[0.042064]\n",
      "[DRB_Per   ] gini value:[0.031819]\n",
      "[TRB_Per   ] gini value:[0.027004]\n",
      "[USG_Per   ] gini value:[0.056432]\n"
     ]
    }
   ],
   "source": [
    "print clf.classes_ \n",
    "\n",
    "for i in xrange(len(clf.feature_importances_)):        \n",
    "    print \"[%-10s] gini value:[%f]\" % (vars_list[i],clf.feature_importances_[i])"
   ]
  },
  {
   "cell_type": "code",
   "execution_count": 7,
   "metadata": {
    "collapsed": false
   },
   "outputs": [
    {
     "data": {
      "image/png": "[encoded data removed]",
      "text/plain": [
       "<matplotlib.figure.Figure at 0x1f1b7cf8>"
      ]
     },
     "metadata": {},
     "output_type": "display_data"
    }
   ],
   "source": [
    "#plt.subplot2grid((2,3),(1,0), colspan=2)\n",
    "y_pos = np.arange(len(vars_list))\n",
    "performance = clf.feature_importances_\n",
    "error = np.random.rand(len(vars_list))\n",
    "plt.barh(y_pos, performance, align='center', alpha=0.5)\n",
    "plt.yticks(y_pos, vars_list)\n",
    "plt.xlabel('Feature ranking')\n",
    "plt.title('Feature importances')\n",
    "\n",
    "plt.show()"
   ]
  },
  {
   "cell_type": "markdown",
   "metadata": {},
   "source": [
    "###Feature selection using SelectFromModel"
   ]
  },
  {
   "cell_type": "code",
   "execution_count": 8,
   "metadata": {
    "collapsed": false
   },
   "outputs": [
    {
     "name": "stdout",
     "output_type": "stream",
     "text": [
      "[ True False False False  True False False False False False False False\n",
      " False False False False False False  True]\n"
     ]
    }
   ],
   "source": [
    "from sklearn.feature_selection import SelectFromModel\n",
    "\n",
    "model_selector = SelectFromModel(clf)\n",
    "result = model_selector.fit(data,target)\n",
    "result_list = result.get_support()\n",
    "\n",
    "print result_list\n",
    "#for i in xrange(len(result_list)):        \n",
    "#    print \"[%-10s] Ranking support:[%f]\" % (vars_list[i],result_list[i])"
   ]
  },
  {
   "cell_type": "code",
   "execution_count": 9,
   "metadata": {
    "collapsed": false
   },
   "outputs": [
    {
     "data": {
      "image/png": "[encoded data removed]",
      "text/plain": [
       "<matplotlib.figure.Figure at 0x1f4ae470>"
      ]
     },
     "metadata": {},
     "output_type": "display_data"
    }
   ],
   "source": [
    "y_pos = np.arange(len(vars_list))\n",
    "performance = result_list\n",
    "error = np.random.rand(len(vars_list))\n",
    "plt.barh(y_pos, performance, align='center', alpha=0.5)\n",
    "plt.yticks(y_pos, vars_list)\n",
    "plt.xlabel('Feature support')\n",
    "plt.title('Feature importances')\n",
    "\n",
    "plt.show()"
   ]
  },
  {
   "cell_type": "markdown",
   "metadata": {},
   "source": [
    "###Cross Validation Using K-fold"
   ]
  },
  {
   "cell_type": "code",
   "execution_count": 10,
   "metadata": {
    "collapsed": false
   },
   "outputs": [
    {
     "name": "stdout",
     "output_type": "stream",
     "text": [
      "training   data: [1, 11, 2, 12, 3, 13, 4, 14, 5, 15, 6, 16, 7, 17, 8, 18, 9, 19]\n",
      "validation data: [0, 10]\n",
      "training   data: [0, 10, 2, 12, 3, 13, 4, 14, 5, 15, 6, 16, 7, 17, 8, 18, 9, 19]\n",
      "validation data: [1, 11]\n",
      "training   data: [0, 10, 1, 11, 3, 13, 4, 14, 5, 15, 6, 16, 7, 17, 8, 18, 9, 19]\n",
      "validation data: [2, 12]\n",
      "training   data: [0, 10, 1, 11, 2, 12, 4, 14, 5, 15, 6, 16, 7, 17, 8, 18, 9, 19]\n",
      "validation data: [3, 13]\n",
      "training   data: [0, 10, 1, 11, 2, 12, 3, 13, 5, 15, 6, 16, 7, 17, 8, 18, 9, 19]\n",
      "validation data: [4, 14]\n",
      "training   data: [0, 10, 1, 11, 2, 12, 3, 13, 4, 14, 6, 16, 7, 17, 8, 18, 9, 19]\n",
      "validation data: [5, 15]\n",
      "training   data: [0, 10, 1, 11, 2, 12, 3, 13, 4, 14, 5, 15, 7, 17, 8, 18, 9, 19]\n",
      "validation data: [6, 16]\n",
      "training   data: [0, 10, 1, 11, 2, 12, 3, 13, 4, 14, 5, 15, 6, 16, 8, 18, 9, 19]\n",
      "validation data: [7, 17]\n",
      "training   data: [0, 10, 1, 11, 2, 12, 3, 13, 4, 14, 5, 15, 6, 16, 7, 17, 9, 19]\n",
      "validation data: [8, 18]\n",
      "training   data: [0, 10, 1, 11, 2, 12, 3, 13, 4, 14, 5, 15, 6, 16, 7, 17, 8, 18]\n",
      "validation data: [9, 19]\n"
     ]
    }
   ],
   "source": [
    "from random import shuffle\n",
    "def k_fold_cross_validation(items, k, randomize=False):\n",
    "\n",
    "    if randomize:\n",
    "        items = list(items)\n",
    "        shuffle(items)\n",
    "\n",
    "    slices = [items[i::k] for i in xrange(k)]\n",
    "\n",
    "    for i in xrange(k):\n",
    "        validation = slices[i]\n",
    "        training = [item\n",
    "                    for s in slices if s is not validation\n",
    "                    for item in s]\n",
    "        yield training, validation\n",
    "\n",
    "items = range(20)\n",
    "for training, validation in k_fold_cross_validation(items, 10):\n",
    "    print \"training   data: %s\\nvalidation data: %s\" % (training,validation)"
   ]
  },
  {
   "cell_type": "code",
   "execution_count": 11,
   "metadata": {
    "collapsed": false
   },
   "outputs": [
    {
     "name": "stdout",
     "output_type": "stream",
     "text": [
      "data_set   element : [10] \n",
      "traget_set element : [10] \n"
     ]
    }
   ],
   "source": [
    "data   = df_Season_norm[vars_list]\n",
    "target = df_Season['Quartile']\n",
    "\n",
    "data_subset  = []\n",
    "target_subet = []\n",
    "\n",
    "for cv_index, (data_train, data_test) in enumerate(k_fold_cross_validation(data, 10)):\n",
    "    #print \"Cross Validation Index: [%s]\" % (cv_index)    \n",
    "    data_subset.append(data_test)\n",
    "\n",
    "for cv_index, (target_train, target_test) in enumerate(k_fold_cross_validation(target, 10)):\n",
    "    target_subet.append(target_test)\n",
    "\n",
    "print \"data_set   element : [%d] \" % len(data_subset)\n",
    "print \"traget_set element : [%d] \" % len(target_subet)"
   ]
  },
  {
   "cell_type": "code",
   "execution_count": 12,
   "metadata": {
    "collapsed": false
   },
   "outputs": [
    {
     "name": "stdout",
     "output_type": "stream",
     "text": [
      "Cross Validation Index [0] \n",
      "['Q1' 'Q2' 'Q3' 'Q4']\n",
      "[ 0.13583829  0.06832722  0.07757776  0.13253874  0.05968565  0.06054376\n",
      "  0.04963839  0.01355857  0.02763352  0.02462467  0.03023565  0.02405223\n",
      "  0.03861128  0.08937095  0.02211357  0.02838436  0.03384246  0.03000738\n",
      "  0.05341555]\n",
      "Cross Validation Index [1] \n",
      "['Q1' 'Q2' 'Q3' 'Q4']\n",
      "[ 0.12114069  0.02778905  0.06737792  0.03725787  0.1420913   0.0343778\n",
      "  0.0495885   0.03230102  0.02820667  0.07631978  0.0615071   0.03999613\n",
      "  0.00921795  0.03978158  0.04244348  0.07047372  0.04390058  0.02539736\n",
      "  0.05083152]\n",
      "Cross Validation Index [2] \n",
      "['Q1' 'Q2' 'Q3' 'Q4']\n",
      "[ 0.0901452   0.02370952  0.07484739  0.01727696  0.16222758  0.02587856\n",
      "  0.04631104  0.04010855  0.0451236   0.04609162  0.03761866  0.05175524\n",
      "  0.04166595  0.07357576  0.09758903  0.03629406  0.00885998  0.02491922\n",
      "  0.05600209]\n",
      "Cross Validation Index [3] \n",
      "['Q1' 'Q2' 'Q3' 'Q4']\n",
      "[ 0.17571007  0.03950103  0.03147836  0.03991458  0.16714177  0.04496465\n",
      "  0.01929892  0.04161111  0.03585937  0.02548639  0.03711995  0.04043932\n",
      "  0.02763203  0.03668639  0.03364972  0.04216971  0.03618227  0.06549998\n",
      "  0.05965436]\n",
      "Cross Validation Index [4] \n",
      "['Q1' 'Q2' 'Q3' 'Q4']\n",
      "[ 0.12096309  0.02214725  0.09213335  0.04711503  0.15283517  0.05089539\n",
      "  0.01098637  0.04105897  0.06664357  0.05044837  0.00844587  0.05084626\n",
      "  0.03106998  0.07759007  0.02331838  0.05226217  0.02706232  0.0320231\n",
      "  0.04215529]\n",
      "Cross Validation Index [5] \n",
      "['Q1' 'Q2' 'Q3' 'Q4']\n",
      "[ 0.15192816  0.03504082  0.07424424  0.02234879  0.16438705  0.01009094\n",
      "  0.07564997  0.04914383  0.01034968  0.06513686  0.05670495  0.02754589\n",
      "  0.02090624  0.07133819  0.02110339  0.01106122  0.04752413  0.02162765\n",
      "  0.06386799]\n",
      "Cross Validation Index [6] \n",
      "['Q1' 'Q2' 'Q3' 'Q4']\n",
      "[ 0.13781076  0.04002912  0.06153614  0.02890554  0.17740199  0.02213367\n",
      "  0.0509675   0.03249582  0.03562709  0.03492252  0.05016994  0.03674106\n",
      "  0.02579355  0.10704915  0.03753853  0.02725746  0.00491765  0.02704331\n",
      "  0.06165921]\n",
      "Cross Validation Index [7] \n",
      "['Q1' 'Q2' 'Q3' 'Q4']\n",
      "[ 0.15446042  0.0237605   0.12220313  0.12483106  0.06730263  0.04165243\n",
      "  0.07672217  0.03931771  0.02566842  0.02164282  0.02643416  0.01975261\n",
      "  0.03864065  0.05781546  0.04712871  0.03526866  0.02588615  0.02772304\n",
      "  0.02378924]\n",
      "Cross Validation Index [8] \n",
      "['Q1' 'Q2' 'Q3' 'Q4']\n",
      "[ 0.16384371  0.02772462  0.04467825  0.17455564  0.07103171  0.00979499\n",
      "  0.02148956  0.06058419  0.05122731  0.04877924  0.06080958  0.01280137\n",
      "  0.03790739  0.05149816  0.03234342  0.0209477   0.02055297  0.02670185\n",
      "  0.06272834]\n",
      "Cross Validation Index [9] \n",
      "['Q1' 'Q2' 'Q3' 'Q4']\n",
      "[ 0.12863699  0.02710963  0.0310091   0.21049004  0.06496294  0.01944821\n",
      "  0.03931354  0.05343067  0.03304268  0.05963802  0.02881901  0.08914937\n",
      "  0.02967915  0.00842756  0.00691492  0.03173705  0.05889238  0.02447882\n",
      "  0.05481991]\n"
     ]
    }
   ],
   "source": [
    "clf_feature_gini_list = []\n",
    "\n",
    "clf = tree.DecisionTreeClassifier(criterion='entropy', max_depth=10,min_samples_leaf=3)\n",
    "clf = tree.DecisionTreeClassifier(random_state=99)\n",
    "\n",
    "for kfold_index in range(10):\n",
    "    print \"Cross Validation Index [%d] \" % (kfold_index)\n",
    "    clf.fit(data_subset[kfold_index],target_subet[kfold_index])\n",
    "    print clf.classes_\n",
    "    print clf.feature_importances_\n",
    "    \n",
    "    clf_feature_gini_list.append(clf.feature_importances_)\n",
    "    \n",
    "    #for i in xrange(len(clf.feature_importances_)):        \n",
    "    #    print \"[%-10s] gini value:[%f]\" % (vars_list[i],clf.feature_importances_[i])\n"
   ]
  },
  {
   "cell_type": "markdown",
   "metadata": {},
   "source": [
    "###Cross Validation 0"
   ]
  },
  {
   "cell_type": "code",
   "execution_count": 13,
   "metadata": {
    "collapsed": false
   },
   "outputs": [
    {
     "data": {
      "image/png": "[encoded data removed]",
      "text/plain": [
       "<matplotlib.figure.Figure at 0x1f44ba20>"
      ]
     },
     "metadata": {},
     "output_type": "display_data"
    }
   ],
   "source": [
    "#plt.subplot2grid((2,3),(1,0), colspan=2)\n",
    "y_pos = np.arange(len(vars_list))\n",
    "performance = clf_feature_gini_list[0]\n",
    "error = np.random.rand(len(vars_list))\n",
    "plt.barh(y_pos, performance, align='center', alpha=0.5)\n",
    "plt.yticks(y_pos, vars_list)\n",
    "plt.xlabel('Feature ranking')\n",
    "plt.title('Feature importances Cross Validation 0')\n",
    "\n",
    "plt.show()"
   ]
  },
  {
   "cell_type": "markdown",
   "metadata": {},
   "source": [
    "###Cross Validation 1"
   ]
  },
  {
   "cell_type": "code",
   "execution_count": 14,
   "metadata": {
    "collapsed": false
   },
   "outputs": [
    {
     "data": {
      "image/png": "[encoded data removed]",
      "text/plain": [
       "<matplotlib.figure.Figure at 0x1efe6e48>"
      ]
     },
     "metadata": {},
     "output_type": "display_data"
    }
   ],
   "source": [
    "y_pos = np.arange(len(vars_list))\n",
    "performance = clf_feature_gini_list[1]\n",
    "error = np.random.rand(len(vars_list))\n",
    "plt.barh(y_pos, performance, align='center', alpha=0.5)\n",
    "plt.yticks(y_pos, vars_list)\n",
    "plt.xlabel('Feature ranking')\n",
    "plt.title('Feature importances Cross Validation 1')\n",
    "\n",
    "plt.show()"
   ]
  },
  {
   "cell_type": "markdown",
   "metadata": {},
   "source": [
    "###Cross Validation 2"
   ]
  },
  {
   "cell_type": "code",
   "execution_count": 15,
   "metadata": {
    "collapsed": false
   },
   "outputs": [
    {
     "data": {
      "image/png": "[encoded data removed]",
      "text/plain": [
       "<matplotlib.figure.Figure at 0x1f600be0>"
      ]
     },
     "metadata": {},
     "output_type": "display_data"
    }
   ],
   "source": [
    "y_pos = np.arange(len(vars_list))\n",
    "performance = clf_feature_gini_list[2]\n",
    "error = np.random.rand(len(vars_list))\n",
    "plt.barh(y_pos, performance, align='center', alpha=0.5)\n",
    "plt.yticks(y_pos, vars_list)\n",
    "plt.xlabel('Feature ranking')\n",
    "plt.title('Feature importances Cross Validation 2')\n",
    "\n",
    "plt.show()"
   ]
  },
  {
   "cell_type": "markdown",
   "metadata": {},
   "source": [
    "###Cross Validation 3"
   ]
  },
  {
   "cell_type": "code",
   "execution_count": 16,
   "metadata": {
    "collapsed": false
   },
   "outputs": [
    {
     "data": {
      "image/png": "[encoded data removed]",
      "text/plain": [
       "<matplotlib.figure.Figure at 0x1f893a90>"
      ]
     },
     "metadata": {},
     "output_type": "display_data"
    }
   ],
   "source": [
    "y_pos = np.arange(len(vars_list))\n",
    "performance = clf_feature_gini_list[3]\n",
    "error = np.random.rand(len(vars_list))\n",
    "plt.barh(y_pos, performance, align='center', alpha=0.5)\n",
    "plt.yticks(y_pos, vars_list)\n",
    "plt.xlabel('Feature ranking')\n",
    "plt.title('Feature importances Cross Validation 3')\n",
    "\n",
    "plt.show()"
   ]
  },
  {
   "cell_type": "markdown",
   "metadata": {},
   "source": [
    "###Cross Validation 4"
   ]
  },
  {
   "cell_type": "code",
   "execution_count": 17,
   "metadata": {
    "collapsed": false
   },
   "outputs": [
    {
     "data": {
      "image/png": "[encoded data removed]",
      "text/plain": [
       "<matplotlib.figure.Figure at 0x1efb6dd8>"
      ]
     },
     "metadata": {},
     "output_type": "display_data"
    }
   ],
   "source": [
    "y_pos = np.arange(len(vars_list))\n",
    "performance = clf_feature_gini_list[4]\n",
    "error = np.random.rand(len(vars_list))\n",
    "plt.barh(y_pos, performance, align='center', alpha=0.5)\n",
    "plt.yticks(y_pos, vars_list)\n",
    "plt.xlabel('Feature ranking')\n",
    "plt.title('Feature importances Cross Validation 4')\n",
    "\n",
    "plt.show()"
   ]
  },
  {
   "cell_type": "markdown",
   "metadata": {},
   "source": [
    "###Cross Validation 5"
   ]
  },
  {
   "cell_type": "code",
   "execution_count": 18,
   "metadata": {
    "collapsed": false
   },
   "outputs": [
    {
     "data": {
      "image/png": "[encoded data removed]",
      "text/plain": [
       "<matplotlib.figure.Figure at 0x1f885d30>"
      ]
     },
     "metadata": {},
     "output_type": "display_data"
    }
   ],
   "source": [
    "y_pos = np.arange(len(vars_list))\n",
    "performance = clf_feature_gini_list[5]\n",
    "error = np.random.rand(len(vars_list))\n",
    "plt.barh(y_pos, performance, align='center', alpha=0.5)\n",
    "plt.yticks(y_pos, vars_list)\n",
    "plt.xlabel('Feature ranking')\n",
    "plt.title('Feature importances Cross Validation 5')\n",
    "\n",
    "plt.show()"
   ]
  },
  {
   "cell_type": "markdown",
   "metadata": {},
   "source": [
    "###Cross Validation 6"
   ]
  },
  {
   "cell_type": "code",
   "execution_count": 19,
   "metadata": {
    "collapsed": false
   },
   "outputs": [
    {
     "data": {
      "image/png": "[encoded data removed]",
      "text/plain": [
       "<matplotlib.figure.Figure at 0x1f5971d0>"
      ]
     },
     "metadata": {},
     "output_type": "display_data"
    }
   ],
   "source": [
    "y_pos = np.arange(len(vars_list))\n",
    "performance = clf_feature_gini_list[6]\n",
    "error = np.random.rand(len(vars_list))\n",
    "plt.barh(y_pos, performance, align='center', alpha=0.5)\n",
    "plt.yticks(y_pos, vars_list)\n",
    "plt.xlabel('Feature ranking')\n",
    "plt.title('Feature importances Cross Validation 6')\n",
    "\n",
    "plt.show()"
   ]
  },
  {
   "cell_type": "markdown",
   "metadata": {},
   "source": [
    "###Cross Validation 7"
   ]
  },
  {
   "cell_type": "code",
   "execution_count": 20,
   "metadata": {
    "collapsed": false
   },
   "outputs": [
    {
     "data": {
      "image/png": "[encoded data removed]",
      "text/plain": [
       "<matplotlib.figure.Figure at 0x1f748d30>"
      ]
     },
     "metadata": {},
     "output_type": "display_data"
    }
   ],
   "source": [
    "y_pos = np.arange(len(vars_list))\n",
    "performance = clf_feature_gini_list[7]\n",
    "error = np.random.rand(len(vars_list))\n",
    "plt.barh(y_pos, performance, align='center', alpha=0.5)\n",
    "plt.yticks(y_pos, vars_list)\n",
    "plt.xlabel('Feature ranking')\n",
    "plt.title('Feature importances Cross Validation 7')\n",
    "\n",
    "plt.show()"
   ]
  },
  {
   "cell_type": "markdown",
   "metadata": {},
   "source": [
    "###Cross Validation 8"
   ]
  },
  {
   "cell_type": "code",
   "execution_count": 21,
   "metadata": {
    "collapsed": false
   },
   "outputs": [
    {
     "data": {
      "image/png": "[encoded data removed]",
      "text/plain": [
       "<matplotlib.figure.Figure at 0x1f1f00f0>"
      ]
     },
     "metadata": {},
     "output_type": "display_data"
    }
   ],
   "source": [
    "y_pos = np.arange(len(vars_list))\n",
    "performance = clf_feature_gini_list[8]\n",
    "error = np.random.rand(len(vars_list))\n",
    "plt.barh(y_pos, performance, align='center', alpha=0.5)\n",
    "plt.yticks(y_pos, vars_list)\n",
    "plt.xlabel('Feature ranking')\n",
    "plt.title('Feature importances Cross Validation 8')\n",
    "\n",
    "plt.show()"
   ]
  },
  {
   "cell_type": "markdown",
   "metadata": {},
   "source": [
    "###Cross Validation 9"
   ]
  },
  {
   "cell_type": "code",
   "execution_count": 22,
   "metadata": {
    "collapsed": false
   },
   "outputs": [
    {
     "data": {
      "image/png": "[encoded data removed]",
      "text/plain": [
       "<matplotlib.figure.Figure at 0x1f6245c0>"
      ]
     },
     "metadata": {},
     "output_type": "display_data"
    }
   ],
   "source": [
    "y_pos = np.arange(len(vars_list))\n",
    "performance = clf_feature_gini_list[9]\n",
    "error = np.random.rand(len(vars_list))\n",
    "plt.barh(y_pos, performance, align='center', alpha=0.5)\n",
    "plt.yticks(y_pos, vars_list)\n",
    "plt.xlabel('Feature ranking')\n",
    "plt.title('Feature importances Cross Validation 9')\n",
    "\n",
    "plt.show()"
   ]
  },
  {
   "cell_type": "markdown",
   "metadata": {},
   "source": [
    "###Feature Selection Using RFE"
   ]
  },
  {
   "cell_type": "code",
   "execution_count": 23,
   "metadata": {
    "collapsed": false
   },
   "outputs": [
    {
     "data": {
      "text/plain": [
       "array([1, 3, 1, 1, 1, 1, 1, 1, 1, 1, 1, 1, 1, 1, 1, 2, 4, 5, 1])"
      ]
     },
     "execution_count": 23,
     "metadata": {},
     "output_type": "execute_result"
    }
   ],
   "source": [
    "from sklearn.cross_validation import StratifiedKFold\n",
    "from sklearn.feature_selection import RFE\n",
    "from sklearn.pipeline import Pipeline\n",
    "from sklearn.tree import DecisionTreeClassifier\n",
    "\n",
    "data   = df_Season_norm[vars_list]\n",
    "target = df_Season['Quartile']\n",
    "\n",
    "class DecisionTreeClassifierWithCoef(DecisionTreeClassifier):\n",
    "    def fit(self, *args, **kwargs):\n",
    "        super(DecisionTreeClassifierWithCoef, self).fit(*args, **kwargs)\n",
    "        self.coef_ = self.feature_importances_\n",
    "\n",
    "clf_coef = DecisionTreeClassifierWithCoef(criterion='entropy', max_depth=10,min_samples_leaf=3,random_state=99)\n",
    "\n",
    "#RFE = RFE(estimator=clf, step=1, cv=10,scoring='accuracy')\n",
    "#RFECV_selector = RFECV(DecisionTreeClassifier(), step=1, cv=10,scoring='accuracy')\n",
    "RFE = RFE(estimator=clf_coef, n_features_to_select=15, step=1)\n",
    "RFE = RFE.fit(data,target)\n",
    "\n",
    "RFE.ranking_\n",
    "#clf_f_selector = Pipeline([('feature_selection', RFECV_selector), ('tree', clf)])\n",
    "#clf_f_selector.fit(data,target)\n"
   ]
  },
  {
   "cell_type": "code",
   "execution_count": 24,
   "metadata": {
    "collapsed": false
   },
   "outputs": [
    {
     "name": "stdout",
     "output_type": "stream",
     "text": [
      "[Age       ] Ranking value:[1.000000]\n",
      "[G         ] Ranking value:[3.000000]\n",
      "[MP        ] Ranking value:[1.000000]\n",
      "[EFF       ] Ranking value:[1.000000]\n",
      "[GmSc      ] Ranking value:[1.000000]\n",
      "[PER       ] Ranking value:[1.000000]\n",
      "[ORtg      ] Ranking value:[1.000000]\n",
      "[DRtg      ] Ranking value:[1.000000]\n",
      "[AST_Per   ] Ranking value:[1.000000]\n",
      "[STL_Per   ] Ranking value:[1.000000]\n",
      "[BLK_Per   ] Ranking value:[1.000000]\n",
      "[TOV_Per   ] Ranking value:[1.000000]\n",
      "[TS_Per    ] Ranking value:[1.000000]\n",
      "[FT_Per    ] Ranking value:[1.000000]\n",
      "[Three_Per ] Ranking value:[1.000000]\n",
      "[ORB_Per   ] Ranking value:[2.000000]\n",
      "[DRB_Per   ] Ranking value:[4.000000]\n",
      "[TRB_Per   ] Ranking value:[5.000000]\n",
      "[USG_Per   ] Ranking value:[1.000000]\n"
     ]
    }
   ],
   "source": [
    "for i in xrange(len(RFE.ranking_)):        \n",
    "    print \"[%-10s] Ranking value:[%f]\" % (vars_list[i],RFE.ranking_[i])"
   ]
  },
  {
   "cell_type": "markdown",
   "metadata": {},
   "source": [
    "## Random permutations cross-validation a.k.a. Shuffle & Split"
   ]
  },
  {
   "cell_type": "markdown",
   "metadata": {},
   "source": [
    "* The ShuffleSplit iterator will generate a user defined number of independent train / test dataset splits. \n",
    "* Samples are first shuffled and then split into a pair of train and test sets.\n",
    "* It is possible to control the randomness for reproducibility of the results by explicitly seeding the random_state pseudo random number * generator."
   ]
  },
  {
   "cell_type": "code",
   "execution_count": 7,
   "metadata": {
    "collapsed": false
   },
   "outputs": [
    {
     "name": "stdout",
     "output_type": "stream",
     "text": [
      "# Cross Validation Iteration #0\n",
      "train score: 1.000, test score: 0.978\n",
      "\n",
      "# Cross Validation Iteration #1\n",
      "train score: 1.000, test score: 0.975\n",
      "\n",
      "# Cross Validation Iteration #2\n",
      "train score: 1.000, test score: 0.980\n",
      "\n",
      "# Cross Validation Iteration #3\n",
      "train score: 1.000, test score: 0.977\n",
      "\n",
      "# Cross Validation Iteration #4\n",
      "train score: 1.000, test score: 0.975\n",
      "\n"
     ]
    }
   ],
   "source": [
    "#CV\n",
    "cv = ShuffleSplit(n_samples, n_iter=times, test_size=testsize,random_state=0)\n",
    " \n",
    "for cv_index, (train, test) in enumerate(cv):\n",
    "   print(\"# Cross Validation Iteration #%d\" % cv_index)\n",
    " #  print(\"train indices: {0}...\".format(train[:10]))\n",
    " #  print(\"test indices: {0}...\".format(test[:10]))  \n",
    "    \n",
    "   svc = SVC(kernel=\"rbf\", C=C1, gamma=gamma1).fit(X[train], y[train])\n",
    "   print(\"train score: {0:.3f}, test score: {1:.3f}\\n\".format(\n",
    "       svc.score(X[train], y[train]), svc.score(X[test], y[test])))\n"
   ]
  },
  {
   "cell_type": "code",
   "execution_count": 19,
   "metadata": {
    "collapsed": false
   },
   "outputs": [],
   "source": []
  },
  {
   "cell_type": "code",
   "execution_count": null,
   "metadata": {
    "collapsed": false
   },
   "outputs": [],
   "source": []
  }
 ],
 "metadata": {
  "kernelspec": {
   "display_name": "Python 2",
   "language": "python",
   "name": "python2"
  },
  "language_info": {
   "codemirror_mode": {
    "name": "ipython",
    "version": 2
   },
   "file_extension": ".py",
   "mimetype": "text/x-python",
   "name": "python",
   "nbconvert_exporter": "python",
   "pygments_lexer": "ipython2",
   "version": "2.7.7"
  }
 },
 "nbformat": 4,
 "nbformat_minor": 0
}

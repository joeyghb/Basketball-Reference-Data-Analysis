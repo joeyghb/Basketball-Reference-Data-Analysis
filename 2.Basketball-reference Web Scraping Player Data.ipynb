{
 "metadata": {
  "name": "",
  "signature": "sha256:536f8290398fb51ee7312acbfbc2ae95aaae04e1737cc08fac055d8aa8e91921"
 },
 "nbformat": 3,
 "nbformat_minor": 0,
 "worksheets": [
  {
   "cells": [
    {
     "cell_type": "markdown",
     "metadata": {},
     "source": [
      "# Basketball-Reference Web Scraping Player Data"
     ]
    },
    {
     "cell_type": "code",
     "collapsed": false,
     "input": [
      "# special IPython command to prepare the notebook for matplotlib\n",
      "from collections import defaultdict\n",
      "\n",
      "import pandas as pd\n",
      "import matplotlib.pyplot as plt\n",
      "import requests\n",
      "import re\n",
      "import string\n",
      "from pattern import web"
     ],
     "language": "python",
     "metadata": {},
     "outputs": [],
     "prompt_number": 1
    },
    {
     "cell_type": "markdown",
     "metadata": {},
     "source": [
      "###Team Mapping"
     ]
    },
    {
     "cell_type": "code",
     "collapsed": false,
     "input": [
      "team_list = [\"Atlanta Hawks\",\"Boston Celtics\",\"Brooklyn Nets\",\"Charlotte Bobcats\",\"Chicago Bulls\",\"Charlotte Hornets\",\"Cleveland Cavaliers\",\"Dallas Mavericks\",\"Denver Nuggets\",\"Detroit Pistons\"\n",
      "             ,\"Golden State Warriors\",\"Houston Rockets\",\"Indiana Pacers\",\"Los Angeles Clippers\",\"Los Angeles Lakers\",\"Memphis Grizzlies\",\"Miami Heat\",\"Milwaukee Bucks\",\"Minnesota Timberwolves\",\"New Jersey Nets\"\n",
      "             ,\"New Orleans Hornets\",\"New Orleans/Oklahoma City Hornets\",\"New Orleans Pelicans\",\"New York Knicks\",\"Oklahoma City Thunder\",\"Orlando Magic\",\"Philadelphia 76ers\",\"Phoenix Suns\",\"Portland Trail Blazers\",\"Sacramento Kings\"\n",
      "             ,\"San Antonio Spurs\",\"Seattle SuperSonics\",\"Toronto Raptors\",\"Utah Jazz\",\"Washington Wizards\"]\n",
      "\n",
      "alias_list = [\"ATL\",\"BOS\",\"BRK\",\"CHA\",\"CHI\",\"CHO\",\"CLE\",\"DAL\",\"DEN\",\"DET\"\n",
      "              ,\"GSW\",\"HOU\",\"IND\",\"LAC\",\"LAL\",\"MEM\",\"MIA\",\"MIL\",\"MIN\",\"NJN\"\n",
      "              ,\"NOH\",\"NOK\",\"NOP\",\"NYK\",\"OKC\",\"ORL\",\"PHI\",\"PHO\",\"POR\",\"SAC\"\n",
      "              ,\"SAS\",\"SEA\",\"TOR\",\"UTA\",\"WAS\"]"
     ],
     "language": "python",
     "metadata": {},
     "outputs": [],
     "prompt_number": 2
    },
    {
     "cell_type": "markdown",
     "metadata": {},
     "source": [
      "## Read Player list"
     ]
    },
    {
     "cell_type": "code",
     "collapsed": false,
     "input": [
      "df_player = pd.read_csv('2014-15 NBA player_list.csv', header=0)\n",
      "\n",
      "df_player.info()\n",
      "#df_player.describe()\n"
     ],
     "language": "python",
     "metadata": {},
     "outputs": [
      {
       "output_type": "stream",
       "stream": "stdout",
       "text": [
        "<class 'pandas.core.frame.DataFrame'>\n",
        "Int64Index: 562 entries, 0 to 561\n",
        "Data columns (total 9 columns):\n",
        "Player        562 non-null object\n",
        "From          562 non-null int64\n",
        "To            562 non-null int64\n",
        "Pos           562 non-null object\n",
        "Ht            562 non-null object\n",
        "Wt            562 non-null int64\n",
        "Birth Date    562 non-null object\n",
        "College       461 non-null object\n",
        "link          562 non-null object\n",
        "dtypes: int64(3), object(6)"
       ]
      }
     ],
     "prompt_number": 3
    },
    {
     "cell_type": "markdown",
     "metadata": {},
     "source": [
      "#Fetch player information page"
     ]
    },
    {
     "cell_type": "code",
     "collapsed": false,
     "input": [
      "player_name = df_player['Player'][56]\n",
      "player_information_url = df_player['link'][56]\n",
      "\n",
      "print player_name\n",
      "print player_information_url\n",
      "\n",
      "#player_website_html = requests.get(player_information_url.values[0]).text\n",
      "#print player_website_html.decode"
     ],
     "language": "python",
     "metadata": {},
     "outputs": [
      {
       "output_type": "stream",
       "stream": "stdout",
       "text": [
        "Steve Blake\n",
        "http://www.basketball-reference.com/players/b/blakest01.html\n"
       ]
      }
     ],
     "prompt_number": 4
    },
    {
     "cell_type": "markdown",
     "metadata": {},
     "source": [
      "### Player page table"
     ]
    },
    {
     "cell_type": "code",
     "collapsed": false,
     "input": [
      "def get_player_html_tables(html):\n",
      "    \"\"\"Parse html and return html tables of basketball-reference player data.\"\"\"\n",
      "\n",
      "    dom = web.Element(html)\n",
      "    \n",
      "    #### 1. step: get all tables\n",
      "    #tbls = dom('table')\n",
      "    #### 2. step: get all tables we care about\n",
      "    tbls = dom.by_class('sortable')\n",
      "    return tbls\n",
      "\n",
      "def player_table_type(tbl):\n",
      "    ### Extract the player_table type\n",
      "    return tbl.id\n",
      "\n",
      "def player_information(player_information_url):\n",
      "    player_website_html = requests.get(player_information_url).text\n",
      "    #print player_website_html.decode\n",
      "    player_information_tables = get_player_html_tables(player_website_html)\n",
      "    \n",
      "    ### player_table to dict ####\n",
      "    player_table_by_type = {}\n",
      "    \n",
      "    for tbl in player_information_tables:\n",
      "        typ = player_table_type(tbl)\n",
      "        if typ not in player_table_by_type:\n",
      "            player_table_by_type[typ] = list()  # equivalent to []\n",
      "        player_table_by_type[typ].append(tbl)\n",
      "\n",
      "    # group the player_tables by type\n",
      "    player_tables_by_type = defaultdict(list)\n",
      "    \n",
      "    # defaultdicts have a default value that is inserted when a new key is accessed\n",
      "    for tbl in player_information_tables:\n",
      "        player_tables_by_type[player_table_type(tbl)].append(tbl)\n",
      "    #print player_tables_by_type\n",
      "    \n",
      "    # return player_information_tables,player_tables_by_type\n",
      "    return (player_information_tables,player_tables_by_type)\n",
      "\n",
      "### Function call ###\n",
      "(player_information_tables,player_tables_by_type) = player_information(player_information_url)\n",
      "\n",
      "print \"table length: %d\" %len(player_information_tables)\n",
      "for t in player_information_tables:\n",
      "    print t.attributes\n",
      "\n",
      "print \"=\" *80\n",
      "    \n",
      "print player_tables_by_type"
     ],
     "language": "python",
     "metadata": {},
     "outputs": [
      {
       "output_type": "stream",
       "stream": "stdout",
       "text": [
        "table length: 18\n",
        "{u'class': u'sortable  row_summable stats_table', u'id': u'totals'}\n",
        "{u'class': u'sortable  row_summable stats_table', u'id': u'per_game'}\n",
        "{u'class': u'sortable  row_summable stats_table', u'id': u'per_minute'}\n",
        "{u'class': u'sortable  row_summable stats_table', u'id': u'per_poss'}\n",
        "{u'class': u'sortable  row_summable stats_table', u'id': u'advanced'}\n",
        "{u'class': u'sortable  row_summable stats_table', u'id': u'shooting'}\n",
        "{u'class': u'sortable  row_summable stats_table', u'id': u'advanced_pbp'}\n",
        "{u'class': u'sortable  row_summable stats_table', u'id': u'playoffs_totals'}\n",
        "{u'class': u'sortable  row_summable stats_table', u'id': u'playoffs_per_game'}\n",
        "{u'class': u'sortable  row_summable stats_table', u'id': u'playoffs_per_minute'}\n",
        "{u'class': u'sortable  row_summable stats_table', u'id': u'playoffs_per_poss'}\n",
        "{u'class': u'sortable  row_summable stats_table', u'id': u'playoffs_advanced'}\n",
        "{u'class': u'sortable  row_summable stats_table', u'id': u'playoffs_shooting'}\n",
        "{u'class': u'sortable  row_summable stats_table', u'id': u'playoffs_advanced_pbp'}\n",
        "{u'class': u'sortable  stats_table suppress_all', u'id': u'sim_thru'}\n",
        "{u'class': u'sortable  stats_table suppress_all', u'id': u'sim_career'}\n",
        "{u'class': u'sortable  stats_table', u'id': u'college'}\n",
        "{u'class': u'sortable  stats_table', u'id': u'salaries'}\n",
        "================================================================================\n",
        "defaultdict(<type 'list'>, {u'playoffs_advanced': [Element(tag=u'table')], u'playoffs_per_poss': [Element(tag=u'table')], u'playoffs_shooting': [Element(tag=u'table')], u'college': [Element(tag=u'table')], u'per_poss': [Element(tag=u'table')], u'per_minute': [Element(tag=u'table')], u'playoffs_totals': [Element(tag=u'table')], u'salaries': [Element(tag=u'table')], u'totals': [Element(tag=u'table')], u'playoffs_advanced_pbp': [Element(tag=u'table')], u'playoffs_per_game': [Element(tag=u'table')], u'per_game': [Element(tag=u'table')], u'playoffs_per_minute': [Element(tag=u'table')], u'advanced_pbp': [Element(tag=u'table')], u'shooting': [Element(tag=u'table')], u'sim_career': [Element(tag=u'table')], u'advanced': [Element(tag=u'table')], u'sim_thru': [Element(tag=u'table')]})\n"
       ]
      }
     ],
     "prompt_number": 5
    },
    {
     "cell_type": "markdown",
     "metadata": {},
     "source": [
      "### Salary"
     ]
    },
    {
     "cell_type": "code",
     "collapsed": false,
     "input": [
      "def get_players_salaries(tables):\n",
      "    \"\"\"Extract Active players data for players from all tables and store it in dictionary.\"\"\"\n",
      "    salaries_dict={}\n",
      "    salaries_list=[] ### (Season,Team,Lg,Salary)\n",
      "    \n",
      "    # 1. step: try to extract data for a single table\n",
      "    for tbl in tables:\n",
      "        headers = tbl('tr')\n",
      "        #print headers\n",
      "        first_header = headers[0]\n",
      "        #print first_header\n",
      "        th_s = first_header('th')\n",
      "        #print th_s    \n",
      "        title = [val.content for val in th_s ]\n",
      "        #print title\n",
      "                \n",
      "        # 2. step: iterate over all tables, extract headings and actual data and combine data into single dict\n",
      "        rows = tbl('tr')[1:-1]\n",
      "        for row in rows:\n",
      "            \n",
      "            tds = row('td')\n",
      "            \n",
      "            ### if row content is null , set default string ###\n",
      "            f_content = (lambda x: \"\" if len(x) == 0 else x.content)\n",
      "            ### if row a_herf is null , set default string ###\n",
      "            f_ahref = (lambda x: \"\" if len(x) == 0 else x('a')[0].content)\n",
      "            \n",
      "            Season    = f_content(tds[0]) ; #print Season\n",
      "            Team      = f_ahref(tds[1])   ; #print Team\n",
      "            Tm        = alias_list[team_list.index(Team)] #print Tm\n",
      "            Lg        = f_ahref(tds[2]) ; #print Lg\n",
      "            Salary    = f_content(tds[3]) ; #print Salary\n",
      "\n",
      "            salaries_list=[Season,Team,Tm,Lg,Salary]\n",
      "            salaries_dict[Season]=salaries_list\n",
      "\n",
      "    return salaries_dict\n",
      "\n",
      "\n",
      "### Fucnction call ###\n",
      "salaries_dict=get_players_salaries(player_tables_by_type[u'salaries'])\n",
      "\n",
      "if len(salaries_dict) > 0:\n",
      "    #print salaries_dict\n",
      "    df_salaries = pd.DataFrame(salaries_dict.values())\n",
      "    df_salaries['name'] = player_name\n",
      "    df_salaries.columns=['Season','Team','TM','Lg','Salary','Name']    \n",
      "    print df_salaries.sort_index(by='Season')"
     ],
     "language": "python",
     "metadata": {},
     "outputs": [
      {
       "output_type": "stream",
       "stream": "stdout",
       "text": [
        "     Season                    Team   TM   Lg      Salary         Name\n",
        "0   2003-04      Washington Wizards  WAS  NBA    $366,931  Steve Blake\n",
        "6   2004-05      Washington Wizards  WAS  NBA    $620,046  Steve Blake\n",
        "8   2005-06  Portland Trail Blazers  POR  NBA  $1,000,000  Steve Blake\n",
        "2   2006-07          Denver Nuggets  DEN  NBA  $1,330,000  Steve Blake\n",
        "3   2007-08  Portland Trail Blazers  POR  NBA  $4,250,000  Steve Blake\n",
        "4   2008-09  Portland Trail Blazers  POR  NBA  $4,250,000  Steve Blake\n",
        "7   2009-10    Los Angeles Clippers  LAC  NBA  $4,930,000  Steve Blake\n",
        "10  2010-11      Los Angeles Lakers  LAL  NBA  $4,000,000  Steve Blake\n",
        "5   2011-12      Los Angeles Lakers  LAL  NBA  $4,000,000  Steve Blake\n",
        "9   2012-13      Los Angeles Lakers  LAL  NBA  $4,000,000  Steve Blake\n",
        "1   2013-14      Los Angeles Lakers  LAL  NBA  $4,000,000  Steve Blake\n"
       ]
      }
     ],
     "prompt_number": 6
    },
    {
     "cell_type": "markdown",
     "metadata": {},
     "source": [
      "### Season Totals"
     ]
    },
    {
     "cell_type": "code",
     "collapsed": false,
     "input": [
      "def get_players_totals(tables):\n",
      "    \"\"\"Extract Active players data for players from all tables and store it in dictionary.\"\"\"\n",
      "    \n",
      "    totals_dict={}\n",
      "    totals_list=[] \n",
      "    ### (Season,Age,Tm,Lg,Pos,G,GS,MP,FG,FGA,FG%,3P,\n",
      "    ###         3PA,3P%,2P,2PA,2P%,eFG%,FT,FTA,FT%,ORB,TRB,AST,STL,BLK,TOV,PF,PTS)\n",
      "    \n",
      "    # 1. step: try to extract data for a single table\n",
      "    for tbl in tables:\n",
      "        headers = tbl('tr')\n",
      "        #print headers\n",
      "        first_header = headers[0]\n",
      "        #print first_header\n",
      "        th_s = first_header('th')\n",
      "        #print th_s    \n",
      "        title = [val.content for val in th_s ]\n",
      "        #print title\n",
      "                \n",
      "        # 2. step: iterate over all tables, extract headings and actual data and combine data into single dict\n",
      "        rows = tbl('tr')[1:]\n",
      "        for row in rows:\n",
      "            \n",
      "            tds = row('td')\n",
      "            \n",
      "            if len(tds[0]('a')) > 0:\n",
      "                ### if row content is null , set default string ###\n",
      "                f_content = (lambda x: \"\" if len(x) == 0 else x.content)\n",
      "                ### if row a_herf is null , set default string ###\n",
      "                f_ahref = (lambda x: x.content if len(x('a')) == 0 else x('a')[0].content)\n",
      "            \n",
      "                Season       = f_ahref(tds[0])\n",
      "                Age          = f_content(tds[1])\n",
      "                Tm           = f_ahref(tds[2])\n",
      "                Lg           = f_ahref(tds[3])\n",
      "                Pos          = f_content(tds[4])\n",
      "                G            = f_content(tds[5])\n",
      "                GS           = f_content(tds[6])\n",
      "                MP           = f_content(tds[7])\n",
      "                FG           = f_content(tds[8])\n",
      "                FGA          = f_content(tds[9])\n",
      "                FG_Per       = f_content(tds[10])\n",
      "                three_P      = f_content(tds[11])\n",
      "                three_PA     = f_content(tds[12])\n",
      "                three_P_Per  = f_content(tds[13])\n",
      "                two_P        = f_content(tds[14])\n",
      "                two_PA       = f_content(tds[15])\n",
      "                two_P_Per    = f_content(tds[16])\n",
      "                eFG_Per      = f_content(tds[17])\n",
      "                FT           = f_content(tds[18])\n",
      "                FTA          = f_content(tds[19])\n",
      "                FT_Per       = f_content(tds[20])\n",
      "                ORB          = f_content(tds[21])\n",
      "                DRB          = f_content(tds[22])\n",
      "                TRB          = f_content(tds[23])\n",
      "                AST          = f_content(tds[24])\n",
      "                STL          = f_content(tds[25])\n",
      "                BLK          = f_content(tds[26])\n",
      "                TOV          = f_content(tds[27])\n",
      "                PF           = f_content(tds[28])\n",
      "                PTS          = f_content(tds[29])\n",
      "                Tran         = \"\"\n",
      "\n",
      "                totals_list=[Season,Age,Tm,Lg,Pos,G,GS,MP,FG,FGA,FG_Per,three_P,three_PA,\n",
      "                             three_P_Per,two_P,two_PA,two_P_Per,eFG_Per,FT,FTA,FT_Per,ORB,DRB,TRB,AST,STL,BLK,TOV,PF,PTS]\n",
      "\n",
      "                ### if Tm == TOT , current yeat had transactions ###\n",
      "                if Tm == \"TOT\":\n",
      "                    TranFlag = \"Y\"\n",
      "                else:\n",
      "                    TranFlag = \"N\"\n",
      "                \n",
      "                ### append TranFlag to totals_list ###\n",
      "                totals_list.append(TranFlag)\n",
      "                \n",
      "                ### set totals_dict key = Season , value = totals_list ###\n",
      "                if Season not in totals_dict:\n",
      "                    totals_dict[Season+Tm]=totals_list\n",
      "\n",
      "    return totals_dict\n",
      "\n",
      "### Season Game ###\n",
      "seasons_totals_dict = get_players_totals(player_tables_by_type[u'totals'])\n",
      "\n",
      "if len(seasons_totals_dict) > 0 :\n",
      "    #print seasons_totals_dict\n",
      "    df_seasons = pd.DataFrame(seasons_totals_dict.values())\n",
      "    df_seasons['name'] = player_name   \n",
      "    df_seasons.columns=['Season','Age','Tm','Lg','Pos','G','GS','MP','FG','FGA','FG_Per','three_P','three_PA',\n",
      "                        'three_P_Per','two_P','two_PA','two_P_Per','eFG_Per','FT','FTA','FT_Per','ORB','DRB',\n",
      "                        'TRB','AST','STL','BLK','TOV','PF','PTS','TranFlag','Name']\n",
      "    print df_seasons.sort_index(by='Season')"
     ],
     "language": "python",
     "metadata": {},
     "outputs": [
      {
       "output_type": "stream",
       "stream": "stdout",
       "text": [
        "     Season Age   Tm   Lg Pos   G  GS    MP   FG  FGA ...   DRB  TRB  AST STL  \\\n",
        "11  2003-04  23  WAS  NBA  PG  75  14  1392  157  407 ...    99  117  209  57   \n",
        "1   2004-05  24  WAS  NBA  PG  44   1   648   61  186 ...    53   71   69  13   \n",
        "8   2005-06  25  POR  NBA  PG  68  57  1781  206  470 ...   120  146  306  42   \n",
        "13  2006-07  26  TOT  NBA  PG  82  42  2225  209  509 ...   148  169  408  61   \n",
        "7   2006-07  26  DEN  NBA  PG  49  40  1642  164  380 ...   110  124  324  51   \n",
        "17  2006-07  26  MIL  NBA  PG  33   2   583   45  129 ...    38   45   84  10   \n",
        "6   2007-08  27  POR  NBA  PG  81  78  2424  261  640 ...   164  195  413  55   \n",
        "14  2008-09  28  POR  NBA  PG  69  69  2188  277  647 ...   145  173  348  69   \n",
        "3   2009-10  29  TOT  NBA  PG  80  38  2159  217  522 ...   166  187  380  58   \n",
        "2   2009-10  29  POR  NBA  PG  51  28  1397  143  355 ...   103  118  203  37   \n",
        "15  2009-10  29  LAC  NBA  PG  29  10   762   74  167 ...    63   69  177  21   \n",
        "0   2010-11  30  LAL  NBA  PG  79   0  1581  110  306 ...   137  156  170  40   \n",
        "9   2011-12  31  LAL  NBA  PG  53   5  1237  101  268 ...    76   85  175  39   \n",
        "16  2012-13  32  LAL  NBA  PG  45  13  1175  114  270 ...   111  132  173  34   \n",
        "4   2013-14  33  GSW  NBA  PG  28   1   607   45  120 ...    51   56  102  20   \n",
        "10  2013-14  33  LAL  NBA  PG  27  27   891   88  233 ...    95  103  205  34   \n",
        "12  2013-14  33  TOT  NBA  PG  55  28  1498  133  353 ...   146  159  307  54   \n",
        "5   2014-15  34  POR  NBA  PG  65   0  1281  100  264 ...   103  117  230  32   \n",
        "\n",
        "   BLK  TOV   PF  PTS TranFlag         Name  \n",
        "11   7  128  100  444        N  Steve Blake  \n",
        "1    0   39   47  191        N  Steve Blake  \n",
        "8    5   83  107  560        N  Steve Blake  \n",
        "13   8  129  121  528        Y  Steve Blake  \n",
        "7    5  101   72  408        N  Steve Blake  \n",
        "17   3   28   49  120        N  Steve Blake  \n",
        "6    4  113  133  692        N  Steve Blake  \n",
        "14   4  108  126  757        N  Steve Blake  \n",
        "3    6  128  123  586        Y  Steve Blake  \n",
        "2    2   65   84  388        N  Steve Blake  \n",
        "15   4   63   39  198        N  Steve Blake  \n",
        "0    3   73   99  319        N  Steve Blake  \n",
        "9    2   72   75  276        N  Steve Blake  \n",
        "16   6   62   83  327        N  Steve Blake  \n",
        "4    6   31   36  122        N  Steve Blake  \n",
        "10   2   71   49  256        N  Steve Blake  \n",
        "12   8  102   85  378        Y  Steve Blake  \n",
        "5    5   83  104  285        N  Steve Blake  \n",
        "\n",
        "[18 rows x 32 columns]\n"
       ]
      }
     ],
     "prompt_number": 9
    },
    {
     "cell_type": "markdown",
     "metadata": {},
     "source": [
      "### Playoffs Totals"
     ]
    },
    {
     "cell_type": "code",
     "collapsed": false,
     "input": [
      "playoffs_totals_dict = get_players_totals(player_tables_by_type[u'playoffs_totals'])\n",
      "if len(playoffs_totals_dict) > 0 :\n",
      "    #print playoffs_totals_dict\n",
      "    df_playoffs = pd.DataFrame(playoffs_totals_dict.values())\n",
      "    df_playoffs['name'] = player_name\n",
      "    df_playoffs.columns=['Season','Age','Tm','Lg','Pos','G','GS','MP','FG','FGA','FG_Per','three_P','three_PA',\n",
      "                        'three_P_Per','two_P','two_PA','two_P_Per','eFG_Per','FT','FTA','FT_Per','ORB','DRB',\n",
      "                        'TRB','AST','STL','BLK','TOV','PF','PTS','TranFlag','Name']\n",
      "    print df_playoffs.sort_index(by='Season')"
     ],
     "language": "python",
     "metadata": {},
     "outputs": [
      {
       "output_type": "stream",
       "stream": "stdout",
       "text": [
        "    Season Age   Tm   Lg Pos   G GS   MP  FG FGA ... DRB TRB AST STL BLK TOV  \\\n",
        "1  2004-05  24  WAS  NBA  PG   4  0   17   1   4 ...   3   3   2   0   0   1   \n",
        "3  2006-07  26  DEN  NBA  PG   5  5  180  14  31 ...  11  12  23   3   0  10   \n",
        "5  2008-09  28  POR  NBA  PG   6  6  231  22  45 ...  20  24  37   5   0   9   \n",
        "0  2010-11  30  LAL  NBA  PG   9  0  145   7  23 ...  13  14  20   5   0   5   \n",
        "4  2011-12  31  LAL  NBA  PG  12  0  306  26  62 ...  26  34  27   8   2  15   \n",
        "6  2012-13  32  LAL  NBA  PG   2  2   75  11  28 ...   8   8   5   4   3   4   \n",
        "2  2013-14  33  GSW  NBA  PG   6  0   45   4  12 ...   3   4   2   0   0   2   \n",
        "\n",
        "   PF PTS TranFlag         Name  \n",
        "1   3   2        N  Steve Blake  \n",
        "3   8  36        N  Steve Blake  \n",
        "5  11  59        N  Steve Blake  \n",
        "0   8  20        N  Steve Blake  \n",
        "4  21  75        N  Steve Blake  \n",
        "6   8  28        N  Steve Blake  \n",
        "2   2  11        N  Steve Blake  \n",
        "\n",
        "[7 rows x 32 columns]\n"
       ]
      }
     ],
     "prompt_number": 10
    },
    {
     "cell_type": "markdown",
     "metadata": {},
     "source": [
      "### Output Salary DataFrame"
     ]
    },
    {
     "cell_type": "code",
     "collapsed": false,
     "input": [
      "def Output_Salary(output_df):\n",
      "    output_file = open(\"e:\\\\nba\\\\Salary_extraction.csv\", \"ab\")\n",
      "    output_df.to_csv(output_file,index=False)\n",
      "    output_file.close()\n",
      "\n",
      "Output_Salary(df_salaries)"
     ],
     "language": "python",
     "metadata": {},
     "outputs": [],
     "prompt_number": 11
    },
    {
     "cell_type": "markdown",
     "metadata": {},
     "source": [
      "###Output Season Totals"
     ]
    },
    {
     "cell_type": "code",
     "collapsed": false,
     "input": [
      "def Output_Season(output_df):\n",
      "    output_file = open(\"e:\\\\nba\\\\Season_Totals.csv\", \"ab\")\n",
      "    output_df.to_csv(output_file,index=False)\n",
      "    output_file.close()\n",
      "\n",
      "Output_Season(df_seasons)"
     ],
     "language": "python",
     "metadata": {},
     "outputs": [],
     "prompt_number": 12
    },
    {
     "cell_type": "markdown",
     "metadata": {},
     "source": [
      "###Output Playoffs Totals"
     ]
    },
    {
     "cell_type": "code",
     "collapsed": false,
     "input": [
      "def Output_Playoffs(output_df):\n",
      "    output_file = open(\"e:\\\\nba\\\\Playoffs_Totals.csv\", \"ab\")\n",
      "    output_df.to_csv(output_file,index=False)\n",
      "    output_file.close()\n",
      "\n",
      "Output_Playoffs(df_playoffs)"
     ],
     "language": "python",
     "metadata": {},
     "outputs": [],
     "prompt_number": 13
    },
    {
     "cell_type": "markdown",
     "metadata": {},
     "source": [
      "###Player information"
     ]
    },
    {
     "cell_type": "code",
     "collapsed": false,
     "input": [
      "def All_player(player_name,player_information_url):\n",
      "    ### Information table ###\n",
      "    (player_information_tables,player_tables_by_type) = player_information(player_information_url)\n",
      "\n",
      "    ### Salary ###\n",
      "    salaries_dict=get_players_salaries(player_tables_by_type[u'salaries'])\n",
      "    \n",
      "    if len(salaries_dict) > 0:\n",
      "        #print salaries_dict\n",
      "        df_salaries = pd.DataFrame(salaries_dict.values())\n",
      "        df_salaries['name'] = player_name\n",
      "        df_salaries.columns=['Season','Team','Tm','Lg','Salary','Name']\n",
      "        Output_Salary(df_salaries.sort_index(by='Season'))\n",
      "    \n",
      "    ### Season Game Totals ###\n",
      "    seasons_totals_dict = get_players_totals(player_tables_by_type[u'totals'])\n",
      "    \n",
      "    if len(seasons_totals_dict) > 0 :    \n",
      "        df_seasons = pd.DataFrame(seasons_totals_dict.values())\n",
      "        df_seasons['name'] = player_name\n",
      "        df_seasons.columns=['Season','Age','Tm','Lg','Pos','G','GS','MP','FG','FGA','FG_Per','three_P','three_PA',\n",
      "                            'three_P_Per','two_P','two_PA','two_P_Per','eFG_Per','FT','FTA','FT_Per','ORB','DRB',\n",
      "                            'TRB','AST','STL','BLK','TOV','PF','PTS','TranFlag','Name']\n",
      "        Output_Season(df_seasons.sort_index(by='Season'))\n",
      "    \n",
      "    ### Playoffs Game Totals ###\n",
      "    playoffs_totals_dict = get_players_totals(player_tables_by_type[u'playoffs_totals'])\n",
      "    \n",
      "    if len(playoffs_totals_dict) > 0 :    \n",
      "        df_playoffs = pd.DataFrame(playoffs_totals_dict.values())\n",
      "        df_playoffs['name'] = player_name\n",
      "        df_playoffs.columns=['Season','Age','Tm','Lg','Pos','G','GS','MP','FG','FGA','FG_Per','three_P','three_PA',\n",
      "                            'three_P_Per','two_P','two_PA','two_P_Per','eFG_Per','FT','FTA','FT_Per','ORB','DRB',\n",
      "                            'TRB','AST','STL','BLK','TOV','PF','PTS','TranFlag','Name']\n",
      "        Output_Playoffs(df_playoffs.sort_index(by='Season'))\n",
      "\n",
      "### Name & Information URL ###\n",
      "player_list = df_player['Player'].values.tolist()\n",
      "#print len(player_list)\n",
      "\n",
      "player_link_list = df_player['link'].values.tolist()\n",
      "#print len(player_link_list)\n",
      "\n",
      "for player_name,player_information_url in zip(player_list, player_link_list):    \n",
      "    All_player(player_name,player_information_url)\n"
     ],
     "language": "python",
     "metadata": {},
     "outputs": [],
     "prompt_number": 15
    },
    {
     "cell_type": "code",
     "collapsed": false,
     "input": [],
     "language": "python",
     "metadata": {},
     "outputs": []
    }
   ],
   "metadata": {}
  }
 ]
}
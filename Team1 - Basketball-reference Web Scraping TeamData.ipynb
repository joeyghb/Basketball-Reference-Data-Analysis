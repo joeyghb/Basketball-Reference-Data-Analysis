{
 "cells": [
  {
   "cell_type": "markdown",
   "metadata": {},
   "source": [
    "## Basketball-Reference Web Scraping"
   ]
  },
  {
   "cell_type": "code",
   "execution_count": 1,
   "metadata": {
    "collapsed": false
   },
   "outputs": [],
   "source": [
    "# special IPython command to prepare the notebook for matplotlib\n",
    "from collections import defaultdict\n",
    "\n",
    "import pandas as pd\n",
    "import matplotlib.pyplot as plt\n",
    "import requests\n",
    "import re\n",
    "import string\n",
    "from pattern import web"
   ]
  },
  {
   "cell_type": "markdown",
   "metadata": {},
   "source": [
    "###Team Mapping"
   ]
  },
  {
   "cell_type": "code",
   "execution_count": 2,
   "metadata": {
    "collapsed": true
   },
   "outputs": [],
   "source": [
    "team_name_list = [\"Atlanta Hawks\",\"Boston Celtics\",\"Brooklyn Nets\",\"Charlotte Bobcats\",\"Chicago Bulls\",\"Charlotte Hornets\",\"Cleveland Cavaliers\",\"Dallas Mavericks\",\"Denver Nuggets\",\"Detroit Pistons\"\n",
    "             ,\"Golden State Warriors\",\"Houston Rockets\",\"Indiana Pacers\",\"Los Angeles Clippers\",\"Los Angeles Lakers\",\"Memphis Grizzlies\",\"Miami Heat\",\"Milwaukee Bucks\",\"Minnesota Timberwolves\",\"New Jersey Nets\"\n",
    "             ,\"New Orleans Hornets\",\"New Orleans/Oklahoma City Hornets\",\"New Orleans Pelicans\",\"New York Knicks\",\"Oklahoma City Thunder\",\"Orlando Magic\",\"Philadelphia 76ers\",\"Phoenix Suns\",\"Portland Trail Blazers\",\"Sacramento Kings\"\n",
    "             ,\"San Antonio Spurs\",\"Seattle SuperSonics\",\"Toronto Raptors\",\"Utah Jazz\",\"Washington Wizards\",\"League Average\"]\n",
    "\n",
    "alias_list = [\"ATL\",\"BOS\",\"BRK\",\"CHA\",\"CHI\",\"CHO\",\"CLE\",\"DAL\",\"DEN\",\"DET\"\n",
    "              ,\"GSW\",\"HOU\",\"IND\",\"LAC\",\"LAL\",\"MEM\",\"MIA\",\"MIL\",\"MIN\",\"NJN\"\n",
    "              ,\"NOH\",\"NOK\",\"NOP\",\"NYK\",\"OKC\",\"ORL\",\"PHI\",\"PHO\",\"POR\",\"SAC\"\n",
    "              ,\"SAS\",\"SEA\",\"TOR\",\"UTA\",\"WAS\",\"League\"]"
   ]
  },
  {
   "cell_type": "markdown",
   "metadata": {},
   "source": [
    "###Seaon"
   ]
  },
  {
   "cell_type": "code",
   "execution_count": 3,
   "metadata": {
    "collapsed": false
   },
   "outputs": [
    {
     "name": "stdout",
     "output_type": "stream",
     "text": [
      "[2010, 2011, 2012, 2013, 2014, 2015]\n",
      "2015\n"
     ]
    }
   ],
   "source": [
    "year_list = (range(2010, 2016))\n",
    "print year_list\n",
    "year = year_list[-1]\n",
    "print year"
   ]
  },
  {
   "cell_type": "markdown",
   "metadata": {},
   "source": [
    "## Fetching the basketball-reference"
   ]
  },
  {
   "cell_type": "code",
   "execution_count": 4,
   "metadata": {
    "collapsed": false
   },
   "outputs": [
    {
     "name": "stdout",
     "output_type": "stream",
     "text": [
      "http://www.basketball-reference.com/leagues/NBA_2015.html\n"
     ]
    }
   ],
   "source": [
    "#url = 'http://www.basketball-reference.com/playoffs/NBA_2014.html'\n",
    "\n",
    "def strYear(year):\n",
    "    url='http://www.basketball-reference.com/leagues/NBA_%d.html' % year\n",
    "    return url\n",
    "team_url = strYear(year)\n",
    "print team_url"
   ]
  },
  {
   "cell_type": "markdown",
   "metadata": {},
   "source": [
    "## Parsing html data"
   ]
  },
  {
   "cell_type": "code",
   "execution_count": 5,
   "metadata": {
    "collapsed": false
   },
   "outputs": [
    {
     "name": "stdout",
     "output_type": "stream",
     "text": [
      "table length: 7\n",
      "{u'data-mobile-leave-headers': u'1', u'data-freeze': u'1', u'class': u'sortable  no_highlight stats_table wide_table', u'id': u'E_standings'}\n",
      "{u'data-mobile-leave-headers': u'1', u'data-freeze': u'1', u'class': u'sortable  no_highlight stats_table wide_table', u'id': u'W_standings'}\n",
      "{u'class': u'sortable  stats_table', u'id': u'team'}\n",
      "{u'class': u'sortable  stats_table', u'id': u'opponent'}\n",
      "{u'class': u'sortable  stats_table', u'id': u'misc'}\n",
      "{u'class': u'sortable  stats_table', u'id': u'shooting'}\n",
      "{u'class': u'sortable  stats_table', u'id': u'shooting_opp'}\n",
      "================================================================================\n",
      "defaultdict(<type 'list'>, {u'shooting_opp': [Element(tag=u'table')], u'misc': [Element(tag=u'table')], u'E_standings': [Element(tag=u'table')], u'W_standings': [Element(tag=u'table')], u'team': [Element(tag=u'table')], u'shooting': [Element(tag=u'table')], u'opponent': [Element(tag=u'table')]})\n"
     ]
    }
   ],
   "source": [
    "def get_team_html_tables(html):\n",
    "    \"\"\"Parse html and return html tables of basketball-reference team data.\"\"\"\n",
    "\n",
    "    dom = web.Element(html)\n",
    "    \n",
    "    #### 1. step: get all tables\n",
    "    #tbls = dom('table')\n",
    "    #### 2. step: get all tables we care about\n",
    "    tbls = dom.by_class('sortable')\n",
    "    return tbls\n",
    "\n",
    "def team_table_type(tbl):\n",
    "    ### Extract the team_table type\n",
    "    return tbl.id\n",
    "\n",
    "def team_information(team_information_url):    \n",
    "    team_website_html = requests.get(team_information_url).text\n",
    "    #print team_website_html.decode\n",
    "    team_information_tables = get_team_html_tables(team_website_html)\n",
    "    #print team_information_tables\n",
    "    \n",
    "    ### team_table to dict ####\n",
    "    team_table_by_type = {}\n",
    "    \n",
    "    for tbl in team_information_tables:\n",
    "        typ = team_table_type(tbl)\n",
    "        if typ not in team_table_by_type:\n",
    "            team_table_by_type[typ] = list()  # equivalent to []\n",
    "        team_table_by_type[typ].append(tbl)\n",
    "\n",
    "    # group the team_tables by type\n",
    "    team_tables_by_type = defaultdict(list)\n",
    "    \n",
    "    # defaultdicts have a default value that is inserted when a new key is accessed\n",
    "    for tbl in team_information_tables:\n",
    "        team_tables_by_type[team_table_type(tbl)].append(tbl)\n",
    "    #print team_tables_by_type\n",
    "    \n",
    "    # return team_information_tables,team_tables_by_type    \n",
    "    return (team_information_tables,team_tables_by_type)\n",
    "\n",
    "### Function call ###\n",
    "(team_information_tables,team_tables_by_type) = team_information(team_url)\n",
    "print \"table length: %d\" %len(team_information_tables)\n",
    "for t in team_information_tables:\n",
    "    print t.attributes\n",
    "\n",
    "print \"=\" *80\n",
    "    \n",
    "print team_tables_by_type"
   ]
  },
  {
   "cell_type": "markdown",
   "metadata": {},
   "source": [
    "## Extracting data and filling it into a dictionary"
   ]
  },
  {
   "cell_type": "markdown",
   "metadata": {},
   "source": [
    "### Team Stats"
   ]
  },
  {
   "cell_type": "code",
   "execution_count": 6,
   "metadata": {
    "collapsed": false
   },
   "outputs": [
    {
     "name": "stdout",
     "output_type": "stream",
     "text": [
      "     tm_Tm tm_G  tm_MP tm_FG tm_FGA tm_FG_Per tm_three_P tm_three_PA  \\\n",
      "15  League   82  19840  3076   6852      .449        643        1838   \n",
      "\n",
      "   tm_three_P tm_twoP    ...     tm_DRB tm_TRB tm_AST tm_STL tm_BLK tm_TOV  \\\n",
      "15       .350    2433    ...       2657   3550   1807    634    393   1177   \n",
      "\n",
      "   tm_PF tm_PTS tm_PTSG     Season  \n",
      "15  1658   8201   100.0  2014-2015  \n",
      "\n",
      "[1 rows x 26 columns]\n",
      "========================================================================================================================\n",
      "   tm_Tm tm_G  tm_MP tm_FG tm_FGA tm_FG_Per tm_three_P tm_three_PA tm_three_P  \\\n",
      "0    MIL   82  19930  3083   6722      .459        545        1500       .363   \n",
      "1    GSW   82  19730  3410   7137      .478        883        2217       .398   \n",
      "2    MIN   82  19805  2986   6820      .438        406        1223       .332   \n",
      "3    TOR   82  19855  3108   6829      .455        726        2060       .352   \n",
      "4    ATL   82  19730  3121   6699      .466        818        2152       .380   \n",
      "5    BOS   82  19880  3193   7211      .443        660        2021       .327   \n",
      "6    DET   82  19830  3041   7038      .432        703        2043       .344   \n",
      "7    NYK   82  19855  2882   6726      .428        560        1614       .347   \n",
      "8    DEN   82  19880  3099   7158      .433        660        2032       .325   \n",
      "9    SAC   82  19855  3010   6617      .455        461        1350       .341   \n",
      "10   POR   82  19855  3175   7049      .450        807        2231       .362   \n",
      "11   ORL   82  19755  3076   6792      .453        554        1598       .347   \n",
      "12   MIA   82  19730  2885   6330      .456        556        1659       .335   \n",
      "13   CHI   82  19880  3001   6797      .442        645        1825       .353   \n",
      "14   SAS   82  19955  3208   6854      .468        677        1847       .367   \n",
      "16   UTA   82  19705  2900   6492      .447        610        1781       .343   \n",
      "17   CLE   82  19780  3089   6739      .458        826        2253       .367   \n",
      "18   CHO   82  19905  2913   6932      .420        498        1566       .318   \n",
      "19   HOU   82  19805  3032   6832      .444        933        2680       .348   \n",
      "20   WAS   82  19955  3139   6790      .462        497        1381       .360   \n",
      "21   LAL   82  19930  3054   7020      .435        532        1546       .344   \n",
      "22   PHI   82  19805  2765   6777      .408        692        2160       .320   \n",
      "23   PHO   82  19880  3178   7038      .452        698        2048       .341   \n",
      "24   MEM   82  19905  3097   6763      .458        423        1246       .339   \n",
      "25   LAC   82  19730  3228   6830      .473        827        2202       .376   \n",
      "26   DAL   82  19880  3255   7036      .463        732        2082       .352   \n",
      "27   OKC   82  19830  3184   7119      .447        632        1864       .339   \n",
      "28   BRK   82  19930  3069   6804      .451        541        1633       .331   \n",
      "29   IND   82  19855  2998   6824      .439        612        1740       .352   \n",
      "30   NOP   82  19780  3108   6795      .457        586        1583       .370   \n",
      "\n",
      "   tm_twoP    ...     tm_DRB tm_TRB tm_AST tm_STL tm_BLK tm_TOV tm_PF tm_PTS  \\\n",
      "0     2538    ...       2574   3450   1932    789    403   1373  1814   8023   \n",
      "1     2527    ...       2814   3667   2248    762    496   1185  1628   9016   \n",
      "2     2580    ...       2406   3355   1771    668    327   1231  1571   8016   \n",
      "3     2382    ...       2526   3407   1701    615    357   1057  1712   8527   \n",
      "4     2303    ...       2611   3326   2111    744    380   1167  1457   8409   \n",
      "5     2533    ...       2685   3595   2009    674    294   1133  1738   8312   \n",
      "6     2338    ...       2630   3681   1771    623    383   1099  1559   8077   \n",
      "7     2322    ...       2443   3310   1746    575    382   1206  1768   7535   \n",
      "8     2439    ...       2653   3665   1788    641    367   1166  1882   8320   \n",
      "9     2549    ...       2728   3623   1667    550    324   1333  1696   8310   \n",
      "10    2368    ...       2881   3760   1799    525    372   1117  1494   8429   \n",
      "11    2522    ...       2607   3429   1692    647    314   1221  1714   7847   \n",
      "12    2329    ...       2461   3208   1626    642    372   1214  1636   7764   \n",
      "13    2356    ...       2792   3751   1781    514    476   1145  1495   8265   \n",
      "14    2531    ...       2772   3578   2000    657    444   1146  1564   8461   \n",
      "16    2290    ...       2617   3605   1632    623    489   1256  1583   7801   \n",
      "17    2263    ...       2612   3523   1814    603    340   1171  1510   8457   \n",
      "18    2415    ...       2793   3613   1654    499    448    976  1494   7721   \n",
      "19    2099    ...       2624   3582   1820    777    407   1366  1803   8522   \n",
      "20    2642    ...       2801   3663   1969    601    378   1233  1707   8080   \n",
      "21    2522    ...       2647   3599   1715    578    366   1086  1741   8073   \n",
      "22    2073    ...       2536   3514   1683    789    487   1453  1778   7542   \n",
      "23    2480    ...       2643   3539   1659    700    385   1238  1744   8397   \n",
      "24    2674    ...       2634   3490   1777    700    347   1094  1567   8062   \n",
      "25    2401    ...       2711   3495   2031    640    409   1012  1749   8751   \n",
      "26    2523    ...       2608   3466   1846    663    371   1062  1644   8628   \n",
      "27    2552    ...       2844   3896   1681    598    454   1205  1829   8524   \n",
      "28    2528    ...       2627   3473   1716    576    340   1133  1579   8038   \n",
      "29    2386    ...       2822   3678   1757    505    375   1147  1742   7981   \n",
      "30    2522    ...       2621   3563   1806    553    510   1087  1530   8147   \n",
      "\n",
      "   tm_PTSG     Season  \n",
      "0     97.8  2014-2015  \n",
      "1    110.0  2014-2015  \n",
      "2     97.8  2014-2015  \n",
      "3    104.0  2014-2015  \n",
      "4    102.5  2014-2015  \n",
      "5    101.4  2014-2015  \n",
      "6     98.5  2014-2015  \n",
      "7     91.9  2014-2015  \n",
      "8    101.5  2014-2015  \n",
      "9    101.3  2014-2015  \n",
      "10   102.8  2014-2015  \n",
      "11    95.7  2014-2015  \n",
      "12    94.7  2014-2015  \n",
      "13   100.8  2014-2015  \n",
      "14   103.2  2014-2015  \n",
      "16    95.1  2014-2015  \n",
      "17   103.1  2014-2015  \n",
      "18    94.2  2014-2015  \n",
      "19   103.9  2014-2015  \n",
      "20    98.5  2014-2015  \n",
      "21    98.5  2014-2015  \n",
      "22    92.0  2014-2015  \n",
      "23   102.4  2014-2015  \n",
      "24    98.3  2014-2015  \n",
      "25   106.7  2014-2015  \n",
      "26   105.2  2014-2015  \n",
      "27   104.0  2014-2015  \n",
      "28    98.0  2014-2015  \n",
      "29    97.3  2014-2015  \n",
      "30    99.4  2014-2015  \n",
      "\n",
      "[30 rows x 26 columns]\n"
     ]
    }
   ],
   "source": [
    "def get_teamdata(tables):\n",
    "    \"\"\"Extract 2013-14 playoffs team data from Team Stats tables and store it in dictionary.\"\"\"\n",
    "    \n",
    "    ### result = defaultdict(dict) ###\n",
    "    team_list=[] ### (Rk,Team,G,MP,FG,FGA,FG%,3P,3PA,3P,2P,2PA,2P,FT,FTA,FT%,ORB,DRB,TRB,AST,STL,BLK,TOV,PF,PTS,PTS/G)\n",
    "    team_dict={}\n",
    "    \n",
    "    # 1. step: try to extract data for a single table\n",
    "    for tbl in tables:\n",
    "        headers = tbl('tr')\n",
    "        #print headers\n",
    "        first_header = headers[0]\n",
    "        #print first_header\n",
    "        th_s = first_header('th')\n",
    "        #print th_s    \n",
    "        title = [val.content for val in th_s ]\n",
    "        #print team_title\n",
    "        \n",
    "        # 2. step: iterate over all tables, extract headings and actual data and combine data into single dict\n",
    "        rows = tbl('tr')[1:]        \n",
    "        for row in rows:\n",
    "            \n",
    "            tds = row('td')\n",
    "            \n",
    "            ### if row content is null , set default string ###\n",
    "            f_content = (lambda x: \"\" if len(x) == 0 else x.content)\n",
    "            ### if row a_herf is null , set default string ###\n",
    "            f_ahref = (lambda x: x.content if len(x('a')) == 0 else x('a')[0].content)\n",
    "            \n",
    "            Rk           = f_content(tds[0])\n",
    "            Team         = f_ahref(tds[1])\n",
    "            Tm           = alias_list[team_name_list.index(Team)]        \n",
    "            G            = f_content(tds[2])\n",
    "            MP           = f_content(tds[3])\n",
    "            FG           = f_content(tds[4])\n",
    "            FGA          = f_content(tds[5])\n",
    "            FG_Per       = f_content(tds[6])\n",
    "            three_P      = f_content(tds[7])\n",
    "            three_PA     = f_content(tds[8])\n",
    "            three_P_Per  = f_content(tds[9])\n",
    "            two_P        = f_content(tds[10])\n",
    "            two_PA       = f_content(tds[11])\n",
    "            two_P_Per    = f_content(tds[12])\n",
    "            FT           = f_content(tds[13])\n",
    "            FTA          = f_content(tds[14])\n",
    "            FT_Per       = f_content(tds[15])\n",
    "            ORB          = f_content(tds[16])\n",
    "            DRB          = f_content(tds[17])\n",
    "            TRB          = f_content(tds[18])\n",
    "            AST          = f_content(tds[19])\n",
    "            STL          = f_content(tds[20])\n",
    "            BLK          = f_content(tds[21])\n",
    "            TOV          = f_content(tds[22])\n",
    "            PF           = f_content(tds[23])\n",
    "            PTS          = f_content(tds[24])\n",
    "            PTSG         = f_content(tds[25]) \n",
    "                     \n",
    "            ### set team_information to list ###\n",
    "            team_list=[Tm, G, MP, FG, FGA, FG_Per, three_P, three_PA, three_P_Per, two_P, two_PA, \n",
    "                       two_P_Per, FT, FTA, FT_Per, ORB, DRB, TRB, AST, STL, BLK, \n",
    "                       TOV, PF, PTS, PTSG]            \n",
    "               \n",
    "            ### team_dict add Key(Team)，value(team_list) ###\n",
    "            team_dict[Tm]=team_list\n",
    "                   \n",
    "    return team_dict\n",
    "\n",
    "### team stats table data ###\n",
    "team_stats_dict={}\n",
    "team_stats_dict = get_teamdata(team_tables_by_type[u'team'])\n",
    "\n",
    "if len(team_stats_dict) > 0:    \n",
    "    df_team_stats = pd.DataFrame(team_stats_dict.values())    \n",
    "    \n",
    "    Season = \"%d-%d\" % (year-1,year)\n",
    "    df_team_stats['Season'] = Season\n",
    "    df_team_stats.columns=['tm_Tm','tm_G','tm_MP','tm_FG','tm_FGA','tm_FG_Per','tm_three_P','tm_three_PA','tm_three_P','tm_twoP',\n",
    "                           'tm_twoPA','tm_twoP','tm_FT','tm_FTA','tm_FT_Per','tm_ORB','tm_DRB','tm_TRB','tm_AST','tm_STL',\n",
    "                           'tm_BLK','tm_TOV','tm_PF','tm_PTS','tm_PTSG','Season']\n",
    "    \n",
    "    ### df league ###\n",
    "    df_league_team_stats = df_team_stats.loc[df_team_stats['tm_Tm'] == \"League\"]\n",
    "    print df_league_team_stats\n",
    "    \n",
    "    print \"=\" * 120\n",
    "    \n",
    "    ### df team without row == league ###\n",
    "    df_team_stats = df_team_stats[df_team_stats['tm_Tm'] != \"League\"]\n",
    "    print df_team_stats\n",
    "\n"
   ]
  },
  {
   "cell_type": "markdown",
   "metadata": {},
   "source": [
    "### Opp"
   ]
  },
  {
   "cell_type": "code",
   "execution_count": 12,
   "metadata": {
    "collapsed": false
   },
   "outputs": [
    {
     "name": "stdout",
     "output_type": "stream",
     "text": [
      "    opp_Tm opp_G opp_MP opp_FG opp_FGA opp_FG_Per opp_three_P opp_three_PA  \\\n",
      "15  League    82  19840   3076    6852       .449         643         1838   \n",
      "\n",
      "   opp_three_P opp_twoP    ...     opp_DRB opp_TRB opp_AST opp_STL opp_BLK  \\\n",
      "15        .350     2433    ...        2657    3550    1807     634     393   \n",
      "\n",
      "   opp_TOV opp_PF opp_PTS opp_PTSG     Season  \n",
      "15    1177   1658    8201    100.0  2014-2015  \n",
      "\n",
      "[1 rows x 26 columns]\n",
      "========================================================================================================================\n",
      "   opp_Tm opp_G opp_MP opp_FG opp_FGA opp_FG_Per opp_three_P opp_three_PA  \\\n",
      "0     MIL    82  19930   2917    6681       .437         676         1974   \n",
      "1     GSW    82  19730   3031    7084       .428         592         1757   \n",
      "2     MIN    82  19805   3373    6933       .487         697         1897   \n",
      "3     MIA    82  19730   2960    6523       .454         666         1887   \n",
      "4     ATL    82  19730   2991    6815       .439         720         2112   \n",
      "5     BOS    82  19880   3125    6943       .450         607         1804   \n",
      "6     DET    82  19830   3106    6817       .456         635         1789   \n",
      "7     NYK    82  19855   3031    6592       .460         694         1825   \n",
      "8     DEN    82  19880   3164    6909       .458         631         1823   \n",
      "9     DAL    82  19880   3117    6930       .450         741         2034   \n",
      "10    POR    82  19855   3130    7123       .439         524         1552   \n",
      "11    OKC    82  19830   3085    7008       .440         681         1984   \n",
      "12    TOR    82  19855   3116    6787       .459         633         1828   \n",
      "13    CLE    82  19780   3121    6850       .456         634         1848   \n",
      "14    SAS    82  19955   3044    6861       .444         558         1550   \n",
      "16    UTA    82  19705   2935    6587       .446         604         1670   \n",
      "17    CHI    82  19880   3095    7109       .435         538         1605   \n",
      "18    CHO    82  19905   3020    6863       .440         649         1816   \n",
      "19    HOU    82  19805   3092    6983       .443         605         1881   \n",
      "20    WAS    82  19955   2965    6844       .433         657         1885   \n",
      "21    LAL    82  19930   3180    6817       .466         697         1921   \n",
      "22    PHI    82  19805   3045    6785       .449         658         1879   \n",
      "23    PHO    82  19880   3149    6972       .452         633         1798   \n",
      "24    MEM    82  19905   2954    6684       .442         663         1889   \n",
      "25    LAC    82  19730   2984    6745       .442         683         1959   \n",
      "26    SAC    82  19855   3238    7094       .456         718         2055   \n",
      "27    ORL    82  19755   3112    6720       .463         682         1853   \n",
      "28    BRK    82  19930   3150    6913       .456         696         1944   \n",
      "29    IND    82  19855   2949    6784       .435         591         1713   \n",
      "30    NOP    82  19780   3108    6814       .456         537         1605   \n",
      "\n",
      "   opp_three_P opp_twoP    ...     opp_DRB opp_TRB opp_AST opp_STL opp_BLK  \\\n",
      "0         .342     2241    ...        2576    3514    1831     708     392   \n",
      "1         .337     2439    ...        2690    3653    1718     680     293   \n",
      "2         .367     2676    ...        2619    3572    1933     686     449   \n",
      "3         .353     2294    ...        2467    3361    1748     646     359   \n",
      "4         .341     2271    ...        2631    3579    1931     604     404   \n",
      "5         .336     2518    ...        2772    3665    1798     583     431   \n",
      "6         .355     2471    ...        2740    3617    1949     572     391   \n",
      "7         .380     2337    ...        2669    3567    1783     659     353   \n",
      "8         .346     2533    ...        2798    3697    1894     611     504   \n",
      "9         .364     2376    ...        2778    3784    1830     602     314   \n",
      "10        .338     2606    ...        2754    3656    1669     655     297   \n",
      "11        .343     2404    ...        2587    3504    1815     642     377   \n",
      "12        .346     2483    ...        2559    3481    1870     567     413   \n",
      "13        .343     2487    ...        2487    3372    1974     642     368   \n",
      "14        .360     2486    ...        2643    3456    1699     648     362   \n",
      "16        .362     2331    ...        2406    3217    1594     674     382   \n",
      "17        .335     2557    ...        2598    3561    1657     614     443   \n",
      "18        .357     2371    ...        2890    3618    1815     502     440   \n",
      "19        .322     2487    ...        2621    3594    1752     726     437   \n",
      "20        .349     2308    ...        2599    3420    1634     655     350   \n",
      "21        .363     2483    ...        2797    3621    1966     611     396   \n",
      "22        .350     2387    ...        2853    3793    1942     779     454   \n",
      "23        .352     2516    ...        2766    3717    1734     651     337   \n",
      "24        .351     2291    ...        2616    3480    1652     604     424   \n",
      "25        .349     2301    ...        2649    3517    1904     548     245   \n",
      "26        .349     2520    ...        2479    3377    1912     712     508   \n",
      "27        .368     2430    ...        2739    3564    1921     635     441   \n",
      "28        .358     2454    ...        2699    3636    1944     643     372   \n",
      "29        .345     2358    ...        2704    3504    1633     617     386   \n",
      "30        .335     2571    ...        2537    3407    1700     555     475   \n",
      "\n",
      "   opp_TOV opp_PF opp_PTS opp_PTSG     Season  \n",
      "0     1425   1649    7988     97.4  2014-2015  \n",
      "1     1329   1541    8188     99.9  2014-2015  \n",
      "2     1243   1751    8737    106.5  2014-2015  \n",
      "3     1215   1715    7977     97.3  2014-2015  \n",
      "4     1317   1611    7964     97.1  2014-2015  \n",
      "5     1239   1545    8299    101.2  2014-2015  \n",
      "6     1146   1584    8159     99.5  2014-2015  \n",
      "7     1153   1564    8299    101.2  2014-2015  \n",
      "8     1177   1698    8611    105.0  2014-2015  \n",
      "9     1339   1816    8390    102.3  2014-2015  \n",
      "10     999   1534    8082     98.6  2014-2015  \n",
      "11    1118   1675    8345    101.8  2014-2015  \n",
      "12    1182   1668    8275    100.9  2014-2015  \n",
      "13    1092   1685    8090     98.7  2014-2015  \n",
      "14    1167   1613    7953     97.0  2014-2015  \n",
      "16    1076   1604    7783     94.9  2014-2015  \n",
      "17    1000   1736    8019     97.8  2014-2015  \n",
      "18    1033   1708    7981     97.3  2014-2015  \n",
      "19    1342   1730    8240    100.5  2014-2015  \n",
      "20    1145   1610    8021     97.8  2014-2015  \n",
      "21    1068   1589    8634    105.3  2014-2015  \n",
      "22    1374   1657    8278    101.0  2014-2015  \n",
      "23    1276   1664    8471    103.3  2014-2015  \n",
      "24    1257   1662    7796     95.1  2014-2015  \n",
      "25    1171   1766    8211    100.1  2014-2015  \n",
      "26    1059   1958    8614    105.0  2014-2015  \n",
      "27    1185   1467    8316    101.4  2014-2015  \n",
      "28    1137   1641    8274    100.9  2014-2015  \n",
      "29    1045   1754    7958     97.0  2014-2015  \n",
      "30    1003   1533    8082     98.6  2014-2015  \n",
      "\n",
      "[30 rows x 26 columns]\n"
     ]
    }
   ],
   "source": [
    "### team stats table data ###\n",
    "opp_stats_dict={}\n",
    "opp_stats_dict = get_teamdata(team_tables_by_type[u'opponent'])\n",
    "\n",
    "if len(opp_stats_dict) > 0:\n",
    "    df_opp_stats = pd.DataFrame(opp_stats_dict.values())\n",
    "    Season = \"%d-%d\" % (year-1,year)\n",
    "    df_opp_stats['Season'] = Season\n",
    "    df_opp_stats.columns=['opp_Tm','opp_G','opp_MP','opp_FG','opp_FGA','opp_FG_Per','opp_three_P','opp_three_PA','opp_three_P','opp_twoP',\n",
    "                       'opp_twoPA','opp_twoP','opp_FT','opp_FTA','opp_FT_Per','opp_ORB','opp_DRB','opp_TRB','opp_AST','opp_STL',\n",
    "                       'opp_BLK','opp_TOV','opp_PF','opp_PTS','opp_PTSG','Season']   \n",
    "\n",
    "    ### df league opp ###\n",
    "    df_league_opp_stats = df_opp_stats.loc[df_opp_stats['opp_Tm'] == \"League\"]\n",
    "    print df_league_opp_stats\n",
    "    \n",
    "    print \"=\" * 120\n",
    "    \n",
    "    ### df opp without row == league ###\n",
    "    df_opp_stats = df_opp_stats[df_opp_stats['opp_Tm'] != \"League\"]\n",
    "    print df_opp_stats"
   ]
  },
  {
   "cell_type": "markdown",
   "metadata": {
    "collapsed": false
   },
   "source": [
    "### Output Team stats"
   ]
  },
  {
   "cell_type": "code",
   "execution_count": 13,
   "metadata": {
    "collapsed": true
   },
   "outputs": [],
   "source": [
    "def Output_Team(output_df):\n",
    "    output_file = open(\"e:\\\\nba\\\\nba_team.csv\", \"ab\")\n",
    "    output_df.to_csv(output_file,index=False)\n",
    "    output_file.close()\n",
    "\n",
    "Output_Team(df_team_stats)"
   ]
  },
  {
   "cell_type": "markdown",
   "metadata": {},
   "source": [
    "### Output League Team stats"
   ]
  },
  {
   "cell_type": "code",
   "execution_count": 14,
   "metadata": {
    "collapsed": true
   },
   "outputs": [],
   "source": [
    "def Output_League(output_df):\n",
    "    output_file = open(\"e:\\\\nba\\\\nba_league_team.csv\", \"ab\")\n",
    "    output_df.to_csv(output_file,index=False)\n",
    "    output_file.close()\n",
    "\n",
    "Output_League(df_league_team_stats)"
   ]
  },
  {
   "cell_type": "markdown",
   "metadata": {},
   "source": [
    "### Output Opp stats"
   ]
  },
  {
   "cell_type": "code",
   "execution_count": 15,
   "metadata": {
    "collapsed": true
   },
   "outputs": [],
   "source": [
    "def Output_Opp(output_df):\n",
    "    output_file = open(\"e:\\\\nba\\\\nba_opp.csv\", \"ab\")\n",
    "    output_df.to_csv(output_file,index=False)\n",
    "    output_file.close()\n",
    "\n",
    "Output_Opp(df_opp_stats)"
   ]
  },
  {
   "cell_type": "markdown",
   "metadata": {},
   "source": [
    "### Output League Opp stats"
   ]
  },
  {
   "cell_type": "code",
   "execution_count": 16,
   "metadata": {
    "collapsed": true
   },
   "outputs": [],
   "source": [
    "def Output_League_Opp(output_df):\n",
    "    output_file = open(\"e:\\\\nba\\\\nba_league_opp.csv\", \"ab\")\n",
    "    output_df.to_csv(output_file,index=False)\n",
    "    output_file.close()\n",
    "\n",
    "Output_League_Opp(df_league_opp_stats)"
   ]
  },
  {
   "cell_type": "markdown",
   "metadata": {},
   "source": [
    "###Team information"
   ]
  },
  {
   "cell_type": "code",
   "execution_count": 17,
   "metadata": {
    "collapsed": false
   },
   "outputs": [],
   "source": [
    "def All_team(year,team_url):\n",
    "    ### Information table ###\n",
    "    (team_information_tables,team_tables_by_type) = team_information(team_url)\n",
    "\n",
    "    ###  team stats table ###\n",
    "    team_stats_dict=get_teamdata(team_tables_by_type[u'team'])\n",
    "    \n",
    "    if len(team_stats_dict) > 0:\n",
    "        df_team_stats = pd.DataFrame(team_stats_dict.values())\n",
    "        Season = \"%d-%d\" % (year-1,year)\n",
    "        df_team_stats['Season'] = Season\n",
    "        df_team_stats.columns=['tm_Tm','tm_G','tm_MP','tm_FG','tm_FGA','tm_FG_Per','tm_three_P','tm_three_PA','tm_three_P','tm_twoP',\n",
    "                           'tm_twoPA','tm_twoP','tm_FT','tm_FTA','tm_FT_Per','tm_ORB','tm_DRB','tm_TRB','tm_AST','tm_STL',\n",
    "                           'tm_BLK','tm_TOV','tm_PF','tm_PTS','tm_PTSG','Season']\n",
    "        df_league_team_stats =  df_team_stats.loc[df_team_stats['tm_Tm'] == \"League\"]\n",
    "        df_team_stats = df_team_stats[df_team_stats['tm_Tm'] != \"League\"]\n",
    "\n",
    "        Output_Team(df_team_stats)\n",
    "        Output_League(df_league_team_stats)\n",
    "    \n",
    "    ### opp stats table ###\n",
    "    opp_stats_dict=get_teamdata(team_tables_by_type[u'opponent'])\n",
    "    \n",
    "    if len(opp_stats_dict) > 0:\n",
    "        df_opp_stats = pd.DataFrame(opp_stats_dict.values())\n",
    "        Season = \"%d-%d\" % (year-1,year)\n",
    "        df_opp_stats['Season'] = Season\n",
    "        df_opp_stats.columns=['opp_Tm','opp_G','opp_MP','opp_FG','opp_FGA','opp_FG_Per','opp_three_P','opp_three_PA','opp_three_P','opp_twoP',\n",
    "                           'opp_twoPA','opp_twoP','opp_FT','opp_FTA','opp_FT_Per','opp_ORB','opp_DRB','opp_TRB','opp_AST','opp_STL',\n",
    "                           'opp_BLK','opp_TOV','opp_PF','opp_PTS','opp_PTSG','Season']\n",
    "        df_league_opp_stats =  df_opp_stats.loc[df_opp_stats['opp_Tm'] == \"League\"]\n",
    "        df_opp_stats = df_opp_stats[df_opp_stats['opp_Tm'] != \"League\"]\n",
    "\n",
    "        Output_Opp(df_opp_stats)\n",
    "        Output_League_Opp(df_league_opp_stats)\n",
    "\n",
    "### Function Call ###\n",
    "\n",
    "for year in year_list:\n",
    "    team_url = strYear(year)\n",
    "    #print year,team_url\n",
    "    All_team(year,team_url)"
   ]
  },
  {
   "cell_type": "code",
   "execution_count": null,
   "metadata": {
    "collapsed": true
   },
   "outputs": [],
   "source": []
  }
 ],
 "metadata": {
  "kernelspec": {
   "display_name": "Python 2",
   "language": "python",
   "name": "python2"
  },
  "language_info": {
   "codemirror_mode": {
    "name": "ipython",
    "version": 2
   },
   "file_extension": ".py",
   "mimetype": "text/x-python",
   "name": "python",
   "nbconvert_exporter": "python",
   "pygments_lexer": "ipython2",
   "version": "2.7.7"
  }
 },
 "nbformat": 4,
 "nbformat_minor": 0
}

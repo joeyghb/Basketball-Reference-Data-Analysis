{
 "cells": [
  {
   "cell_type": "markdown",
   "metadata": {},
   "source": [
    "#Basketball-reference Data GroupBy "
   ]
  },
  {
   "cell_type": "code",
   "execution_count": 1,
   "metadata": {
    "collapsed": false
   },
   "outputs": [],
   "source": [
    "# special IPython command to prepare the notebook for matplotlib\n",
    "from collections import defaultdict\n",
    "\n",
    "import pandas as pd\n",
    "import numpy as np\n",
    "import matplotlib.pyplot as plt\n",
    "%matplotlib inline\n",
    "import re\n",
    "\n"
   ]
  },
  {
   "cell_type": "markdown",
   "metadata": {},
   "source": [
    "### Read Player Season CSV"
   ]
  },
  {
   "cell_type": "code",
   "execution_count": 2,
   "metadata": {
    "collapsed": false
   },
   "outputs": [
    {
     "name": "stdout",
     "output_type": "stream",
     "text": [
      "<class 'pandas.core.frame.DataFrame'>\n",
      "Int64Index: 3440 entries, 0 to 3439\n",
      "Data columns (total 39 columns):\n",
      "Season       3440 non-null object\n",
      "Age          3440 non-null float64\n",
      "Tm           3440 non-null object\n",
      "Lg           3440 non-null object\n",
      "Pos          3440 non-null object\n",
      "G            3440 non-null float64\n",
      "MP           3440 non-null float64\n",
      "PER          3439 non-null float64\n",
      "TS_Per       3435 non-null float64\n",
      "three_Per    3434 non-null float64\n",
      "FT_Per       3434 non-null float64\n",
      "ORB_Per      3439 non-null float64\n",
      "DRB_Per      3439 non-null float64\n",
      "TRB_Per      3439 non-null float64\n",
      "AST_Per      3439 non-null float64\n",
      "STL_Per      3439 non-null float64\n",
      "BLK_Per      3439 non-null float64\n",
      "TOV_Per      3436 non-null float64\n",
      "USG_Per      3439 non-null float64\n",
      "OWS          3440 non-null float64\n",
      "DWS          3440 non-null float64\n",
      "WS           3440 non-null float64\n",
      "WS48         3439 non-null float64\n",
      "OBPM         3440 non-null float64\n",
      "DBPM         3440 non-null float64\n",
      "BPM          3440 non-null float64\n",
      "VORP         3440 non-null float64\n",
      "TranFlag     3440 non-null object\n",
      "Name         3440 non-null object\n",
      "Salary       3440 non-null float64\n",
      "ORtg         3436 non-null float64\n",
      "DRtg         3439 non-null float64\n",
      "EFF          3440 non-null float64\n",
      "GmSc         3440 non-null float64\n",
      "Q1           3440 non-null float64\n",
      "Q2           3440 non-null float64\n",
      "Q3           3440 non-null float64\n",
      "Q4           3440 non-null float64\n",
      "Quartile     3440 non-null object\n",
      "dtypes: float64(32), object(7)\n",
      "memory usage: 1.0+ MB\n"
     ]
    }
   ],
   "source": [
    "df_Season = pd.read_csv('e:\\\\nba\\\\Season_Quartile_with_Name.csv', header=0)\n",
    "\n",
    "df_Season.info()\n",
    "#df_Season.describe()"
   ]
  },
  {
   "cell_type": "markdown",
   "metadata": {},
   "source": [
    "###GroupBy"
   ]
  },
  {
   "cell_type": "code",
   "execution_count": 3,
   "metadata": {
    "collapsed": false
   },
   "outputs": [
    {
     "data": {
      "text/plain": [
       "536"
      ]
     },
     "execution_count": 3,
     "metadata": {},
     "output_type": "execute_result"
    }
   ],
   "source": [
    "Season_grouped = df_Season.groupby('Name')\n",
    "len(Season_grouped)"
   ]
  },
  {
   "cell_type": "code",
   "execution_count": 4,
   "metadata": {
    "collapsed": true
   },
   "outputs": [],
   "source": [
    "def compare(a,b):\n",
    "    if a > b:\n",
    "        return 1\n",
    "    elif a< b:\n",
    "        return -1\n",
    "    else:\n",
    "        return 0"
   ]
  },
  {
   "cell_type": "code",
   "execution_count": 5,
   "metadata": {
    "collapsed": false
   },
   "outputs": [],
   "source": [
    "def EFFcalc(length,df_tmp):\n",
    "    df_result = pd.DataFrame(columns=name_list)\n",
    "    #print \"length\",len(df_tmp)\n",
    "    \n",
    "    for i in xrange(length):\n",
    "        if i == 0:\n",
    "            curt = df_tmp.iloc[i].values.tolist()            \n",
    "            curt.append(0)            \n",
    "            df_result.loc[len(df_result)] = curt\n",
    "            #print len(df_result),df_result[['Season','Name']]\n",
    "            #print \"length\",len(df_result)\n",
    "        else:\n",
    "            curt = df_tmp.iloc[i].values.tolist()\n",
    "            last = df_tmp.iloc[i-1].values.tolist()\n",
    "            result = compare(curt[32],last[32])            \n",
    "            \n",
    "            curt.append(result)\n",
    "            #print \"curt in body\",curt\n",
    "            df_result.loc[len(df_result)] = curt\n",
    "        \n",
    "    #print df_result[['Season','Name']]\n",
    "    #print \"length\",len(df_result)\n",
    "    return df_result"
   ]
  },
  {
   "cell_type": "code",
   "execution_count": 6,
   "metadata": {
    "collapsed": false
   },
   "outputs": [],
   "source": [
    "def GroupDataCalc (df_grouped):\n",
    "    df_output = pd.DataFrame(columns=name_list)    \n",
    "    for Name,df_tmp in df_grouped:\n",
    "        if len(df_tmp) == 1:            \n",
    "            curt = df_tmp.iloc[0].values.tolist()\n",
    "            curt.append(0)        \n",
    "            df_output.loc[len(df_output)] = curt\n",
    "            #df_Season_output.append(df_tmp)\n",
    "        else:            \n",
    "            df_result = EFFcalc(len(df_tmp),df_tmp)\n",
    "            df_output = df_output.append(df_result)\n",
    "    return df_output\n"
   ]
  },
  {
   "cell_type": "code",
   "execution_count": 7,
   "metadata": {
    "collapsed": false
   },
   "outputs": [],
   "source": [
    "name_list = list(df_Season.columns)\n",
    "name_list.append('LastYearEFF')"
   ]
  },
  {
   "cell_type": "code",
   "execution_count": 8,
   "metadata": {
    "collapsed": false
   },
   "outputs": [
    {
     "name": "stdout",
     "output_type": "stream",
     "text": [
      "<class 'pandas.core.frame.DataFrame'>\n",
      "Int64Index: 3440 entries, 0 to 11\n",
      "Data columns (total 40 columns):\n",
      "Season         3440 non-null object\n",
      "Age            3440 non-null float64\n",
      "Tm             3440 non-null object\n",
      "Lg             3440 non-null object\n",
      "Pos            3440 non-null object\n",
      "G              3440 non-null float64\n",
      "MP             3440 non-null float64\n",
      "PER            3439 non-null float64\n",
      "TS_Per         3435 non-null float64\n",
      "three_Per      3434 non-null float64\n",
      "FT_Per         3434 non-null float64\n",
      "ORB_Per        3439 non-null float64\n",
      "DRB_Per        3439 non-null float64\n",
      "TRB_Per        3439 non-null float64\n",
      "AST_Per        3439 non-null float64\n",
      "STL_Per        3439 non-null float64\n",
      "BLK_Per        3439 non-null float64\n",
      "TOV_Per        3436 non-null float64\n",
      "USG_Per        3439 non-null float64\n",
      "OWS            3440 non-null float64\n",
      "DWS            3440 non-null float64\n",
      "WS             3440 non-null float64\n",
      "WS48           3439 non-null float64\n",
      "OBPM           3440 non-null float64\n",
      "DBPM           3440 non-null float64\n",
      "BPM            3440 non-null float64\n",
      "VORP           3440 non-null float64\n",
      "TranFlag       3440 non-null object\n",
      "Name           3440 non-null object\n",
      "Salary         3440 non-null float64\n",
      "ORtg           3436 non-null float64\n",
      "DRtg           3439 non-null float64\n",
      "EFF            3440 non-null float64\n",
      "GmSc           3440 non-null float64\n",
      "Q1             3440 non-null float64\n",
      "Q2             3440 non-null float64\n",
      "Q3             3440 non-null float64\n",
      "Q4             3440 non-null float64\n",
      "Quartile       3440 non-null object\n",
      "LastYearEFF    3440 non-null float64\n",
      "dtypes: float64(33), object(7)\n",
      "memory usage: 1.1+ MB\n"
     ]
    }
   ],
   "source": [
    "df_Season_result = GroupDataCalc(Season_grouped)\n",
    "df_Season_result.info()\n",
    "#df_Season_result.head(20)"
   ]
  },
  {
   "cell_type": "markdown",
   "metadata": {
    "collapsed": true
   },
   "source": [
    "###Read Player Playoffs CSV"
   ]
  },
  {
   "cell_type": "code",
   "execution_count": 9,
   "metadata": {
    "collapsed": false
   },
   "outputs": [
    {
     "name": "stdout",
     "output_type": "stream",
     "text": [
      "<class 'pandas.core.frame.DataFrame'>\n",
      "Int64Index: 1595 entries, 0 to 1594\n",
      "Data columns (total 39 columns):\n",
      "Season       1595 non-null object\n",
      "Age          1595 non-null float64\n",
      "Tm           1595 non-null object\n",
      "Lg           1595 non-null object\n",
      "Pos          1595 non-null object\n",
      "G            1595 non-null float64\n",
      "MP           1595 non-null float64\n",
      "PER          1593 non-null float64\n",
      "TS_Per       1570 non-null float64\n",
      "three_Per    1563 non-null float64\n",
      "FT_Per       1563 non-null float64\n",
      "ORB_Per      1593 non-null float64\n",
      "DRB_Per      1593 non-null float64\n",
      "TRB_Per      1593 non-null float64\n",
      "AST_Per      1593 non-null float64\n",
      "STL_Per      1593 non-null float64\n",
      "BLK_Per      1593 non-null float64\n",
      "TOV_Per      1572 non-null float64\n",
      "USG_Per      1593 non-null float64\n",
      "OWS          1595 non-null float64\n",
      "DWS          1595 non-null float64\n",
      "WS           1595 non-null float64\n",
      "WS48         1593 non-null float64\n",
      "OBPM         1595 non-null float64\n",
      "DBPM         1595 non-null float64\n",
      "BPM          1595 non-null float64\n",
      "VORP         1595 non-null float64\n",
      "TranFlag     1595 non-null object\n",
      "Name         1595 non-null object\n",
      "Salary       1595 non-null float64\n",
      "ORtg         1576 non-null float64\n",
      "DRtg         1593 non-null float64\n",
      "EFF          1595 non-null float64\n",
      "GmSc         1595 non-null float64\n",
      "Q1           1595 non-null float64\n",
      "Q2           1595 non-null float64\n",
      "Q3           1595 non-null float64\n",
      "Q4           1595 non-null float64\n",
      "Quartile     1595 non-null object\n",
      "dtypes: float64(32), object(7)\n",
      "memory usage: 498.4+ KB\n"
     ]
    }
   ],
   "source": [
    "df_Playoffs = pd.read_csv('e:\\\\nba\\\\Playoffs_Quartile_with_Name.csv', header=0)\n",
    "\n",
    "df_Playoffs.info()\n",
    "#df_Playoffs.describe()"
   ]
  },
  {
   "cell_type": "code",
   "execution_count": 10,
   "metadata": {
    "collapsed": false
   },
   "outputs": [
    {
     "data": {
      "text/plain": [
       "415"
      ]
     },
     "execution_count": 10,
     "metadata": {},
     "output_type": "execute_result"
    }
   ],
   "source": [
    "Playoffs_grouped = df_Playoffs.groupby('Name')\n",
    "len(Playoffs_grouped)"
   ]
  },
  {
   "cell_type": "code",
   "execution_count": 11,
   "metadata": {
    "collapsed": false
   },
   "outputs": [
    {
     "name": "stdout",
     "output_type": "stream",
     "text": [
      "<class 'pandas.core.frame.DataFrame'>\n",
      "Int64Index: 1595 entries, 0 to 4\n",
      "Data columns (total 40 columns):\n",
      "Season         1595 non-null object\n",
      "Age            1595 non-null float64\n",
      "Tm             1595 non-null object\n",
      "Lg             1595 non-null object\n",
      "Pos            1595 non-null object\n",
      "G              1595 non-null float64\n",
      "MP             1595 non-null float64\n",
      "PER            1593 non-null float64\n",
      "TS_Per         1570 non-null float64\n",
      "three_Per      1563 non-null float64\n",
      "FT_Per         1563 non-null float64\n",
      "ORB_Per        1593 non-null float64\n",
      "DRB_Per        1593 non-null float64\n",
      "TRB_Per        1593 non-null float64\n",
      "AST_Per        1593 non-null float64\n",
      "STL_Per        1593 non-null float64\n",
      "BLK_Per        1593 non-null float64\n",
      "TOV_Per        1572 non-null float64\n",
      "USG_Per        1593 non-null float64\n",
      "OWS            1595 non-null float64\n",
      "DWS            1595 non-null float64\n",
      "WS             1595 non-null float64\n",
      "WS48           1593 non-null float64\n",
      "OBPM           1595 non-null float64\n",
      "DBPM           1595 non-null float64\n",
      "BPM            1595 non-null float64\n",
      "VORP           1595 non-null float64\n",
      "TranFlag       1595 non-null object\n",
      "Name           1595 non-null object\n",
      "Salary         1595 non-null float64\n",
      "ORtg           1576 non-null float64\n",
      "DRtg           1593 non-null float64\n",
      "EFF            1595 non-null float64\n",
      "GmSc           1595 non-null float64\n",
      "Q1             1595 non-null float64\n",
      "Q2             1595 non-null float64\n",
      "Q3             1595 non-null float64\n",
      "Q4             1595 non-null float64\n",
      "Quartile       1595 non-null object\n",
      "LastYearEFF    1595 non-null float64\n",
      "dtypes: float64(33), object(7)\n",
      "memory usage: 510.9+ KB\n"
     ]
    }
   ],
   "source": [
    "df_Playoffs_result = GroupDataCalc(Playoffs_grouped)\n",
    "df_Playoffs_result.info()\n",
    "#f_Playoffs_result.head(20)"
   ]
  },
  {
   "cell_type": "markdown",
   "metadata": {},
   "source": [
    "###Feature Column to Weka"
   ]
  },
  {
   "cell_type": "code",
   "execution_count": 12,
   "metadata": {
    "collapsed": true
   },
   "outputs": [],
   "source": [
    "Feature_list = ['Age','G','MP','EFF','GmSc','PER','ORtg','DRtg','AST_Per','STL_Per','BLK_Per','TOV_Per','TS_Per',\n",
    "                'FT_Per','three_Per','ORB_Per','DRB_Per','TRB_Per','USG_Per','LastYearEFF','Quartile']"
   ]
  },
  {
   "cell_type": "code",
   "execution_count": 19,
   "metadata": {
    "collapsed": false
   },
   "outputs": [
    {
     "name": "stdout",
     "output_type": "stream",
     "text": [
      "<class 'pandas.core.frame.DataFrame'>\n",
      "Int64Index: 3440 entries, 0 to 11\n",
      "Data columns (total 21 columns):\n",
      "Age            3440 non-null float64\n",
      "G              3440 non-null float64\n",
      "MP             3440 non-null float64\n",
      "EFF            3440 non-null float64\n",
      "GmSc           3440 non-null float64\n",
      "PER            3439 non-null float64\n",
      "ORtg           3436 non-null float64\n",
      "DRtg           3439 non-null float64\n",
      "AST_Per        3439 non-null float64\n",
      "STL_Per        3439 non-null float64\n",
      "BLK_Per        3439 non-null float64\n",
      "TOV_Per        3436 non-null float64\n",
      "TS_Per         3435 non-null float64\n",
      "FT_Per         3434 non-null float64\n",
      "three_Per      3434 non-null float64\n",
      "ORB_Per        3439 non-null float64\n",
      "DRB_Per        3439 non-null float64\n",
      "TRB_Per        3439 non-null float64\n",
      "USG_Per        3439 non-null float64\n",
      "LastYearEFF    3440 non-null float64\n",
      "Quartile       3440 non-null object\n",
      "dtypes: float64(20), object(1)\n",
      "memory usage: 591.2+ KB\n"
     ]
    },
    {
     "data": {
      "text/html": [
       "<div style=\"max-height:1000px;max-width:1500px;overflow:auto;\">\n",
       "<table border=\"1\" class=\"dataframe\">\n",
       "  <thead>\n",
       "    <tr style=\"text-align: right;\">\n",
       "      <th></th>\n",
       "      <th>Age</th>\n",
       "      <th>G</th>\n",
       "      <th>MP</th>\n",
       "      <th>EFF</th>\n",
       "      <th>GmSc</th>\n",
       "      <th>PER</th>\n",
       "      <th>ORtg</th>\n",
       "      <th>DRtg</th>\n",
       "      <th>AST_Per</th>\n",
       "      <th>STL_Per</th>\n",
       "      <th>...</th>\n",
       "      <th>TOV_Per</th>\n",
       "      <th>TS_Per</th>\n",
       "      <th>FT_Per</th>\n",
       "      <th>three_Per</th>\n",
       "      <th>ORB_Per</th>\n",
       "      <th>DRB_Per</th>\n",
       "      <th>TRB_Per</th>\n",
       "      <th>USG_Per</th>\n",
       "      <th>LastYearEFF</th>\n",
       "      <th>Quartile</th>\n",
       "    </tr>\n",
       "  </thead>\n",
       "  <tbody>\n",
       "    <tr>\n",
       "      <th>0</th>\n",
       "      <td> 23</td>\n",
       "      <td> 56</td>\n",
       "      <td>  865</td>\n",
       "      <td> 6</td>\n",
       "      <td> 4.937500</td>\n",
       "      <td> 14.0</td>\n",
       "      <td> 102</td>\n",
       "      <td> 108</td>\n",
       "      <td> 20.5</td>\n",
       "      <td> 2.0</td>\n",
       "      <td>...</td>\n",
       "      <td> 13.2</td>\n",
       "      <td> 0.530</td>\n",
       "      <td> 0.212</td>\n",
       "      <td> 0.492</td>\n",
       "      <td> 1.5</td>\n",
       "      <td> 9.7</td>\n",
       "      <td> 5.6</td>\n",
       "      <td> 22.7</td>\n",
       "      <td> 0</td>\n",
       "      <td> Q1</td>\n",
       "    </tr>\n",
       "    <tr>\n",
       "      <th>1</th>\n",
       "      <td> 24</td>\n",
       "      <td> 50</td>\n",
       "      <td>  795</td>\n",
       "      <td> 5</td>\n",
       "      <td> 3.836000</td>\n",
       "      <td> 10.7</td>\n",
       "      <td>  95</td>\n",
       "      <td> 109</td>\n",
       "      <td> 22.7</td>\n",
       "      <td> 1.8</td>\n",
       "      <td>...</td>\n",
       "      <td> 13.0</td>\n",
       "      <td> 0.454</td>\n",
       "      <td> 0.253</td>\n",
       "      <td> 0.466</td>\n",
       "      <td> 2.3</td>\n",
       "      <td> 7.8</td>\n",
       "      <td> 5.0</td>\n",
       "      <td> 22.7</td>\n",
       "      <td>-1</td>\n",
       "      <td> Q1</td>\n",
       "    </tr>\n",
       "    <tr>\n",
       "      <th>2</th>\n",
       "      <td> 25</td>\n",
       "      <td> 44</td>\n",
       "      <td>  568</td>\n",
       "      <td> 4</td>\n",
       "      <td> 3.002273</td>\n",
       "      <td> 11.5</td>\n",
       "      <td> 100</td>\n",
       "      <td> 106</td>\n",
       "      <td> 23.9</td>\n",
       "      <td> 1.9</td>\n",
       "      <td>...</td>\n",
       "      <td> 14.5</td>\n",
       "      <td> 0.454</td>\n",
       "      <td> 0.201</td>\n",
       "      <td> 0.506</td>\n",
       "      <td> 2.6</td>\n",
       "      <td> 9.4</td>\n",
       "      <td> 6.0</td>\n",
       "      <td> 17.7</td>\n",
       "      <td>-1</td>\n",
       "      <td> Q1</td>\n",
       "    </tr>\n",
       "    <tr>\n",
       "      <th>3</th>\n",
       "      <td> 26</td>\n",
       "      <td> 57</td>\n",
       "      <td> 1278</td>\n",
       "      <td> 8</td>\n",
       "      <td> 5.942105</td>\n",
       "      <td> 12.4</td>\n",
       "      <td> 105</td>\n",
       "      <td> 107</td>\n",
       "      <td> 26.4</td>\n",
       "      <td> 1.3</td>\n",
       "      <td>...</td>\n",
       "      <td> 12.7</td>\n",
       "      <td> 0.501</td>\n",
       "      <td> 0.150</td>\n",
       "      <td> 0.484</td>\n",
       "      <td> 1.7</td>\n",
       "      <td> 8.2</td>\n",
       "      <td> 4.9</td>\n",
       "      <td> 18.0</td>\n",
       "      <td> 1</td>\n",
       "      <td> Q1</td>\n",
       "    </tr>\n",
       "    <tr>\n",
       "      <th>4</th>\n",
       "      <td> 28</td>\n",
       "      <td>  5</td>\n",
       "      <td>   44</td>\n",
       "      <td> 0</td>\n",
       "      <td>-0.100000</td>\n",
       "      <td> -1.6</td>\n",
       "      <td>  64</td>\n",
       "      <td> 113</td>\n",
       "      <td> 18.7</td>\n",
       "      <td> 0.0</td>\n",
       "      <td>...</td>\n",
       "      <td>  6.7</td>\n",
       "      <td> 0.214</td>\n",
       "      <td> 0.000</td>\n",
       "      <td> 0.500</td>\n",
       "      <td> 0.0</td>\n",
       "      <td> 7.5</td>\n",
       "      <td> 3.7</td>\n",
       "      <td> 15.0</td>\n",
       "      <td>-1</td>\n",
       "      <td> Q1</td>\n",
       "    </tr>\n",
       "  </tbody>\n",
       "</table>\n",
       "<p>5 rows × 21 columns</p>\n",
       "</div>"
      ],
      "text/plain": [
       "   Age   G    MP  EFF      GmSc   PER  ORtg  DRtg  AST_Per  STL_Per    ...     \\\n",
       "0   23  56   865    6  4.937500  14.0   102   108     20.5      2.0    ...      \n",
       "1   24  50   795    5  3.836000  10.7    95   109     22.7      1.8    ...      \n",
       "2   25  44   568    4  3.002273  11.5   100   106     23.9      1.9    ...      \n",
       "3   26  57  1278    8  5.942105  12.4   105   107     26.4      1.3    ...      \n",
       "4   28   5    44    0 -0.100000  -1.6    64   113     18.7      0.0    ...      \n",
       "\n",
       "   TOV_Per  TS_Per  FT_Per  three_Per  ORB_Per  DRB_Per  TRB_Per  USG_Per  \\\n",
       "0     13.2   0.530   0.212      0.492      1.5      9.7      5.6     22.7   \n",
       "1     13.0   0.454   0.253      0.466      2.3      7.8      5.0     22.7   \n",
       "2     14.5   0.454   0.201      0.506      2.6      9.4      6.0     17.7   \n",
       "3     12.7   0.501   0.150      0.484      1.7      8.2      4.9     18.0   \n",
       "4      6.7   0.214   0.000      0.500      0.0      7.5      3.7     15.0   \n",
       "\n",
       "   LastYearEFF  Quartile  \n",
       "0            0        Q1  \n",
       "1           -1        Q1  \n",
       "2           -1        Q1  \n",
       "3            1        Q1  \n",
       "4           -1        Q1  \n",
       "\n",
       "[5 rows x 21 columns]"
      ]
     },
     "execution_count": 19,
     "metadata": {},
     "output_type": "execute_result"
    }
   ],
   "source": [
    "#df_Season_output = df_Season_result[Feature_list]\n",
    "df_Season_output.fillna(0)\n",
    "df_Season_output.info()\n",
    "df_Season_output.head(5)"
   ]
  },
  {
   "cell_type": "code",
   "execution_count": 20,
   "metadata": {
    "collapsed": false
   },
   "outputs": [
    {
     "name": "stdout",
     "output_type": "stream",
     "text": [
      "<class 'pandas.core.frame.DataFrame'>\n",
      "Int64Index: 1595 entries, 0 to 4\n",
      "Data columns (total 21 columns):\n",
      "Age            1595 non-null float64\n",
      "G              1595 non-null float64\n",
      "MP             1595 non-null float64\n",
      "EFF            1595 non-null float64\n",
      "GmSc           1595 non-null float64\n",
      "PER            1593 non-null float64\n",
      "ORtg           1576 non-null float64\n",
      "DRtg           1593 non-null float64\n",
      "AST_Per        1593 non-null float64\n",
      "STL_Per        1593 non-null float64\n",
      "BLK_Per        1593 non-null float64\n",
      "TOV_Per        1572 non-null float64\n",
      "TS_Per         1570 non-null float64\n",
      "FT_Per         1563 non-null float64\n",
      "three_Per      1563 non-null float64\n",
      "ORB_Per        1593 non-null float64\n",
      "DRB_Per        1593 non-null float64\n",
      "TRB_Per        1593 non-null float64\n",
      "USG_Per        1593 non-null float64\n",
      "LastYearEFF    1595 non-null float64\n",
      "Quartile       1595 non-null object\n",
      "dtypes: float64(20), object(1)\n",
      "memory usage: 274.1+ KB\n"
     ]
    },
    {
     "data": {
      "text/html": [
       "<div style=\"max-height:1000px;max-width:1500px;overflow:auto;\">\n",
       "<table border=\"1\" class=\"dataframe\">\n",
       "  <thead>\n",
       "    <tr style=\"text-align: right;\">\n",
       "      <th></th>\n",
       "      <th>Age</th>\n",
       "      <th>G</th>\n",
       "      <th>MP</th>\n",
       "      <th>EFF</th>\n",
       "      <th>GmSc</th>\n",
       "      <th>PER</th>\n",
       "      <th>ORtg</th>\n",
       "      <th>DRtg</th>\n",
       "      <th>AST_Per</th>\n",
       "      <th>STL_Per</th>\n",
       "      <th>...</th>\n",
       "      <th>TOV_Per</th>\n",
       "      <th>TS_Per</th>\n",
       "      <th>FT_Per</th>\n",
       "      <th>three_Per</th>\n",
       "      <th>ORB_Per</th>\n",
       "      <th>DRB_Per</th>\n",
       "      <th>TRB_Per</th>\n",
       "      <th>USG_Per</th>\n",
       "      <th>LastYearEFF</th>\n",
       "      <th>Quartile</th>\n",
       "    </tr>\n",
       "  </thead>\n",
       "  <tbody>\n",
       "    <tr>\n",
       "      <th>0</th>\n",
       "      <td> 24</td>\n",
       "      <td>  5</td>\n",
       "      <td>  80</td>\n",
       "      <td>  5</td>\n",
       "      <td>  4.680000</td>\n",
       "      <td> 14.4</td>\n",
       "      <td> 102</td>\n",
       "      <td> 112</td>\n",
       "      <td> 14.4</td>\n",
       "      <td> 2.0</td>\n",
       "      <td>...</td>\n",
       "      <td> 15.1</td>\n",
       "      <td> 0.533</td>\n",
       "      <td> 0.286</td>\n",
       "      <td> 0.457</td>\n",
       "      <td>  2.7</td>\n",
       "      <td>  7.5</td>\n",
       "      <td>  5.0</td>\n",
       "      <td> 26.2</td>\n",
       "      <td> 0</td>\n",
       "      <td> Q1</td>\n",
       "    </tr>\n",
       "    <tr>\n",
       "      <th>1</th>\n",
       "      <td> 25</td>\n",
       "      <td>  4</td>\n",
       "      <td>   7</td>\n",
       "      <td>  1</td>\n",
       "      <td>  0.675000</td>\n",
       "      <td> 21.4</td>\n",
       "      <td> 135</td>\n",
       "      <td> 106</td>\n",
       "      <td> 25.8</td>\n",
       "      <td> 0.0</td>\n",
       "      <td>...</td>\n",
       "      <td>  0.0</td>\n",
       "      <td> 0.500</td>\n",
       "      <td> 0.000</td>\n",
       "      <td> 0.000</td>\n",
       "      <td> 16.7</td>\n",
       "      <td> 16.4</td>\n",
       "      <td> 16.6</td>\n",
       "      <td> 13.2</td>\n",
       "      <td>-1</td>\n",
       "      <td> Q1</td>\n",
       "    </tr>\n",
       "    <tr>\n",
       "      <th>0</th>\n",
       "      <td> 23</td>\n",
       "      <td>  6</td>\n",
       "      <td>  50</td>\n",
       "      <td>  2</td>\n",
       "      <td>  1.066667</td>\n",
       "      <td>  5.8</td>\n",
       "      <td>  89</td>\n",
       "      <td> 111</td>\n",
       "      <td> 11.8</td>\n",
       "      <td> 0.0</td>\n",
       "      <td>...</td>\n",
       "      <td>  9.1</td>\n",
       "      <td> 0.419</td>\n",
       "      <td> 0.440</td>\n",
       "      <td> 0.400</td>\n",
       "      <td>  0.0</td>\n",
       "      <td> 13.8</td>\n",
       "      <td>  6.7</td>\n",
       "      <td> 31.2</td>\n",
       "      <td> 0</td>\n",
       "      <td> Q1</td>\n",
       "    </tr>\n",
       "    <tr>\n",
       "      <th>1</th>\n",
       "      <td> 24</td>\n",
       "      <td> 13</td>\n",
       "      <td> 444</td>\n",
       "      <td> 13</td>\n",
       "      <td> 10.407692</td>\n",
       "      <td> 15.5</td>\n",
       "      <td> 109</td>\n",
       "      <td> 111</td>\n",
       "      <td> 18.5</td>\n",
       "      <td> 0.6</td>\n",
       "      <td>...</td>\n",
       "      <td> 13.2</td>\n",
       "      <td> 0.573</td>\n",
       "      <td> 0.271</td>\n",
       "      <td> 0.376</td>\n",
       "      <td>  1.1</td>\n",
       "      <td>  7.8</td>\n",
       "      <td>  4.5</td>\n",
       "      <td> 23.7</td>\n",
       "      <td> 1</td>\n",
       "      <td> Q1</td>\n",
       "    </tr>\n",
       "    <tr>\n",
       "      <th>2</th>\n",
       "      <td> 30</td>\n",
       "      <td> 12</td>\n",
       "      <td> 132</td>\n",
       "      <td>  2</td>\n",
       "      <td>  1.758333</td>\n",
       "      <td>  6.8</td>\n",
       "      <td>  85</td>\n",
       "      <td> 104</td>\n",
       "      <td> 14.9</td>\n",
       "      <td> 1.2</td>\n",
       "      <td>...</td>\n",
       "      <td> 12.3</td>\n",
       "      <td> 0.421</td>\n",
       "      <td> 0.115</td>\n",
       "      <td> 0.426</td>\n",
       "      <td>  2.5</td>\n",
       "      <td> 12.2</td>\n",
       "      <td>  7.5</td>\n",
       "      <td> 25.2</td>\n",
       "      <td>-1</td>\n",
       "      <td> Q1</td>\n",
       "    </tr>\n",
       "  </tbody>\n",
       "</table>\n",
       "<p>5 rows × 21 columns</p>\n",
       "</div>"
      ],
      "text/plain": [
       "   Age   G   MP  EFF       GmSc   PER  ORtg  DRtg  AST_Per  STL_Per    ...     \\\n",
       "0   24   5   80    5   4.680000  14.4   102   112     14.4      2.0    ...      \n",
       "1   25   4    7    1   0.675000  21.4   135   106     25.8      0.0    ...      \n",
       "0   23   6   50    2   1.066667   5.8    89   111     11.8      0.0    ...      \n",
       "1   24  13  444   13  10.407692  15.5   109   111     18.5      0.6    ...      \n",
       "2   30  12  132    2   1.758333   6.8    85   104     14.9      1.2    ...      \n",
       "\n",
       "   TOV_Per  TS_Per  FT_Per  three_Per  ORB_Per  DRB_Per  TRB_Per  USG_Per  \\\n",
       "0     15.1   0.533   0.286      0.457      2.7      7.5      5.0     26.2   \n",
       "1      0.0   0.500   0.000      0.000     16.7     16.4     16.6     13.2   \n",
       "0      9.1   0.419   0.440      0.400      0.0     13.8      6.7     31.2   \n",
       "1     13.2   0.573   0.271      0.376      1.1      7.8      4.5     23.7   \n",
       "2     12.3   0.421   0.115      0.426      2.5     12.2      7.5     25.2   \n",
       "\n",
       "   LastYearEFF  Quartile  \n",
       "0            0        Q1  \n",
       "1           -1        Q1  \n",
       "0            0        Q1  \n",
       "1            1        Q1  \n",
       "2           -1        Q1  \n",
       "\n",
       "[5 rows x 21 columns]"
      ]
     },
     "execution_count": 20,
     "metadata": {},
     "output_type": "execute_result"
    }
   ],
   "source": [
    "#df_Playoffs_output = df_Playoffs_result[Feature_list]\n",
    "df_Playoffs_output.fillna(0)\n",
    "df_Playoffs_output.info()\n",
    "df_Playoffs_output.head(5)"
   ]
  },
  {
   "cell_type": "markdown",
   "metadata": {},
   "source": [
    "###Output DataFrame to CSV"
   ]
  },
  {
   "cell_type": "code",
   "execution_count": 21,
   "metadata": {
    "collapsed": true
   },
   "outputs": [],
   "source": [
    "def Output_CSV(output_df,location):    \n",
    "    output_file = open(location, \"ab\")\n",
    "    output_df.to_csv(output_file,index=False)\n",
    "    output_file.close()"
   ]
  },
  {
   "cell_type": "code",
   "execution_count": 22,
   "metadata": {
    "collapsed": false
   },
   "outputs": [],
   "source": [
    "Season_location = \"e:\\\\nba\\\\Season_Weka.csv\"\n",
    "Playoffs_location = \"e:\\\\nba\\\\Playoffs_Weka.csv\"\n",
    "\n",
    "Output_CSV(df_Season_output,Season_location)\n",
    "Output_CSV(df_Playoffs_output,Playoffs_location)"
   ]
  },
  {
   "cell_type": "code",
   "execution_count": null,
   "metadata": {
    "collapsed": true
   },
   "outputs": [],
   "source": []
  }
 ],
 "metadata": {
  "kernelspec": {
   "display_name": "Python 2",
   "language": "python",
   "name": "python2"
  },
  "language_info": {
   "codemirror_mode": {
    "name": "ipython",
    "version": 2
   },
   "file_extension": ".py",
   "mimetype": "text/x-python",
   "name": "python",
   "nbconvert_exporter": "python",
   "pygments_lexer": "ipython2",
   "version": "2.7.7"
  }
 },
 "nbformat": 4,
 "nbformat_minor": 0
}
